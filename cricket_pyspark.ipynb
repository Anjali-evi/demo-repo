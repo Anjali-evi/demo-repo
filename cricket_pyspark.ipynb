{
  "nbformat": 4,
  "nbformat_minor": 0,
  "metadata": {
    "colab": {
      "name": "cricket_pyspark.ipynb",
      "provenance": [],
      "collapsed_sections": [],
      "mount_file_id": "1rccA2RCMfF1_E0JS30K5KutFIOTGoxov",
      "authorship_tag": "ABX9TyPOQkrBBXuI0Y4OPvRaLJ5E",
      "include_colab_link": true
    },
    "kernelspec": {
      "name": "python3",
      "display_name": "Python 3"
    },
    "language_info": {
      "name": "python"
    }
  },
  "cells": [
    {
      "cell_type": "markdown",
      "metadata": {
        "id": "view-in-github",
        "colab_type": "text"
      },
      "source": [
        "<a href=\"https://colab.research.google.com/github/Anjali-evi/demo-repo/blob/main/cricket_pyspark.ipynb\" target=\"_parent\"><img src=\"https://colab.research.google.com/assets/colab-badge.svg\" alt=\"Open In Colab\"/></a>"
      ]
    },
    {
      "cell_type": "code",
      "execution_count": null,
      "metadata": {
        "colab": {
          "base_uri": "https://localhost:8080/"
        },
        "id": "9f54GaVLolgt",
        "outputId": "64253023-b225-4697-ff19-f04430aac18e"
      },
      "outputs": [
        {
          "output_type": "stream",
          "name": "stdout",
          "text": [
            "Requirement already satisfied: pyspark in /usr/local/lib/python3.7/dist-packages (3.2.1)\n",
            "Requirement already satisfied: py4j==0.10.9.3 in /usr/local/lib/python3.7/dist-packages (from pyspark) (0.10.9.3)\n"
          ]
        }
      ],
      "source": [
        "!pip install pyspark"
      ]
    },
    {
      "cell_type": "code",
      "source": [
        "import pandas as pd\n",
        "from pyspark.sql import SparkSession\n",
        "spark = SparkSession.builder.appName('Project').getOrCreate()\n",
        "spark "
      ],
      "metadata": {
        "id": "09GbNotyo-jx",
        "colab": {
          "base_uri": "https://localhost:8080/",
          "height": 219
        },
        "outputId": "01b339b7-6aa0-4039-f3a7-14ddc76f9418"
      },
      "execution_count": null,
      "outputs": [
        {
          "output_type": "execute_result",
          "data": {
            "text/plain": [
              "<pyspark.sql.session.SparkSession at 0x7ffa2f430110>"
            ],
            "text/html": [
              "\n",
              "            <div>\n",
              "                <p><b>SparkSession - in-memory</b></p>\n",
              "                \n",
              "        <div>\n",
              "            <p><b>SparkContext</b></p>\n",
              "\n",
              "            <p><a href=\"http://6fe11fda8505:4040\">Spark UI</a></p>\n",
              "\n",
              "            <dl>\n",
              "              <dt>Version</dt>\n",
              "                <dd><code>v3.2.1</code></dd>\n",
              "              <dt>Master</dt>\n",
              "                <dd><code>local[*]</code></dd>\n",
              "              <dt>AppName</dt>\n",
              "                <dd><code>Project</code></dd>\n",
              "            </dl>\n",
              "        </div>\n",
              "        \n",
              "            </div>\n",
              "        "
            ]
          },
          "metadata": {},
          "execution_count": 3
        }
      ]
    },
    {
      "cell_type": "code",
      "source": [
        "from pyspark.sql import SQLContext as sc\n",
        "\n",
        "sc=spark.sparkContext"
      ],
      "metadata": {
        "id": "0iLQYaCyqRjF"
      },
      "execution_count": null,
      "outputs": []
    },
    {
      "cell_type": "code",
      "source": [
        "!apt-get install openjdk-8-jdk-headless -qq > /dev/null\n",
        "!wget -q https://archive.apache.org/dist/spark/spark3.1.2/spark-3.1.2-bin-hadoop2.7.tgz\n",
        "!tar xf spark-3.1.2-bin-hadoop2.7.tgz"
      ],
      "metadata": {
        "id": "z2008unlssuT",
        "colab": {
          "base_uri": "https://localhost:8080/"
        },
        "outputId": "2d22a70d-b4bf-4966-f3c2-9629fadfa559"
      },
      "execution_count": null,
      "outputs": [
        {
          "output_type": "stream",
          "name": "stdout",
          "text": [
            "tar: spark-3.1.2-bin-hadoop2.7.tgz: Cannot open: No such file or directory\n",
            "tar: Error is not recoverable: exiting now\n"
          ]
        }
      ]
    },
    {
      "cell_type": "code",
      "source": [
        "import os\n",
        "os.environ[\"JAVA_HOME\"] = \"/usr/lib/jvm/java-8-openjdkamd64\"\n",
        "os.environ[\"SPARK_HOME\"] = \"/content/spark-3.1.2-binhadoop2.7\"\n"
      ],
      "metadata": {
        "id": "66zPb-oHstAv"
      },
      "execution_count": null,
      "outputs": []
    },
    {
      "cell_type": "code",
      "source": [
        "!pip install -q findspark\n",
        "import findspark\n",
        "findspark.init()\n",
        "import pyspark"
      ],
      "metadata": {
        "id": "x2E4lcs7stDH"
      },
      "execution_count": null,
      "outputs": []
    },
    {
      "cell_type": "markdown",
      "source": [
        "# Importing the csv files from the folder where this colab notebook is stored"
      ],
      "metadata": {
        "id": "9OT9sMQjrZvo"
      }
    },
    {
      "cell_type": "code",
      "source": [
        "ipl_ball_path_csv =\"/content/drive/MyDrive/cloud computing/pyspark/ipl_ball_by_ball.csv\"\n",
        "ipl_ball = spark.read.format('csv').load(ipl_ball_path_csv)"
      ],
      "metadata": {
        "id": "aatpvtuftji0"
      },
      "execution_count": null,
      "outputs": []
    },
    {
      "cell_type": "code",
      "source": [
        "ipl_matches_path_csv =\"/content/drive/MyDrive/cloud computing/pyspark/ipl_matches.csv\"\n",
        "ipl_matches = spark.read.format('csv').load(ipl_matches_path_csv)"
      ],
      "metadata": {
        "id": "atctThivxRUl"
      },
      "execution_count": null,
      "outputs": []
    },
    {
      "cell_type": "code",
      "source": [
        "ipl_venue_path_csv =\"/content/drive/MyDrive/cloud computing/pyspark/ipl_venue.csv\"\n",
        "ipl_venue = spark.read.format('csv').load(ipl_venue_path_csv)"
      ],
      "metadata": {
        "id": "tFcvbjsxxSWs"
      },
      "execution_count": null,
      "outputs": []
    },
    {
      "cell_type": "code",
      "source": [
        "ipl_ball.show(5)"
      ],
      "metadata": {
        "colab": {
          "base_uri": "https://localhost:8080/"
        },
        "id": "yaP5Dvwbzt_Q",
        "outputId": "7cfcc850-82a0-46d5-87c2-94c551366026"
      },
      "execution_count": null,
      "outputs": [
        {
          "output_type": "stream",
          "name": "stdout",
          "text": [
            "+--------+------+-----+----+-------------+-------------+------------+------------+----------+----------+------------+---------+--------------+----------------+-------+-----------+--------------------+--------------+\n",
            "|     _c0|   _c1|  _c2| _c3|          _c4|          _c5|         _c6|         _c7|       _c8|       _c9|        _c10|     _c11|          _c12|            _c13|   _c14|       _c15|                _c16|          _c17|\n",
            "+--------+------+-----+----+-------------+-------------+------------+------------+----------+----------+------------+---------+--------------+----------------+-------+-----------+--------------------+--------------+\n",
            "|match_id|inning|overs|ball|      batsman|  non_striker|      bowler|batsman_runs|extra_runs|total_runs|non_boundary|is_wicket|dismissal_kind|player_dismissed|fielder|extras_type|        batting_team|  bowling_team|\n",
            "|  419157|     2|   16|   4|      V Kohli|R Vinay Kumar|CRD Fernando|           0|         0|         0|           0|        0|            NA|              NA|     NA|         NA|Royal Challengers...|Mumbai Indians|\n",
            "|  419157|     2|   16|   5|      V Kohli|R Vinay Kumar|CRD Fernando|           1|         0|         1|           0|        0|            NA|              NA|     NA|         NA|Royal Challengers...|Mumbai Indians|\n",
            "|  419157|     2|   16|   6|R Vinay Kumar|      V Kohli|CRD Fernando|           1|         0|         1|           0|        0|            NA|              NA|     NA|         NA|Royal Challengers...|Mumbai Indians|\n",
            "|  419157|     2|   17|   1|R Vinay Kumar|      V Kohli|   R McLaren|           1|         0|         1|           0|        0|            NA|              NA|     NA|         NA|Royal Challengers...|Mumbai Indians|\n",
            "+--------+------+-----+----+-------------+-------------+------------+------------+----------+----------+------------+---------+--------------+----------------+-------+-----------+--------------------+--------------+\n",
            "only showing top 5 rows\n",
            "\n"
          ]
        }
      ]
    },
    {
      "cell_type": "code",
      "source": [
        "ipl_matches.show(5)"
      ],
      "metadata": {
        "colab": {
          "base_uri": "https://localhost:8080/"
        },
        "id": "Rhk3mOF3zzEz",
        "outputId": "7f67577a-70da-45f6-d22d-6d75a2e1c625"
      },
      "execution_count": null,
      "outputs": [
        {
          "output_type": "stream",
          "name": "stdout",
          "text": [
            "+--------+----------+---------------+--------+-------------+--------------------+--------------------+--------------------+-------------+--------------------+-------+-------------+----------+------+---------+--------------+\n",
            "|     _c0|       _c1|            _c2|     _c3|          _c4|                 _c5|                 _c6|                 _c7|          _c8|                 _c9|   _c10|         _c11|      _c12|  _c13|     _c14|          _c15|\n",
            "+--------+----------+---------------+--------+-------------+--------------------+--------------------+--------------------+-------------+--------------------+-------+-------------+----------+------+---------+--------------+\n",
            "|match_id|      date|player_of_match|venue_id|neutral_venue|               team1|               team2|         toss_winner|toss_decision|              winner| result|result_margin|eliminator|method|  umpire1|       umpire2|\n",
            "|  335982|2008-04-18|    BB McCullum|      35|            0|Royal Challengers...|Kolkata Knight Ri...|Royal Challengers...|        field|Kolkata Knight Ri...|   runs|          140|         N|    NA|Asad Rauf|   RE Koertzen|\n",
            "|  335983|2008-04-19|     MEK Hussey|      31|            0|     Kings XI Punjab| Chennai Super Kings| Chennai Super Kings|          bat| Chennai Super Kings|   runs|           33|         N|    NA|MR Benson|    SL Shastri|\n",
            "|  335984|2008-04-19|    MF Maharoof|      27|            0|    Delhi Daredevils|    Rajasthan Royals|    Rajasthan Royals|          bat|    Delhi Daredevils|wickets|            9|         N|    NA|Aleem Dar|GA Pratapkumar|\n",
            "|  335985|2008-04-20|     MV Boucher|      14|            0|      Mumbai Indians|Royal Challengers...|      Mumbai Indians|          bat|Royal Challengers...|wickets|            5|         N|    NA| SJ Davis|     DJ Harper|\n",
            "+--------+----------+---------------+--------+-------------+--------------------+--------------------+--------------------+-------------+--------------------+-------+-------------+----------+------+---------+--------------+\n",
            "only showing top 5 rows\n",
            "\n"
          ]
        }
      ]
    },
    {
      "cell_type": "code",
      "source": [
        "ipl_venue.show(5)"
      ],
      "metadata": {
        "colab": {
          "base_uri": "https://localhost:8080/"
        },
        "id": "g8YWI42Dz3hT",
        "outputId": "76c4c65b-ded9-4f57-b1d3-c275ec99ae62"
      },
      "execution_count": null,
      "outputs": [
        {
          "output_type": "stream",
          "name": "stdout",
          "text": [
            "+--------+--------------------+-------------+\n",
            "|     _c0|                 _c1|          _c2|\n",
            "+--------+--------------------+-------------+\n",
            "|venue_id|               venue|         city|\n",
            "|       1|Dr. Y.S. Rajasekh...|Visakhapatnam|\n",
            "|       2|Sharjah Cricket S...|      Sharjah|\n",
            "|       3|JSCA Internationa...|       Ranchi|\n",
            "|       4|Saurashtra Cricke...|       Rajkot|\n",
            "+--------+--------------------+-------------+\n",
            "only showing top 5 rows\n",
            "\n"
          ]
        }
      ]
    },
    {
      "cell_type": "code",
      "source": [
        "spark.read.option('header','True').csv(ipl_ball_path_csv)"
      ],
      "metadata": {
        "colab": {
          "base_uri": "https://localhost:8080/"
        },
        "id": "yNbdGip0z5tA",
        "outputId": "916df5f7-2999-4477-ac9e-90fc41ac0815"
      },
      "execution_count": null,
      "outputs": [
        {
          "output_type": "execute_result",
          "data": {
            "text/plain": [
              "DataFrame[match_id: string, inning: string, overs: string, ball: string, batsman: string, non_striker: string, bowler: string, batsman_runs: string, extra_runs: string, total_runs: string, non_boundary: string, is_wicket: string, dismissal_kind: string, player_dismissed: string, fielder: string, extras_type: string, batting_team: string, bowling_team: string]"
            ]
          },
          "metadata": {},
          "execution_count": 16
        }
      ]
    },
    {
      "cell_type": "code",
      "source": [
        "spark.read.option('header','True').csv(ipl_matches_path_csv)"
      ],
      "metadata": {
        "colab": {
          "base_uri": "https://localhost:8080/"
        },
        "id": "DGlEDzxE0fM1",
        "outputId": "7bd3aa1b-b3cb-47d8-8a57-6f5d6e0d070b"
      },
      "execution_count": null,
      "outputs": [
        {
          "output_type": "execute_result",
          "data": {
            "text/plain": [
              "DataFrame[match_id: string, date: string, player_of_match: string, venue_id: string, neutral_venue: string, team1: string, team2: string, toss_winner: string, toss_decision: string, winner: string, result: string, result_margin: string, eliminator: string, method: string, umpire1: string, umpire2: string]"
            ]
          },
          "metadata": {},
          "execution_count": 17
        }
      ]
    },
    {
      "cell_type": "code",
      "source": [
        "spark.read.option('header','True').csv(ipl_venue_path_csv)"
      ],
      "metadata": {
        "colab": {
          "base_uri": "https://localhost:8080/"
        },
        "id": "M8SBHEAw0tnt",
        "outputId": "09853325-92e3-41b5-bd59-655636f1dc0e"
      },
      "execution_count": null,
      "outputs": [
        {
          "output_type": "execute_result",
          "data": {
            "text/plain": [
              "DataFrame[venue_id: string, venue: string, city: string]"
            ]
          },
          "metadata": {},
          "execution_count": 18
        }
      ]
    },
    {
      "cell_type": "code",
      "source": [
        "type(ipl_ball)"
      ],
      "metadata": {
        "colab": {
          "base_uri": "https://localhost:8080/"
        },
        "id": "otbunujJ08Ik",
        "outputId": "3fd8963c-fc3a-4c24-9b82-90a70e4e2378"
      },
      "execution_count": null,
      "outputs": [
        {
          "output_type": "execute_result",
          "data": {
            "text/plain": [
              "pyspark.sql.dataframe.DataFrame"
            ]
          },
          "metadata": {},
          "execution_count": 27
        }
      ]
    },
    {
      "cell_type": "code",
      "source": [
        "type(ipl_matches)"
      ],
      "metadata": {
        "colab": {
          "base_uri": "https://localhost:8080/"
        },
        "id": "B3Hm_ZL41EA4",
        "outputId": "7c32bcdb-2454-4238-85cd-9390984dc3c5"
      },
      "execution_count": null,
      "outputs": [
        {
          "output_type": "execute_result",
          "data": {
            "text/plain": [
              "pyspark.sql.dataframe.DataFrame"
            ]
          },
          "metadata": {},
          "execution_count": 28
        }
      ]
    },
    {
      "cell_type": "code",
      "source": [
        "type(ipl_venue)"
      ],
      "metadata": {
        "colab": {
          "base_uri": "https://localhost:8080/"
        },
        "id": "GKq5YGeh1Jvd",
        "outputId": "36d25728-a98b-4dbc-91f4-3c8d940205e4"
      },
      "execution_count": null,
      "outputs": [
        {
          "output_type": "execute_result",
          "data": {
            "text/plain": [
              "pyspark.sql.dataframe.DataFrame"
            ]
          },
          "metadata": {},
          "execution_count": 29
        }
      ]
    },
    {
      "cell_type": "code",
      "source": [
        "ipl_ball.head(3)"
      ],
      "metadata": {
        "colab": {
          "base_uri": "https://localhost:8080/"
        },
        "id": "rNk7-RGR1LBz",
        "outputId": "1458f500-1dc4-45ad-e8f9-5b1689620a9e"
      },
      "execution_count": null,
      "outputs": [
        {
          "output_type": "execute_result",
          "data": {
            "text/plain": [
              "[Row(_c0='match_id', _c1='inning', _c2='overs', _c3='ball', _c4='batsman', _c5='non_striker', _c6='bowler', _c7='batsman_runs', _c8='extra_runs', _c9='total_runs', _c10='non_boundary', _c11='is_wicket', _c12='dismissal_kind', _c13='player_dismissed', _c14='fielder', _c15='extras_type', _c16='batting_team', _c17='bowling_team'),\n",
              " Row(_c0='419157', _c1='2', _c2='16', _c3='4', _c4='V Kohli', _c5='R Vinay Kumar', _c6='CRD Fernando', _c7='0', _c8='0', _c9='0', _c10='0', _c11='0', _c12='NA', _c13='NA', _c14='NA', _c15='NA', _c16='Royal Challengers Bangalore', _c17='Mumbai Indians'),\n",
              " Row(_c0='419157', _c1='2', _c2='16', _c3='5', _c4='V Kohli', _c5='R Vinay Kumar', _c6='CRD Fernando', _c7='1', _c8='0', _c9='1', _c10='0', _c11='0', _c12='NA', _c13='NA', _c14='NA', _c15='NA', _c16='Royal Challengers Bangalore', _c17='Mumbai Indians')]"
            ]
          },
          "metadata": {},
          "execution_count": 57
        }
      ]
    },
    {
      "cell_type": "code",
      "source": [
        "ipl_matches.head(3)"
      ],
      "metadata": {
        "colab": {
          "base_uri": "https://localhost:8080/"
        },
        "id": "FOaZpl781RmJ",
        "outputId": "e307e7dc-1481-4953-eae3-1880fd584bd6"
      },
      "execution_count": null,
      "outputs": [
        {
          "output_type": "execute_result",
          "data": {
            "text/plain": [
              "[Row(_c0='match_id', _c1='date', _c2='player_of_match', _c3='venue_id', _c4='neutral_venue', _c5='team1', _c6='team2', _c7='toss_winner', _c8='toss_decision', _c9='winner', _c10='result', _c11='result_margin', _c12='eliminator', _c13='method', _c14='umpire1', _c15='umpire2'),\n",
              " Row(_c0='335982', _c1='2008-04-18', _c2='BB McCullum', _c3='35', _c4='0', _c5='Royal Challengers Bangalore', _c6='Kolkata Knight Riders', _c7='Royal Challengers Bangalore', _c8='field', _c9='Kolkata Knight Riders', _c10='runs', _c11='140', _c12='N', _c13='NA', _c14='Asad Rauf', _c15='RE Koertzen'),\n",
              " Row(_c0='335983', _c1='2008-04-19', _c2='MEK Hussey', _c3='31', _c4='0', _c5='Kings XI Punjab', _c6='Chennai Super Kings', _c7='Chennai Super Kings', _c8='bat', _c9='Chennai Super Kings', _c10='runs', _c11='33', _c12='N', _c13='NA', _c14='MR Benson', _c15='SL Shastri')]"
            ]
          },
          "metadata": {},
          "execution_count": 58
        }
      ]
    },
    {
      "cell_type": "code",
      "source": [
        "ipl_venue.head(3)"
      ],
      "metadata": {
        "colab": {
          "base_uri": "https://localhost:8080/"
        },
        "id": "-wZWnb171Xyh",
        "outputId": "b621dbf1-2c73-471b-a33d-50c821b8b2ce"
      },
      "execution_count": null,
      "outputs": [
        {
          "output_type": "execute_result",
          "data": {
            "text/plain": [
              "[Row(_c0='venue_id', _c1='venue', _c2='city'),\n",
              " Row(_c0='1', _c1='Dr. Y.S. Rajasekhara Reddy ACA-VDCA Cricket Stadium', _c2='Visakhapatnam'),\n",
              " Row(_c0='2', _c1='Sharjah Cricket Stadium', _c2='Sharjah')]"
            ]
          },
          "metadata": {},
          "execution_count": 59
        }
      ]
    },
    {
      "cell_type": "code",
      "source": [
        "ipl_ball.printSchema()"
      ],
      "metadata": {
        "colab": {
          "base_uri": "https://localhost:8080/"
        },
        "id": "p5BKUc771aZz",
        "outputId": "b9a99040-ab99-4109-a60f-6d106631e003"
      },
      "execution_count": null,
      "outputs": [
        {
          "output_type": "stream",
          "name": "stdout",
          "text": [
            "root\n",
            " |-- _c0: string (nullable = true)\n",
            " |-- _c1: string (nullable = true)\n",
            " |-- _c2: string (nullable = true)\n",
            " |-- _c3: string (nullable = true)\n",
            " |-- _c4: string (nullable = true)\n",
            " |-- _c5: string (nullable = true)\n",
            " |-- _c6: string (nullable = true)\n",
            " |-- _c7: string (nullable = true)\n",
            " |-- _c8: string (nullable = true)\n",
            " |-- _c9: string (nullable = true)\n",
            " |-- _c10: string (nullable = true)\n",
            " |-- _c11: string (nullable = true)\n",
            " |-- _c12: string (nullable = true)\n",
            " |-- _c13: string (nullable = true)\n",
            " |-- _c14: string (nullable = true)\n",
            " |-- _c15: string (nullable = true)\n",
            " |-- _c16: string (nullable = true)\n",
            " |-- _c17: string (nullable = true)\n",
            "\n"
          ]
        }
      ]
    },
    {
      "cell_type": "code",
      "source": [
        "ipl_matches.printSchema()"
      ],
      "metadata": {
        "colab": {
          "base_uri": "https://localhost:8080/"
        },
        "id": "gQll7KqM1iI_",
        "outputId": "47feca7f-2ce2-4da7-f4c6-a2e87930834f"
      },
      "execution_count": null,
      "outputs": [
        {
          "output_type": "stream",
          "name": "stdout",
          "text": [
            "root\n",
            " |-- _c0: string (nullable = true)\n",
            " |-- _c1: string (nullable = true)\n",
            " |-- _c2: string (nullable = true)\n",
            " |-- _c3: string (nullable = true)\n",
            " |-- _c4: string (nullable = true)\n",
            " |-- _c5: string (nullable = true)\n",
            " |-- _c6: string (nullable = true)\n",
            " |-- _c7: string (nullable = true)\n",
            " |-- _c8: string (nullable = true)\n",
            " |-- _c9: string (nullable = true)\n",
            " |-- _c10: string (nullable = true)\n",
            " |-- _c11: string (nullable = true)\n",
            " |-- _c12: string (nullable = true)\n",
            " |-- _c13: string (nullable = true)\n",
            " |-- _c14: string (nullable = true)\n",
            " |-- _c15: string (nullable = true)\n",
            "\n"
          ]
        }
      ]
    },
    {
      "cell_type": "code",
      "source": [
        "ipl_venue.printSchema()"
      ],
      "metadata": {
        "colab": {
          "base_uri": "https://localhost:8080/"
        },
        "id": "lSlkQDF41ltP",
        "outputId": "fac3bc73-a13b-4b4b-b04e-91f991cf84d0"
      },
      "execution_count": null,
      "outputs": [
        {
          "output_type": "stream",
          "name": "stdout",
          "text": [
            "root\n",
            " |-- _c0: string (nullable = true)\n",
            " |-- _c1: string (nullable = true)\n",
            " |-- _c2: string (nullable = true)\n",
            "\n"
          ]
        }
      ]
    },
    {
      "cell_type": "code",
      "source": [
        "# read the dataset\n",
        "ipl_ball_ = spark.read.csv(ipl_ball_path_csv, header = True, inferSchema = True)\n",
        "ipl_ball_.show(5)\n",
        "# similarly we can read all the csv using read.csv method\n",
        "type(ipl_ball_)          # this is the pyspark DataFrame"
      ],
      "metadata": {
        "colab": {
          "base_uri": "https://localhost:8080/"
        },
        "id": "XSqCbSK112El",
        "outputId": "5d75dea2-3a5e-43cb-dc3e-2962154823ef"
      },
      "execution_count": null,
      "outputs": [
        {
          "output_type": "stream",
          "name": "stdout",
          "text": [
            "+--------+------+-----+----+-------------+-------------+------------+------------+----------+----------+------------+---------+--------------+----------------+-------+-----------+--------------------+--------------+\n",
            "|match_id|inning|overs|ball|      batsman|  non_striker|      bowler|batsman_runs|extra_runs|total_runs|non_boundary|is_wicket|dismissal_kind|player_dismissed|fielder|extras_type|        batting_team|  bowling_team|\n",
            "+--------+------+-----+----+-------------+-------------+------------+------------+----------+----------+------------+---------+--------------+----------------+-------+-----------+--------------------+--------------+\n",
            "|  419157|     2|   16|   4|      V Kohli|R Vinay Kumar|CRD Fernando|           0|         0|         0|           0|        0|            NA|              NA|     NA|         NA|Royal Challengers...|Mumbai Indians|\n",
            "|  419157|     2|   16|   5|      V Kohli|R Vinay Kumar|CRD Fernando|           1|         0|         1|           0|        0|            NA|              NA|     NA|         NA|Royal Challengers...|Mumbai Indians|\n",
            "|  419157|     2|   16|   6|R Vinay Kumar|      V Kohli|CRD Fernando|           1|         0|         1|           0|        0|            NA|              NA|     NA|         NA|Royal Challengers...|Mumbai Indians|\n",
            "|  419157|     2|   17|   1|R Vinay Kumar|      V Kohli|   R McLaren|           1|         0|         1|           0|        0|            NA|              NA|     NA|         NA|Royal Challengers...|Mumbai Indians|\n",
            "|  419157|     2|   17|   2|      V Kohli|R Vinay Kumar|   R McLaren|           1|         0|         1|           0|        0|            NA|              NA|     NA|         NA|Royal Challengers...|Mumbai Indians|\n",
            "+--------+------+-----+----+-------------+-------------+------------+------------+----------+----------+------------+---------+--------------+----------------+-------+-----------+--------------------+--------------+\n",
            "only showing top 5 rows\n",
            "\n"
          ]
        },
        {
          "output_type": "execute_result",
          "data": {
            "text/plain": [
              "pyspark.sql.dataframe.DataFrame"
            ]
          },
          "metadata": {},
          "execution_count": 19
        }
      ]
    },
    {
      "cell_type": "code",
      "source": [
        "ipl_matches_ = spark.read.csv(ipl_matches_path_csv, header = True, inferSchema = True)\n",
        "ipl_matches_.show(5)\n",
        "type(ipl_matches_)      # this is the pyspark DataFrame"
      ],
      "metadata": {
        "colab": {
          "base_uri": "https://localhost:8080/"
        },
        "id": "vl8PVSTz3Gna",
        "outputId": "69dc48f6-197d-412a-a46d-c57dee7560d9"
      },
      "execution_count": null,
      "outputs": [
        {
          "output_type": "stream",
          "name": "stdout",
          "text": [
            "+--------+----------+---------------+--------+-------------+--------------------+--------------------+--------------------+-------------+--------------------+-------+-------------+----------+------+---------+--------------+\n",
            "|match_id|      date|player_of_match|venue_id|neutral_venue|               team1|               team2|         toss_winner|toss_decision|              winner| result|result_margin|eliminator|method|  umpire1|       umpire2|\n",
            "+--------+----------+---------------+--------+-------------+--------------------+--------------------+--------------------+-------------+--------------------+-------+-------------+----------+------+---------+--------------+\n",
            "|  335982|2008-04-18|    BB McCullum|      35|            0|Royal Challengers...|Kolkata Knight Ri...|Royal Challengers...|        field|Kolkata Knight Ri...|   runs|          140|         N|    NA|Asad Rauf|   RE Koertzen|\n",
            "|  335983|2008-04-19|     MEK Hussey|      31|            0|     Kings XI Punjab| Chennai Super Kings| Chennai Super Kings|          bat| Chennai Super Kings|   runs|           33|         N|    NA|MR Benson|    SL Shastri|\n",
            "|  335984|2008-04-19|    MF Maharoof|      27|            0|    Delhi Daredevils|    Rajasthan Royals|    Rajasthan Royals|          bat|    Delhi Daredevils|wickets|            9|         N|    NA|Aleem Dar|GA Pratapkumar|\n",
            "|  335985|2008-04-20|     MV Boucher|      14|            0|      Mumbai Indians|Royal Challengers...|      Mumbai Indians|          bat|Royal Challengers...|wickets|            5|         N|    NA| SJ Davis|     DJ Harper|\n",
            "|  335986|2008-04-20|      DJ Hussey|      15|            0|Kolkata Knight Ri...|     Deccan Chargers|     Deccan Chargers|          bat|Kolkata Knight Ri...|wickets|            5|         N|    NA|BF Bowden|   K Hariharan|\n",
            "+--------+----------+---------------+--------+-------------+--------------------+--------------------+--------------------+-------------+--------------------+-------+-------------+----------+------+---------+--------------+\n",
            "only showing top 5 rows\n",
            "\n"
          ]
        },
        {
          "output_type": "execute_result",
          "data": {
            "text/plain": [
              "pyspark.sql.dataframe.DataFrame"
            ]
          },
          "metadata": {},
          "execution_count": 20
        }
      ]
    },
    {
      "cell_type": "code",
      "source": [
        "ipl_venue_ = spark.read.csv(ipl_venue_path_csv, header = True, inferSchema = True)\n",
        "ipl_venue_.show(5)\n",
        "type(ipl_venue_)           # this is the pyspark DataFrame"
      ],
      "metadata": {
        "colab": {
          "base_uri": "https://localhost:8080/"
        },
        "id": "4ILtyY9P3jCx",
        "outputId": "062a02f9-cece-45db-c474-bef68aa48a74"
      },
      "execution_count": null,
      "outputs": [
        {
          "output_type": "stream",
          "name": "stdout",
          "text": [
            "+--------+--------------------+-------------+\n",
            "|venue_id|               venue|         city|\n",
            "+--------+--------------------+-------------+\n",
            "|       1|Dr. Y.S. Rajasekh...|Visakhapatnam|\n",
            "|       2|Sharjah Cricket S...|      Sharjah|\n",
            "|       3|JSCA Internationa...|       Ranchi|\n",
            "|       4|Saurashtra Cricke...|       Rajkot|\n",
            "|       5|Shaheed Veer Nara...|       Raipur|\n",
            "+--------+--------------------+-------------+\n",
            "only showing top 5 rows\n",
            "\n"
          ]
        },
        {
          "output_type": "execute_result",
          "data": {
            "text/plain": [
              "pyspark.sql.dataframe.DataFrame"
            ]
          },
          "metadata": {},
          "execution_count": 21
        }
      ]
    },
    {
      "cell_type": "markdown",
      "source": [
        "Before applying 'select' mthod, we have to make sure that the type of the frame is 'pyspark.sql.dataframe.DataFrame' \n",
        "Else it will throw an error"
      ],
      "metadata": {
        "id": "tNCT_AkX4Nwn"
      }
    },
    {
      "cell_type": "code",
      "source": [
        "ipl_ball_.select('batsman').show()"
      ],
      "metadata": {
        "colab": {
          "base_uri": "https://localhost:8080/"
        },
        "id": "S0fNpP0v3uik",
        "outputId": "256d35ca-57bb-4dec-969b-c8a8974be7ab"
      },
      "execution_count": null,
      "outputs": [
        {
          "output_type": "stream",
          "name": "stdout",
          "text": [
            "+-------------+\n",
            "|      batsman|\n",
            "+-------------+\n",
            "|      V Kohli|\n",
            "|      V Kohli|\n",
            "|R Vinay Kumar|\n",
            "|R Vinay Kumar|\n",
            "|      V Kohli|\n",
            "|R Vinay Kumar|\n",
            "|R Vinay Kumar|\n",
            "|R Vinay Kumar|\n",
            "|      V Kohli|\n",
            "|      V Kohli|\n",
            "|      V Kohli|\n",
            "|R Vinay Kumar|\n",
            "|R Vinay Kumar|\n",
            "| Pankaj Singh|\n",
            "|R Vinay Kumar|\n",
            "| Pankaj Singh|\n",
            "|     A Kumble|\n",
            "|    R McLaren|\n",
            "| SR Tendulkar|\n",
            "| SR Tendulkar|\n",
            "+-------------+\n",
            "only showing top 20 rows\n",
            "\n"
          ]
        }
      ]
    },
    {
      "cell_type": "code",
      "source": [
        "ipl_matches_.select('player_of_match').show()"
      ],
      "metadata": {
        "colab": {
          "base_uri": "https://localhost:8080/"
        },
        "id": "lx6QIqkh4IeD",
        "outputId": "cebcf6da-9a1b-4470-89f0-356e359f16f8"
      },
      "execution_count": null,
      "outputs": [
        {
          "output_type": "stream",
          "name": "stdout",
          "text": [
            "+---------------+\n",
            "|player_of_match|\n",
            "+---------------+\n",
            "|    BB McCullum|\n",
            "|     MEK Hussey|\n",
            "|    MF Maharoof|\n",
            "|     MV Boucher|\n",
            "|      DJ Hussey|\n",
            "|      SR Watson|\n",
            "|       V Sehwag|\n",
            "|      ML Hayden|\n",
            "|      YK Pathan|\n",
            "|  KC Sangakkara|\n",
            "|      SR Watson|\n",
            "|       JDP Oram|\n",
            "|   AC Gilchrist|\n",
            "|      SM Katich|\n",
            "|       MS Dhoni|\n",
            "|  ST Jayasuriya|\n",
            "|     GD McGrath|\n",
            "|       SE Marsh|\n",
            "|    SA Asnodkar|\n",
            "|       V Sehwag|\n",
            "+---------------+\n",
            "only showing top 20 rows\n",
            "\n"
          ]
        }
      ]
    },
    {
      "cell_type": "code",
      "source": [
        "ipl_venue_.select('city').show()"
      ],
      "metadata": {
        "colab": {
          "base_uri": "https://localhost:8080/"
        },
        "id": "QlAKjCy44-dV",
        "outputId": "8965ef76-feee-4e31-bfce-cca9c0d85705"
      },
      "execution_count": null,
      "outputs": [
        {
          "output_type": "stream",
          "name": "stdout",
          "text": [
            "+--------------+\n",
            "|          city|\n",
            "+--------------+\n",
            "| Visakhapatnam|\n",
            "|       Sharjah|\n",
            "|        Ranchi|\n",
            "|        Rajkot|\n",
            "|        Raipur|\n",
            "|          Pune|\n",
            "|          Pune|\n",
            "|Port Elizabeth|\n",
            "|        Nagpur|\n",
            "|        Mumbai|\n",
            "|        Mumbai|\n",
            "|        Mumbai|\n",
            "|       Kolkata|\n",
            "|         Kochi|\n",
            "|     Kimberley|\n",
            "|        Kanpur|\n",
            "|  Johannesburg|\n",
            "|        Jaipur|\n",
            "|        Indore|\n",
            "|     Hyderabad|\n",
            "+--------------+\n",
            "only showing top 20 rows\n",
            "\n"
          ]
        }
      ]
    },
    {
      "cell_type": "code",
      "source": [
        "ipl_ball_.select(['match_id','batsman']).show()"
      ],
      "metadata": {
        "colab": {
          "base_uri": "https://localhost:8080/"
        },
        "id": "4hdm2scj5Glx",
        "outputId": "265f72fa-3eba-44c4-c204-283f588f4968"
      },
      "execution_count": null,
      "outputs": [
        {
          "output_type": "stream",
          "name": "stdout",
          "text": [
            "+--------+-------------+\n",
            "|match_id|      batsman|\n",
            "+--------+-------------+\n",
            "|  419157|      V Kohli|\n",
            "|  419157|      V Kohli|\n",
            "|  419157|R Vinay Kumar|\n",
            "|  419157|R Vinay Kumar|\n",
            "|  419157|      V Kohli|\n",
            "|  419157|R Vinay Kumar|\n",
            "|  419157|R Vinay Kumar|\n",
            "|  419157|R Vinay Kumar|\n",
            "|  419157|      V Kohli|\n",
            "|  419157|      V Kohli|\n",
            "|  419157|      V Kohli|\n",
            "|  419157|R Vinay Kumar|\n",
            "|  419157|R Vinay Kumar|\n",
            "|  419157| Pankaj Singh|\n",
            "|  419157|R Vinay Kumar|\n",
            "|  419157| Pankaj Singh|\n",
            "|  419157|     A Kumble|\n",
            "|  419157|    R McLaren|\n",
            "|  419157| SR Tendulkar|\n",
            "|  419157| SR Tendulkar|\n",
            "+--------+-------------+\n",
            "only showing top 20 rows\n",
            "\n"
          ]
        }
      ]
    },
    {
      "cell_type": "markdown",
      "source": [
        "Check datatypes of the columns in the frames"
      ],
      "metadata": {
        "id": "PChPLjbv5qCH"
      }
    },
    {
      "cell_type": "code",
      "source": [
        "ipl_ball_.dtypes"
      ],
      "metadata": {
        "colab": {
          "base_uri": "https://localhost:8080/"
        },
        "id": "XNIHjgzv5bDh",
        "outputId": "2ae22981-50bd-4d11-a12c-13e35c2d4fc7"
      },
      "execution_count": null,
      "outputs": [
        {
          "output_type": "execute_result",
          "data": {
            "text/plain": [
              "[('match_id', 'int'),\n",
              " ('inning', 'int'),\n",
              " ('overs', 'int'),\n",
              " ('ball', 'int'),\n",
              " ('batsman', 'string'),\n",
              " ('non_striker', 'string'),\n",
              " ('bowler', 'string'),\n",
              " ('batsman_runs', 'int'),\n",
              " ('extra_runs', 'int'),\n",
              " ('total_runs', 'int'),\n",
              " ('non_boundary', 'int'),\n",
              " ('is_wicket', 'int'),\n",
              " ('dismissal_kind', 'string'),\n",
              " ('player_dismissed', 'string'),\n",
              " ('fielder', 'string'),\n",
              " ('extras_type', 'string'),\n",
              " ('batting_team', 'string'),\n",
              " ('bowling_team', 'string')]"
            ]
          },
          "metadata": {},
          "execution_count": 44
        }
      ]
    },
    {
      "cell_type": "code",
      "source": [
        "ipl_matches_.dtypes"
      ],
      "metadata": {
        "colab": {
          "base_uri": "https://localhost:8080/"
        },
        "id": "Ed0ljv0N5zyO",
        "outputId": "6b1dbdde-6824-421c-999a-680876ade399"
      },
      "execution_count": null,
      "outputs": [
        {
          "output_type": "execute_result",
          "data": {
            "text/plain": [
              "[('match_id', 'int'),\n",
              " ('date', 'string'),\n",
              " ('player_of_match', 'string'),\n",
              " ('venue_id', 'int'),\n",
              " ('neutral_venue', 'int'),\n",
              " ('team1', 'string'),\n",
              " ('team2', 'string'),\n",
              " ('toss_winner', 'string'),\n",
              " ('toss_decision', 'string'),\n",
              " ('winner', 'string'),\n",
              " ('result', 'string'),\n",
              " ('result_margin', 'string'),\n",
              " ('eliminator', 'string'),\n",
              " ('method', 'string'),\n",
              " ('umpire1', 'string'),\n",
              " ('umpire2', 'string')]"
            ]
          },
          "metadata": {},
          "execution_count": 45
        }
      ]
    },
    {
      "cell_type": "code",
      "source": [
        "ipl_venue_.dtypes"
      ],
      "metadata": {
        "colab": {
          "base_uri": "https://localhost:8080/"
        },
        "id": "CP-xX9fW52-b",
        "outputId": "447eae64-c22e-4473-e98f-1cf5225afd05"
      },
      "execution_count": null,
      "outputs": [
        {
          "output_type": "execute_result",
          "data": {
            "text/plain": [
              "[('venue_id', 'int'), ('venue', 'string'), ('city', 'string')]"
            ]
          },
          "metadata": {},
          "execution_count": 46
        }
      ]
    },
    {
      "cell_type": "code",
      "source": [
        "eli = ipl_matches_.select('eliminator')"
      ],
      "metadata": {
        "id": "gIlcQqz757B3"
      },
      "execution_count": null,
      "outputs": []
    },
    {
      "cell_type": "code",
      "source": [
        "from pyspark.sql.functions import udf\n",
        "from pyspark.sql.types import LongType"
      ],
      "metadata": {
        "id": "SFQqJxQCJf_Q"
      },
      "execution_count": null,
      "outputs": []
    },
    {
      "cell_type": "markdown",
      "source": [
        "Now transforming this frame to temp table"
      ],
      "metadata": {
        "id": "tu4wzXX7Leuo"
      }
    },
    {
      "cell_type": "code",
      "source": [
        "ipl_ball_.createOrReplaceTempView('table_ball')"
      ],
      "metadata": {
        "id": "XJRpbf5oJoNy"
      },
      "execution_count": null,
      "outputs": []
    },
    {
      "cell_type": "code",
      "source": [
        "ipl_matches_.createOrReplaceTempView('table_matches')"
      ],
      "metadata": {
        "id": "xzIfhLNrLV5x"
      },
      "execution_count": null,
      "outputs": []
    },
    {
      "cell_type": "code",
      "source": [
        "ipl_venue_.createOrReplaceTempView('table_venue')"
      ],
      "metadata": {
        "id": "GhuffC6WMC-p"
      },
      "execution_count": null,
      "outputs": []
    },
    {
      "cell_type": "code",
      "source": [
        "for table in spark.catalog.listTables():\n",
        "  print(table.name)"
      ],
      "metadata": {
        "id": "VGxOZz9wMIZY",
        "colab": {
          "base_uri": "https://localhost:8080/"
        },
        "outputId": "deefcf30-cb9b-460f-a7d8-1dd8788de47c"
      },
      "execution_count": null,
      "outputs": [
        {
          "output_type": "stream",
          "name": "stdout",
          "text": [
            "table_ball\n",
            "table_matches\n",
            "table_venue\n"
          ]
        }
      ]
    },
    {
      "cell_type": "code",
      "source": [
        "from pyspark.sql.functions import sum,avg,max,min,mean,count"
      ],
      "metadata": {
        "id": "jK6NHfFBWV4V"
      },
      "execution_count": null,
      "outputs": []
    },
    {
      "cell_type": "code",
      "source": [
        "ipl_matches_.filter(ipl_matches_['eliminator'] == 'Y').show()"
      ],
      "metadata": {
        "colab": {
          "base_uri": "https://localhost:8080/"
        },
        "id": "nmCCCX7PN22S",
        "outputId": "ede49459-5e6b-44ed-dba4-a0bfc646cb3f"
      },
      "execution_count": null,
      "outputs": [
        {
          "output_type": "stream",
          "name": "stdout",
          "text": [
            "+--------+----------+---------------+--------+-------------+--------------------+--------------------+--------------------+-------------+--------------------+------+-------------+----------+------+------------+------------+\n",
            "|match_id|      date|player_of_match|venue_id|neutral_venue|               team1|               team2|         toss_winner|toss_decision|              winner|result|result_margin|eliminator|method|     umpire1|     umpire2|\n",
            "+--------+----------+---------------+--------+-------------+--------------------+--------------------+--------------------+-------------+--------------------+------+-------------+----------+------+------------+------------+\n",
            "|  392190|2009-04-23|      YK Pathan|      33|            1|Kolkata Knight Ri...|    Rajasthan Royals|Kolkata Knight Ri...|        field|    Rajasthan Royals|   tie|           NA|         Y|    NA|   MR Benson|   M Erasmus|\n",
            "|  419121|2010-03-21|       J Theron|      29|            0| Chennai Super Kings|     Kings XI Punjab| Chennai Super Kings|        field|     Kings XI Punjab|   tie|           NA|         Y|    NA| K Hariharan|   DJ Harper|\n",
            "|  598004|2013-04-07|      GH Vihari|      22|            0| Sunrisers Hyderabad|Royal Challengers...|Royal Challengers...|          bat| Sunrisers Hyderabad|   tie|           NA|         Y|    NA|AK Chaudhary|      S Ravi|\n",
            "|  598017|2013-04-16|        V Kohli|      35|            0|Royal Challengers...|    Delhi Daredevils|Royal Challengers...|        field|Royal Challengers...|   tie|           NA|         Y|    NA|   M Erasmus| VA Kulkarni|\n",
            "|  729315|2014-04-29|    JP Faulkner|      38|            1|Kolkata Knight Ri...|    Rajasthan Royals|    Rajasthan Royals|          bat|    Rajasthan Royals|   tie|           NA|         Y|    NA|   Aleem Dar|AK Chaudhary|\n",
            "|  829741|2015-04-21|       SE Marsh|      37|            0|    Rajasthan Royals|     Kings XI Punjab|     Kings XI Punjab|        field|     Kings XI Punjab|   tie|           NA|         Y|    NA|   M Erasmus|      S Ravi|\n",
            "| 1082625|2017-04-29|      KH Pandya|       4|            0|       Gujarat Lions|      Mumbai Indians|       Gujarat Lions|          bat|      Mumbai Indians|   tie|           NA|         Y|    NA|AK Chaudhary| CB Gaffaney|\n",
            "| 1175365|2019-03-30|        PP Shaw|      27|            0|      Delhi Capitals|Kolkata Knight Ri...|      Delhi Capitals|        field|      Delhi Capitals|   tie|           NA|         Y|    NA| AY Dandekar| Nitin Menon|\n",
            "| 1216493|2020-09-20|     MP Stoinis|      25|            0|      Delhi Capitals|     Kings XI Punjab|     Kings XI Punjab|        field|      Delhi Capitals|   tie|           NA|         Y|    NA|AK Chaudhary| Nitin Menon|\n",
            "| 1178426|2019-05-02|      JJ Bumrah|      14|            0|      Mumbai Indians| Sunrisers Hyderabad|      Mumbai Indians|          bat|      Mumbai Indians|   tie|           NA|         Y|    NA|   CK Nandan|      S Ravi|\n",
            "| 1216512|2020-10-18|    LH Ferguson|      38|            0|Kolkata Knight Ri...| Sunrisers Hyderabad| Sunrisers Hyderabad|        field|Kolkata Knight Ri...|   tie|           NA|         Y|    NA|   PG Pathak|      S Ravi|\n",
            "| 1216517|2020-10-18|       KL Rahul|      25|            0|      Mumbai Indians|     Kings XI Punjab|      Mumbai Indians|          bat|     Kings XI Punjab|   tie|           NA|         Y|    NA| Nitin Menon|  PR Reiffel|\n",
            "| 1216547|2020-09-28| AB de Villiers|      25|            0|Royal Challengers...|      Mumbai Indians|      Mumbai Indians|        field|Royal Challengers...|   tie|           NA|         Y|    NA| Nitin Menon|  PR Reiffel|\n",
            "+--------+----------+---------------+--------+-------------+--------------------+--------------------+--------------------+-------------+--------------------+------+-------------+----------+------+------------+------------+\n",
            "\n"
          ]
        }
      ]
    },
    {
      "cell_type": "code",
      "source": [
        "type(ipl_matches_)"
      ],
      "metadata": {
        "colab": {
          "base_uri": "https://localhost:8080/"
        },
        "id": "C7x-1cnDqMvo",
        "outputId": "91ecb675-af2d-44e7-ea3d-7eddebc40a6f"
      },
      "execution_count": null,
      "outputs": [
        {
          "output_type": "execute_result",
          "data": {
            "text/plain": [
              "pyspark.sql.dataframe.DataFrame"
            ]
          },
          "metadata": {},
          "execution_count": 54
        }
      ]
    },
    {
      "cell_type": "code",
      "source": [
        "type(ipl_ball_)"
      ],
      "metadata": {
        "colab": {
          "base_uri": "https://localhost:8080/"
        },
        "id": "aLO6saFXqMre",
        "outputId": "04ec55f3-f9a5-4b06-da5d-eb47413e7684"
      },
      "execution_count": null,
      "outputs": [
        {
          "output_type": "execute_result",
          "data": {
            "text/plain": [
              "pyspark.sql.dataframe.DataFrame"
            ]
          },
          "metadata": {},
          "execution_count": 55
        }
      ]
    },
    {
      "cell_type": "code",
      "source": [
        "type(ipl_venue_)"
      ],
      "metadata": {
        "colab": {
          "base_uri": "https://localhost:8080/"
        },
        "id": "zMmI9HsJqMmk",
        "outputId": "a87c3532-cc33-44d2-cdd1-0da30a9f6d46"
      },
      "execution_count": null,
      "outputs": [
        {
          "output_type": "execute_result",
          "data": {
            "text/plain": [
              "pyspark.sql.dataframe.DataFrame"
            ]
          },
          "metadata": {},
          "execution_count": 56
        }
      ]
    },
    {
      "cell_type": "code",
      "source": [
        "from google.colab import data_table\n",
        "data_table.enable_dataframe_formatter()"
      ],
      "metadata": {
        "id": "zD7YkQsirVmC"
      },
      "execution_count": null,
      "outputs": []
    },
    {
      "cell_type": "markdown",
      "source": [
        "**1. Find the top 3 venues which hosted the most number of eliminator matches?**"
      ],
      "metadata": {
        "id": "ddvwJ7I_z5lK"
      }
    },
    {
      "cell_type": "code",
      "source": [
        "# answer\n",
        "q1 =(spark.sql('select venue_id , venue from table_venue where venue_id in (select venue_id from table_matches where eliminator == \"Y\" )').sort('venue_id', ascending= False ))"
      ],
      "metadata": {
        "id": "gxA7dzWfuRa9"
      },
      "execution_count": null,
      "outputs": []
    },
    {
      "cell_type": "code",
      "source": [
        "type(q1)"
      ],
      "metadata": {
        "id": "P8Naz0hXPYw5",
        "colab": {
          "base_uri": "https://localhost:8080/"
        },
        "outputId": "bb1101ed-44c2-4ee8-e0ff-f8c6f49fb81d"
      },
      "execution_count": null,
      "outputs": [
        {
          "output_type": "execute_result",
          "data": {
            "text/plain": [
              "pyspark.sql.dataframe.DataFrame"
            ]
          },
          "metadata": {},
          "execution_count": 70
        }
      ]
    },
    {
      "cell_type": "code",
      "source": [
        ""
      ],
      "metadata": {
        "id": "nPlhMEStPYuW"
      },
      "execution_count": null,
      "outputs": []
    },
    {
      "cell_type": "markdown",
      "source": [
        "**2. Return most number of catches taken by a player in IPL history?**"
      ],
      "metadata": {
        "id": "k8oqwFUN0Dho"
      }
    },
    {
      "cell_type": "code",
      "source": [
        "# answer\n",
        "q2 = (spark.sql('select bowler , sum(is_wicket) as Sum from table_ball group By bowler').sort('Sum' , ascending = False))"
      ],
      "metadata": {
        "id": "rAsRXAw30AMm"
      },
      "execution_count": null,
      "outputs": []
    },
    {
      "cell_type": "code",
      "source": [
        "type(q2)"
      ],
      "metadata": {
        "colab": {
          "base_uri": "https://localhost:8080/"
        },
        "id": "SipsXKs_GOVZ",
        "outputId": "43e124e7-a1ce-4653-ac95-b7a4f0b1c59a"
      },
      "execution_count": null,
      "outputs": [
        {
          "output_type": "execute_result",
          "data": {
            "text/plain": [
              "sqlite3.Cursor"
            ]
          },
          "metadata": {},
          "execution_count": 279
        }
      ]
    },
    {
      "cell_type": "markdown",
      "source": [
        "**3. Write a query to return a report for highest wicket taker in matches which were affected by Duckworth-Lewis’s method (D/L method).**"
      ],
      "metadata": {
        "id": "LUEy2vt3-1qd"
      }
    },
    {
      "cell_type": "code",
      "source": [
        "# q3 = spark.sql('select distinct method from table_matches').show()"
      ],
      "metadata": {
        "id": "6Paq1fYi-1O2"
      },
      "execution_count": null,
      "outputs": []
    },
    {
      "cell_type": "code",
      "source": [
        "# a query went WRONG\n",
        "# spark.sql('select match_id , bowler , sum(is_wicket) as sum from table_ball where match_id in (select match_id, method from table_matches where method == \"D/L\")')"
      ],
      "metadata": {
        "id": "9-QGTnQX0AIj"
      },
      "execution_count": null,
      "outputs": []
    },
    {
      "cell_type": "code",
      "source": [
        "# q3 =spark.sql('select distinct match_id , method from table_matches where method == \"D/L\"').show()"
      ],
      "metadata": {
        "id": "punzOH3R0AD9"
      },
      "execution_count": null,
      "outputs": []
    },
    {
      "cell_type": "code",
      "source": [
        "# answer\n",
        "q3 = spark.sql('select match_id , bowler, sum(is_wicket) as Sum from table_ball where match_id in (select match_id from table_matches where method == \"D/L\") group by match_id , bowler').sort('Sum', ascending = False)"
      ],
      "metadata": {
        "id": "sFSHPMgMuRWX"
      },
      "execution_count": null,
      "outputs": []
    },
    {
      "cell_type": "markdown",
      "source": [
        "**4. Write a query to return a report for highest strike rate by a batsman in non powerplay overs(7-20 overs)**"
      ],
      "metadata": {
        "id": "luL4L3jfE1Vy"
      }
    },
    {
      "cell_type": "code",
      "source": [
        "from pyspark.sql.functions import lit"
      ],
      "metadata": {
        "id": "cX-nOXituRUE"
      },
      "execution_count": null,
      "outputs": []
    },
    {
      "cell_type": "code",
      "source": [
        "from pyspark.sql.functions import col"
      ],
      "metadata": {
        "id": "MCSByCY7PtVQ"
      },
      "execution_count": null,
      "outputs": []
    },
    {
      "cell_type": "code",
      "source": [
        "import decimal\n",
        "from pyspark.sql.types import ArrayType,IntegerType"
      ],
      "metadata": {
        "id": "wdUBSBquPtGM"
      },
      "execution_count": null,
      "outputs": []
    },
    {
      "cell_type": "code",
      "source": [
        "from traitlets.traitlets import Integer\n",
        "from pandas.core.arrays import integer"
      ],
      "metadata": {
        "id": "9IDHCs-qrVkE"
      },
      "execution_count": null,
      "outputs": []
    },
    {
      "cell_type": "code",
      "source": [
        "if 'strike_rate' not in ipl_ball_.columns:\n",
        "              ipl_ball_ = ipl_ball_.withColumn(\"strike_rate\", ((ipl_ball_.total_runs / ipl_ball_.ball) * 1000)).show()"
      ],
      "metadata": {
        "id": "mG96vANVYT5g",
        "colab": {
          "base_uri": "https://localhost:8080/",
          "height": 182
        },
        "outputId": "eb47abaf-c2e3-4523-9949-6dc453073c3e"
      },
      "execution_count": null,
      "outputs": [
        {
          "output_type": "error",
          "ename": "AttributeError",
          "evalue": "ignored",
          "traceback": [
            "\u001b[0;31m---------------------------------------------------------------------------\u001b[0m",
            "\u001b[0;31mAttributeError\u001b[0m                            Traceback (most recent call last)",
            "\u001b[0;32m<ipython-input-129-6c5ccd533278>\u001b[0m in \u001b[0;36m<module>\u001b[0;34m()\u001b[0m\n\u001b[0;32m----> 1\u001b[0;31m \u001b[0;32mif\u001b[0m \u001b[0;34m'strike_rate'\u001b[0m \u001b[0;32mnot\u001b[0m \u001b[0;32min\u001b[0m \u001b[0mipl_ball_\u001b[0m\u001b[0;34m.\u001b[0m\u001b[0mcolumns\u001b[0m\u001b[0;34m:\u001b[0m\u001b[0;34m\u001b[0m\u001b[0;34m\u001b[0m\u001b[0m\n\u001b[0m\u001b[1;32m      2\u001b[0m               \u001b[0mipl_ball_\u001b[0m \u001b[0;34m=\u001b[0m \u001b[0mipl_ball_\u001b[0m\u001b[0;34m.\u001b[0m\u001b[0mwithColumn\u001b[0m\u001b[0;34m(\u001b[0m\u001b[0;34m\"strike_rate\"\u001b[0m\u001b[0;34m,\u001b[0m \u001b[0;34m(\u001b[0m\u001b[0;34m(\u001b[0m\u001b[0mipl_ball_\u001b[0m\u001b[0;34m.\u001b[0m\u001b[0mtotal_runs\u001b[0m \u001b[0;34m/\u001b[0m \u001b[0mipl_ball_\u001b[0m\u001b[0;34m.\u001b[0m\u001b[0mball\u001b[0m\u001b[0;34m)\u001b[0m \u001b[0;34m*\u001b[0m \u001b[0;36m1000\u001b[0m\u001b[0;34m)\u001b[0m\u001b[0;34m)\u001b[0m\u001b[0;34m.\u001b[0m\u001b[0mshow\u001b[0m\u001b[0;34m(\u001b[0m\u001b[0;34m)\u001b[0m\u001b[0;34m\u001b[0m\u001b[0;34m\u001b[0m\u001b[0m\n",
            "\u001b[0;31mAttributeError\u001b[0m: 'NoneType' object has no attribute 'columns'"
          ]
        }
      ]
    },
    {
      "cell_type": "code",
      "source": [
        "ipl_ball_ = ipl_ball_.drop('strike_rate')"
      ],
      "metadata": {
        "id": "xKb7G1F6X_lz",
        "colab": {
          "base_uri": "https://localhost:8080/",
          "height": 165
        },
        "outputId": "0d1e43cd-97d6-4a7e-9040-862cd6db6fb1"
      },
      "execution_count": null,
      "outputs": [
        {
          "output_type": "error",
          "ename": "AttributeError",
          "evalue": "ignored",
          "traceback": [
            "\u001b[0;31m---------------------------------------------------------------------------\u001b[0m",
            "\u001b[0;31mAttributeError\u001b[0m                            Traceback (most recent call last)",
            "\u001b[0;32m<ipython-input-128-6139933bd646>\u001b[0m in \u001b[0;36m<module>\u001b[0;34m()\u001b[0m\n\u001b[0;32m----> 1\u001b[0;31m \u001b[0mipl_ball_\u001b[0m \u001b[0;34m=\u001b[0m \u001b[0mipl_ball_\u001b[0m\u001b[0;34m.\u001b[0m\u001b[0mdrop\u001b[0m\u001b[0;34m(\u001b[0m\u001b[0;34m'strike_rate'\u001b[0m\u001b[0;34m)\u001b[0m\u001b[0;34m\u001b[0m\u001b[0;34m\u001b[0m\u001b[0m\n\u001b[0m",
            "\u001b[0;31mAttributeError\u001b[0m: 'NoneType' object has no attribute 'drop'"
          ]
        }
      ]
    },
    {
      "cell_type": "code",
      "source": [
        "ipl_ball_.show()"
      ],
      "metadata": {
        "colab": {
          "base_uri": "https://localhost:8080/",
          "height": 165
        },
        "id": "2govI4uLrVf0",
        "outputId": "15ce537b-8213-4247-9076-dd82324a9a29"
      },
      "execution_count": null,
      "outputs": [
        {
          "output_type": "error",
          "ename": "AttributeError",
          "evalue": "ignored",
          "traceback": [
            "\u001b[0;31m---------------------------------------------------------------------------\u001b[0m",
            "\u001b[0;31mAttributeError\u001b[0m                            Traceback (most recent call last)",
            "\u001b[0;32m<ipython-input-127-953b342406f9>\u001b[0m in \u001b[0;36m<module>\u001b[0;34m()\u001b[0m\n\u001b[0;32m----> 1\u001b[0;31m \u001b[0mipl_ball_\u001b[0m\u001b[0;34m.\u001b[0m\u001b[0mshow\u001b[0m\u001b[0;34m(\u001b[0m\u001b[0;34m)\u001b[0m\u001b[0;34m\u001b[0m\u001b[0;34m\u001b[0m\u001b[0m\n\u001b[0m",
            "\u001b[0;31mAttributeError\u001b[0m: 'NoneType' object has no attribute 'show'"
          ]
        }
      ]
    },
    {
      "cell_type": "code",
      "source": [
        "spark.sql('select batsman, strike_rate as strike from table_ball where overs between 7 and 20  group by batsman , strike').show()"
      ],
      "metadata": {
        "colab": {
          "base_uri": "https://localhost:8080/",
          "height": 504
        },
        "id": "PDLN8p_DrVdu",
        "outputId": "d4e85aa9-0316-4152-f648-5288fb08b3a9"
      },
      "execution_count": null,
      "outputs": [
        {
          "output_type": "error",
          "ename": "AnalysisException",
          "evalue": "ignored",
          "traceback": [
            "\u001b[0;31m---------------------------------------------------------------------------\u001b[0m",
            "\u001b[0;31mAnalysisException\u001b[0m                         Traceback (most recent call last)",
            "\u001b[0;32m<ipython-input-127-ff3380d0da07>\u001b[0m in \u001b[0;36m<module>\u001b[0;34m()\u001b[0m\n\u001b[0;32m----> 1\u001b[0;31m \u001b[0mspark\u001b[0m\u001b[0;34m.\u001b[0m\u001b[0msql\u001b[0m\u001b[0;34m(\u001b[0m\u001b[0;34m'select batsman, strike_rate as strike from table_ball where overs between 7 and 20  group by batsman , strike'\u001b[0m\u001b[0;34m)\u001b[0m\u001b[0;34m.\u001b[0m\u001b[0mshow\u001b[0m\u001b[0;34m(\u001b[0m\u001b[0;34m)\u001b[0m\u001b[0;34m\u001b[0m\u001b[0;34m\u001b[0m\u001b[0m\n\u001b[0m",
            "\u001b[0;32m/usr/local/lib/python3.7/dist-packages/pyspark/sql/session.py\u001b[0m in \u001b[0;36msql\u001b[0;34m(self, sqlQuery)\u001b[0m\n\u001b[1;32m    721\u001b[0m         \u001b[0;34m[\u001b[0m\u001b[0mRow\u001b[0m\u001b[0;34m(\u001b[0m\u001b[0mf1\u001b[0m\u001b[0;34m=\u001b[0m\u001b[0;36m1\u001b[0m\u001b[0;34m,\u001b[0m \u001b[0mf2\u001b[0m\u001b[0;34m=\u001b[0m\u001b[0;34m'row1'\u001b[0m\u001b[0;34m)\u001b[0m\u001b[0;34m,\u001b[0m \u001b[0mRow\u001b[0m\u001b[0;34m(\u001b[0m\u001b[0mf1\u001b[0m\u001b[0;34m=\u001b[0m\u001b[0;36m2\u001b[0m\u001b[0;34m,\u001b[0m \u001b[0mf2\u001b[0m\u001b[0;34m=\u001b[0m\u001b[0;34m'row2'\u001b[0m\u001b[0;34m)\u001b[0m\u001b[0;34m,\u001b[0m \u001b[0mRow\u001b[0m\u001b[0;34m(\u001b[0m\u001b[0mf1\u001b[0m\u001b[0;34m=\u001b[0m\u001b[0;36m3\u001b[0m\u001b[0;34m,\u001b[0m \u001b[0mf2\u001b[0m\u001b[0;34m=\u001b[0m\u001b[0;34m'row3'\u001b[0m\u001b[0;34m)\u001b[0m\u001b[0;34m]\u001b[0m\u001b[0;34m\u001b[0m\u001b[0;34m\u001b[0m\u001b[0m\n\u001b[1;32m    722\u001b[0m         \"\"\"\n\u001b[0;32m--> 723\u001b[0;31m         \u001b[0;32mreturn\u001b[0m \u001b[0mDataFrame\u001b[0m\u001b[0;34m(\u001b[0m\u001b[0mself\u001b[0m\u001b[0;34m.\u001b[0m\u001b[0m_jsparkSession\u001b[0m\u001b[0;34m.\u001b[0m\u001b[0msql\u001b[0m\u001b[0;34m(\u001b[0m\u001b[0msqlQuery\u001b[0m\u001b[0;34m)\u001b[0m\u001b[0;34m,\u001b[0m \u001b[0mself\u001b[0m\u001b[0;34m.\u001b[0m\u001b[0m_wrapped\u001b[0m\u001b[0;34m)\u001b[0m\u001b[0;34m\u001b[0m\u001b[0;34m\u001b[0m\u001b[0m\n\u001b[0m\u001b[1;32m    724\u001b[0m \u001b[0;34m\u001b[0m\u001b[0m\n\u001b[1;32m    725\u001b[0m     \u001b[0;32mdef\u001b[0m \u001b[0mtable\u001b[0m\u001b[0;34m(\u001b[0m\u001b[0mself\u001b[0m\u001b[0;34m,\u001b[0m \u001b[0mtableName\u001b[0m\u001b[0;34m)\u001b[0m\u001b[0;34m:\u001b[0m\u001b[0;34m\u001b[0m\u001b[0;34m\u001b[0m\u001b[0m\n",
            "\u001b[0;32m/usr/local/lib/python3.7/dist-packages/py4j/java_gateway.py\u001b[0m in \u001b[0;36m__call__\u001b[0;34m(self, *args)\u001b[0m\n\u001b[1;32m   1320\u001b[0m         \u001b[0manswer\u001b[0m \u001b[0;34m=\u001b[0m \u001b[0mself\u001b[0m\u001b[0;34m.\u001b[0m\u001b[0mgateway_client\u001b[0m\u001b[0;34m.\u001b[0m\u001b[0msend_command\u001b[0m\u001b[0;34m(\u001b[0m\u001b[0mcommand\u001b[0m\u001b[0;34m)\u001b[0m\u001b[0;34m\u001b[0m\u001b[0;34m\u001b[0m\u001b[0m\n\u001b[1;32m   1321\u001b[0m         return_value = get_return_value(\n\u001b[0;32m-> 1322\u001b[0;31m             answer, self.gateway_client, self.target_id, self.name)\n\u001b[0m\u001b[1;32m   1323\u001b[0m \u001b[0;34m\u001b[0m\u001b[0m\n\u001b[1;32m   1324\u001b[0m         \u001b[0;32mfor\u001b[0m \u001b[0mtemp_arg\u001b[0m \u001b[0;32min\u001b[0m \u001b[0mtemp_args\u001b[0m\u001b[0;34m:\u001b[0m\u001b[0;34m\u001b[0m\u001b[0;34m\u001b[0m\u001b[0m\n",
            "\u001b[0;32m/usr/local/lib/python3.7/dist-packages/pyspark/sql/utils.py\u001b[0m in \u001b[0;36mdeco\u001b[0;34m(*a, **kw)\u001b[0m\n\u001b[1;32m    115\u001b[0m                 \u001b[0;31m# Hide where the exception came from that shows a non-Pythonic\u001b[0m\u001b[0;34m\u001b[0m\u001b[0;34m\u001b[0m\u001b[0;34m\u001b[0m\u001b[0m\n\u001b[1;32m    116\u001b[0m                 \u001b[0;31m# JVM exception message.\u001b[0m\u001b[0;34m\u001b[0m\u001b[0;34m\u001b[0m\u001b[0;34m\u001b[0m\u001b[0m\n\u001b[0;32m--> 117\u001b[0;31m                 \u001b[0;32mraise\u001b[0m \u001b[0mconverted\u001b[0m \u001b[0;32mfrom\u001b[0m \u001b[0;32mNone\u001b[0m\u001b[0;34m\u001b[0m\u001b[0;34m\u001b[0m\u001b[0m\n\u001b[0m\u001b[1;32m    118\u001b[0m             \u001b[0;32melse\u001b[0m\u001b[0;34m:\u001b[0m\u001b[0;34m\u001b[0m\u001b[0;34m\u001b[0m\u001b[0m\n\u001b[1;32m    119\u001b[0m                 \u001b[0;32mraise\u001b[0m\u001b[0;34m\u001b[0m\u001b[0;34m\u001b[0m\u001b[0m\n",
            "\u001b[0;31mAnalysisException\u001b[0m: cannot resolve 'strike' given input columns: [table_ball.ball, table_ball.batsman, table_ball.batsman_runs, table_ball.batting_team, table_ball.bowler, table_ball.bowling_team, table_ball.dismissal_kind, table_ball.extra_runs, table_ball.extras_type, table_ball.fielder, table_ball.inning, table_ball.is_wicket, table_ball.match_id, table_ball.non_boundary, table_ball.non_striker, table_ball.overs, table_ball.player_dismissed, table_ball.total_runs]; line 1 pos 103;\n'Aggregate [batsman#527, 'strike], [batsman#527, 'strike_rate AS strike#2204]\n+- Filter ((overs#525 >= 7) AND (overs#525 <= 20))\n   +- SubqueryAlias table_ball\n      +- View (`table_ball`, [match_id#523,inning#524,overs#525,ball#526,batsman#527,non_striker#528,bowler#529,batsman_runs#530,extra_runs#531,total_runs#532,non_boundary#533,is_wicket#534,dismissal_kind#535,player_dismissed#536,fielder#537,extras_type#538,batting_team#539,bowling_team#540])\n         +- Relation [match_id#523,inning#524,overs#525,ball#526,batsman#527,non_striker#528,bowler#529,batsman_runs#530,extra_runs#531,total_runs#532,non_boundary#533,is_wicket#534,dismissal_kind#535,player_dismissed#536,fielder#537,extras_type#538,batting_team#539,bowling_team#540] csv\n"
          ]
        }
      ]
    },
    {
      "cell_type": "markdown",
      "source": [
        "**5. Write a query to return a report for highest extra runs in a venue (stadium,city).**"
      ],
      "metadata": {
        "id": "3gI5l6GaZiT2"
      }
    },
    {
      "cell_type": "code",
      "source": [
        "spark.sql('select match_id, max(extra_runs) as exRuns from table_ball group by match_id').sort('exRuns', ascending = False).show(10)"
      ],
      "metadata": {
        "colab": {
          "base_uri": "https://localhost:8080/"
        },
        "id": "3yEyacs-bTl5",
        "outputId": "e2941ae5-badb-411a-d8cc-60ed7a6a0af8"
      },
      "execution_count": null,
      "outputs": [
        {
          "output_type": "stream",
          "name": "stdout",
          "text": [
            "+--------+------+\n",
            "|match_id|exRuns|\n",
            "+--------+------+\n",
            "|  729309|     7|\n",
            "|  419157|     5|\n",
            "|  392222|     5|\n",
            "|  598034|     5|\n",
            "|  501213|     5|\n",
            "|  419163|     5|\n",
            "|  980927|     5|\n",
            "|  829761|     5|\n",
            "|  598042|     5|\n",
            "|  548336|     5|\n",
            "+--------+------+\n",
            "only showing top 10 rows\n",
            "\n"
          ]
        }
      ]
    },
    {
      "cell_type": "markdown",
      "source": [
        "**6. Write a query to return a report for the cricketers with the most number of players of the\n",
        "match award in neutral venues.**\n"
      ],
      "metadata": {
        "id": "EJbDvxOGibKs"
      }
    },
    {
      "cell_type": "code",
      "source": [
        "# spark.sql('select venue_id , venue as stadium , city from table_venue where venue_id in ()')"
      ],
      "metadata": {
        "id": "0mMFyBthbTfv"
      },
      "execution_count": null,
      "outputs": []
    },
    {
      "cell_type": "code",
      "source": [
        "spark.sql(' select table_venue.venue as stadium , table_venue.city , table_venue.venue_id from table_venue join table_matches on table_venue.venue_id = table_matches.venue_id').show(10)"
      ],
      "metadata": {
        "colab": {
          "base_uri": "https://localhost:8080/"
        },
        "id": "mm5QHnV4bTb1",
        "outputId": "2c2cac98-05b7-4fc4-c984-49771872ee2f"
      },
      "execution_count": null,
      "outputs": [
        {
          "output_type": "stream",
          "name": "stdout",
          "text": [
            "+--------------------+----------+--------+\n",
            "|             stadium|      city|venue_id|\n",
            "+--------------------+----------+--------+\n",
            "|M.Chinnaswamy Sta...| Bengaluru|      35|\n",
            "|Punjab Cricket As...|Chandigarh|      31|\n",
            "|    Feroz Shah Kotla|     Delhi|      27|\n",
            "|    Wankhede Stadium|    Mumbai|      14|\n",
            "|        Eden Gardens|   Kolkata|      15|\n",
            "|Sawai Mansingh St...|    Jaipur|      20|\n",
            "|Rajiv Gandhi Inte...| Hyderabad|      22|\n",
            "|MA Chidambaram St...|   Chennai|      29|\n",
            "|Rajiv Gandhi Inte...| Hyderabad|      22|\n",
            "|Punjab Cricket As...|Chandigarh|      31|\n",
            "+--------------------+----------+--------+\n",
            "only showing top 10 rows\n",
            "\n"
          ]
        }
      ]
    },
    {
      "cell_type": "code",
      "source": [
        "# spark.sql('select venue as stadium, max(extra_runs) as exRuns , city from table_venue where venue_id in (select table_matches.venue_id, table_matches.match_id , table_ball.match_id from table_matches join table_ball on table_matches.match_id = table_ball.match_id ) group by stadium')"
      ],
      "metadata": {
        "id": "g6vxYl-grVbj"
      },
      "execution_count": null,
      "outputs": []
    },
    {
      "cell_type": "code",
      "source": [
        "# answer\n",
        "spark.sql('select table_venue.venue as stadium , table_venue.city, max(extra_runs) as exRuns from ((table_venue join table_matches) join table_ball) group by stadium, table_venue.city').show(5)"
      ],
      "metadata": {
        "colab": {
          "base_uri": "https://localhost:8080/"
        },
        "id": "m3j-nasMrVY1",
        "outputId": "e92f088e-314e-49fb-dc22-d359809e6a1e"
      },
      "execution_count": null,
      "outputs": [
        {
          "output_type": "stream",
          "name": "stdout",
          "text": [
            "+--------------------+----------+------+\n",
            "|             stadium|      city|exRuns|\n",
            "+--------------------+----------+------+\n",
            "|Himachal Pradesh ...|Dharamsala|     7|\n",
            "|JSCA Internationa...|    Ranchi|     7|\n",
            "|MA Chidambaram St...|   Chennai|     7|\n",
            "|Holkar Cricket St...|    Indore|     7|\n",
            "|        Eden Gardens|   Kolkata|     7|\n",
            "+--------------------+----------+------+\n",
            "only showing top 5 rows\n",
            "\n"
          ]
        }
      ]
    },
    {
      "cell_type": "code",
      "source": [
        "spark.sql('select player_of_match , winner , max(neutral_venue) as Nvenue from table_matches group by player_of_match, winner').show(5)"
      ],
      "metadata": {
        "id": "9Wr9cwCOtgu6",
        "colab": {
          "base_uri": "https://localhost:8080/"
        },
        "outputId": "5204d406-687d-4543-cd71-1b71ed9b7544"
      },
      "execution_count": null,
      "outputs": [
        {
          "output_type": "stream",
          "name": "stdout",
          "text": [
            "+---------------+-------------------+------+\n",
            "|player_of_match|             winner|Nvenue|\n",
            "+---------------+-------------------+------+\n",
            "|   F du Plessis|Chennai Super Kings|     0|\n",
            "|        SS Iyer|   Delhi Daredevils|     0|\n",
            "|       K Rabada|     Delhi Capitals|     0|\n",
            "|      DA Warner|Sunrisers Hyderabad|     0|\n",
            "|     RD Gaikwad|Chennai Super Kings|     0|\n",
            "+---------------+-------------------+------+\n",
            "only showing top 5 rows\n",
            "\n"
          ]
        }
      ]
    },
    {
      "cell_type": "code",
      "source": [
        "spark.sql('select distinct player_of_match from table_matches ').show(5)"
      ],
      "metadata": {
        "colab": {
          "base_uri": "https://localhost:8080/"
        },
        "id": "NKukBezqCr-z",
        "outputId": "a94357d3-76fb-4ec8-81ef-f08403cf241e"
      },
      "execution_count": null,
      "outputs": [
        {
          "output_type": "stream",
          "name": "stdout",
          "text": [
            "+---------------+\n",
            "|player_of_match|\n",
            "+---------------+\n",
            "|     TM Dilshan|\n",
            "|     S Anirudha|\n",
            "|  Kuldeep Yadav|\n",
            "| M Muralitharan|\n",
            "|     KA Pollard|\n",
            "+---------------+\n",
            "only showing top 5 rows\n",
            "\n"
          ]
        }
      ]
    },
    {
      "cell_type": "code",
      "source": [
        "# answer\n",
        "spark.sql('select max(player_of_match) from table_matches where neutral_venue == 1').show(5)"
      ],
      "metadata": {
        "colab": {
          "base_uri": "https://localhost:8080/"
        },
        "id": "ezdzE_rFCr8L",
        "outputId": "0b245d76-e6e8-40eb-b1f4-b675470f8ef7"
      },
      "execution_count": null,
      "outputs": [
        {
          "output_type": "stream",
          "name": "stdout",
          "text": [
            "+--------------------+\n",
            "|max(player_of_match)|\n",
            "+--------------------+\n",
            "|        Yuvraj Singh|\n",
            "+--------------------+\n",
            "\n"
          ]
        }
      ]
    },
    {
      "cell_type": "code",
      "source": [
        ""
      ],
      "metadata": {
        "id": "3K_93m68Cr0j"
      },
      "execution_count": null,
      "outputs": []
    },
    {
      "cell_type": "markdown",
      "source": [
        "**7. Write a query to get a list of top 10 players with the highest batting average Note: Batting\n",
        "average is the total number of runs scored divided by the number of times they have been\n",
        "out (Make sure to include run outs (on non-striker end) as valid out while calculating average).**"
      ],
      "metadata": {
        "id": "VVU99v126Sga"
      }
    },
    {
      "cell_type": "code",
      "source": [
        "spark.sql('select player_dismissed from table_ball where player_dismissed != \"NA\"').show(5)"
      ],
      "metadata": {
        "id": "ZXgvot7ItgsI",
        "colab": {
          "base_uri": "https://localhost:8080/"
        },
        "outputId": "c47c338a-e21b-4acb-a55d-38407e48d194"
      },
      "execution_count": null,
      "outputs": [
        {
          "output_type": "stream",
          "name": "stdout",
          "text": [
            "+----------------+\n",
            "|player_dismissed|\n",
            "+----------------+\n",
            "|         V Kohli|\n",
            "|    Pankaj Singh|\n",
            "|       MK Pandey|\n",
            "|       JH Kallis|\n",
            "|     JR Philippe|\n",
            "+----------------+\n",
            "only showing top 5 rows\n",
            "\n"
          ]
        }
      ]
    },
    {
      "cell_type": "markdown",
      "source": [
        "**8. Write a query to find out who has officiated (as an umpire) the most number of matches in\n",
        "IPL**"
      ],
      "metadata": {
        "id": "JUtTMCfzA4dd"
      }
    },
    {
      "cell_type": "code",
      "source": [
        "spark.sql('select max(umpire1), max(umpire2)from table_matches').show(3)"
      ],
      "metadata": {
        "colab": {
          "base_uri": "https://localhost:8080/"
        },
        "id": "e-fYpxeD99Q6",
        "outputId": "d5ea1c6b-046b-4063-92f4-5b6fff3fff12"
      },
      "execution_count": null,
      "outputs": [
        {
          "output_type": "stream",
          "name": "stdout",
          "text": [
            "+------------+------------+\n",
            "|max(umpire1)|max(umpire2)|\n",
            "+------------+------------+\n",
            "|    YC Barde|    YC Barde|\n",
            "+------------+------------+\n",
            "\n"
          ]
        }
      ]
    },
    {
      "cell_type": "code",
      "source": [
        "# query went wrong\n",
        "# spark.sql('select max(umpire) from table_matches')"
      ],
      "metadata": {
        "id": "WRa2G39e99Ld"
      },
      "execution_count": null,
      "outputs": []
    },
    {
      "cell_type": "code",
      "source": [
        "# query went wrong\n",
        "# spark.sql('select match_id,  max(umpire1) as Umpire1 , max(umpire2) as Umpire2 from table_matches ')"
      ],
      "metadata": {
        "id": "dbswRe0hA04s"
      },
      "execution_count": null,
      "outputs": []
    },
    {
      "cell_type": "markdown",
      "source": [
        "**9. Find venue details of the match where V Kohli scored his highest individual runs in IPL**"
      ],
      "metadata": {
        "id": "333UhVAlCM8w"
      }
    },
    {
      "cell_type": "code",
      "source": [
        "# spark.sql('select venue_id , venue as stadium , city from table_venue where venue_id in (select )')"
      ],
      "metadata": {
        "id": "5yddMSGZA017"
      },
      "execution_count": null,
      "outputs": []
    },
    {
      "cell_type": "code",
      "source": [
        "# query went wrong\n",
        "# spark.sql('select table_venue.venue_id, table_venue.venue, table_venue.city,  sum(table_ball.batsman_runs) from (((table_venue join table_matches on table_venue.venue_id = table_matches.venue_id) join table_ball) where table_ball.batsman == \"V Kohli\")')"
      ],
      "metadata": {
        "id": "kXTzoOXuA0zi"
      },
      "execution_count": null,
      "outputs": []
    },
    {
      "cell_type": "code",
      "source": [
        "# query went wrong\n",
        "# spark.sql('select table_venue.venue_id , table_venue.venue , table_venue.city , table_ball.batsman , sum(table_ball.batsman_runs) from ((table_ball join table_matches on table_ball.match_id = table_matches.match_id where table_ball.batsman == \"V Kohli\")) join (table_venue on table_venue.venue_id = table_matches.match_id))')"
      ],
      "metadata": {
        "id": "cOdMomvlA0xE"
      },
      "execution_count": null,
      "outputs": []
    },
    {
      "cell_type": "code",
      "source": [
        "# trial query\n",
        "spark.sql('select batsman as name , sum(batsman_runs) as runs from table_ball where batsman == \"V Kohli\" group by name').show()"
      ],
      "metadata": {
        "colab": {
          "base_uri": "https://localhost:8080/"
        },
        "id": "lsrItnKcA0up",
        "outputId": "d4285554-8793-4311-c0be-1533c2fadcc0"
      },
      "execution_count": null,
      "outputs": [
        {
          "output_type": "stream",
          "name": "stdout",
          "text": [
            "+-------+----+\n",
            "|   name|runs|\n",
            "+-------+----+\n",
            "|V Kohli|5878|\n",
            "+-------+----+\n",
            "\n"
          ]
        }
      ]
    },
    {
      "cell_type": "code",
      "source": [
        "# query went wrong\n",
        "# spark.sql('select venue, city, batsman, sum(batsman_runs) from ((table_venue join table_matches) on (table_venue.venue_id = table_matches.venue_id))join (table_ball on table_matches.match_id = table_ball.match_id) where table_ball.batsman == \"V Kohli\")')"
      ],
      "metadata": {
        "id": "LjwAgdcqA0sJ"
      },
      "execution_count": null,
      "outputs": []
    },
    {
      "cell_type": "code",
      "source": [
        "# query went wrong\n",
        "# spark.sql('select tb.batsman as name, sum(tb.batsman_runs) as total_scores,tv.venue as stadium,tv.city from((table_ball as tb join table_matches as tm on tb.match_id = tm.match_id)join table_venue as tv on tv.venue_id = tm.venue_id) where tb.batsman == \"V Kohli\" group by name ,stadium , city, ')"
      ],
      "metadata": {
        "id": "Zku3Nm_Dya0f"
      },
      "execution_count": null,
      "outputs": []
    },
    {
      "cell_type": "code",
      "source": [
        "spark.sql('select venue as stadium , city , batsman as name , sum(batsman_runs) as score from table_venue join table_matches on table_venue.venue_id = table_matches.venue_id join table_ball on table_matches.match_id = table_ball.match_id where table_ball.batsman == \"V Kohli\" group by stadium, city, name ').sort('score', ascending = False).show(5)"
      ],
      "metadata": {
        "colab": {
          "base_uri": "https://localhost:8080/"
        },
        "id": "9vP0vrEByaxS",
        "outputId": "85409203-e821-48b6-c9b3-f4685caaf544"
      },
      "execution_count": null,
      "outputs": [
        {
          "output_type": "stream",
          "name": "stdout",
          "text": [
            "+--------------------+---------+-------+-----+\n",
            "|             stadium|     city|   name|score|\n",
            "+--------------------+---------+-------+-----+\n",
            "|M.Chinnaswamy Sta...|Bengaluru|V Kohli| 2346|\n",
            "|    Feroz Shah Kotla|    Delhi|V Kohli|  428|\n",
            "|    Wankhede Stadium|   Mumbai|V Kohli|  400|\n",
            "|Rajiv Gandhi Inte...|Hyderabad|V Kohli|  335|\n",
            "|        Eden Gardens|  Kolkata|V Kohli|  307|\n",
            "+--------------------+---------+-------+-----+\n",
            "only showing top 5 rows\n",
            "\n"
          ]
        }
      ]
    },
    {
      "cell_type": "markdown",
      "source": [
        "**10. Creative Case study:\n",
        "Please analyze how winning/losing tosses can impact a match and it's result?**"
      ],
      "metadata": {
        "id": "Be7kZjfSiwlw"
      }
    },
    {
      "cell_type": "code",
      "source": [
        "import matplotlib.pyplot as plt\n",
        "%matplotlib inline"
      ],
      "metadata": {
        "id": "aY-tWXMWyavU"
      },
      "execution_count": null,
      "outputs": []
    },
    {
      "cell_type": "code",
      "source": [
        "ipl_ball_.show(10)"
      ],
      "metadata": {
        "colab": {
          "base_uri": "https://localhost:8080/"
        },
        "id": "lRLsrxAnyatT",
        "outputId": "0c5809e7-7575-4d1a-dc9a-45dcb5f9d8db"
      },
      "execution_count": null,
      "outputs": [
        {
          "output_type": "stream",
          "name": "stdout",
          "text": [
            "+--------+------+-----+----+-------------+-------------+------------+------------+----------+----------+------------+---------+--------------+----------------+-------+-----------+--------------------+--------------+\n",
            "|match_id|inning|overs|ball|      batsman|  non_striker|      bowler|batsman_runs|extra_runs|total_runs|non_boundary|is_wicket|dismissal_kind|player_dismissed|fielder|extras_type|        batting_team|  bowling_team|\n",
            "+--------+------+-----+----+-------------+-------------+------------+------------+----------+----------+------------+---------+--------------+----------------+-------+-----------+--------------------+--------------+\n",
            "|  419157|     2|   16|   4|      V Kohli|R Vinay Kumar|CRD Fernando|           0|         0|         0|           0|        0|            NA|              NA|     NA|         NA|Royal Challengers...|Mumbai Indians|\n",
            "|  419157|     2|   16|   5|      V Kohli|R Vinay Kumar|CRD Fernando|           1|         0|         1|           0|        0|            NA|              NA|     NA|         NA|Royal Challengers...|Mumbai Indians|\n",
            "|  419157|     2|   16|   6|R Vinay Kumar|      V Kohli|CRD Fernando|           1|         0|         1|           0|        0|            NA|              NA|     NA|         NA|Royal Challengers...|Mumbai Indians|\n",
            "|  419157|     2|   17|   1|R Vinay Kumar|      V Kohli|   R McLaren|           1|         0|         1|           0|        0|            NA|              NA|     NA|         NA|Royal Challengers...|Mumbai Indians|\n",
            "|  419157|     2|   17|   2|      V Kohli|R Vinay Kumar|   R McLaren|           1|         0|         1|           0|        0|            NA|              NA|     NA|         NA|Royal Challengers...|Mumbai Indians|\n",
            "|  419157|     2|   17|   3|R Vinay Kumar|      V Kohli|   R McLaren|           0|         0|         0|           0|        0|            NA|              NA|     NA|         NA|Royal Challengers...|Mumbai Indians|\n",
            "|  419157|     2|   17|   4|R Vinay Kumar|      V Kohli|   R McLaren|           0|         0|         0|           0|        0|            NA|              NA|     NA|         NA|Royal Challengers...|Mumbai Indians|\n",
            "|  419157|     2|   17|   5|R Vinay Kumar|      V Kohli|   R McLaren|           1|         0|         1|           0|        0|            NA|              NA|     NA|         NA|Royal Challengers...|Mumbai Indians|\n",
            "|  419157|     2|   17|   6|      V Kohli|R Vinay Kumar|   R McLaren|           1|         0|         1|           0|        0|            NA|              NA|     NA|         NA|Royal Challengers...|Mumbai Indians|\n",
            "|  419157|     2|   18|   1|      V Kohli|R Vinay Kumar|  KA Pollard|           4|         0|         4|           0|        0|            NA|              NA|     NA|         NA|Royal Challengers...|Mumbai Indians|\n",
            "+--------+------+-----+----+-------------+-------------+------------+------------+----------+----------+------------+---------+--------------+----------------+-------+-----------+--------------------+--------------+\n",
            "only showing top 10 rows\n",
            "\n"
          ]
        }
      ]
    },
    {
      "cell_type": "code",
      "source": [
        "ipl_matches_.show(10)"
      ],
      "metadata": {
        "colab": {
          "base_uri": "https://localhost:8080/"
        },
        "id": "kFdluXACyapK",
        "outputId": "12bdfe2f-ef85-4479-d6bc-95b9c0e7f291"
      },
      "execution_count": null,
      "outputs": [
        {
          "output_type": "stream",
          "name": "stdout",
          "text": [
            "+--------+----------+---------------+--------+-------------+--------------------+--------------------+--------------------+-------------+--------------------+-------+-------------+----------+------+---------+--------------+\n",
            "|match_id|      date|player_of_match|venue_id|neutral_venue|               team1|               team2|         toss_winner|toss_decision|              winner| result|result_margin|eliminator|method|  umpire1|       umpire2|\n",
            "+--------+----------+---------------+--------+-------------+--------------------+--------------------+--------------------+-------------+--------------------+-------+-------------+----------+------+---------+--------------+\n",
            "|  335982|2008-04-18|    BB McCullum|      35|            0|Royal Challengers...|Kolkata Knight Ri...|Royal Challengers...|        field|Kolkata Knight Ri...|   runs|          140|         N|    NA|Asad Rauf|   RE Koertzen|\n",
            "|  335983|2008-04-19|     MEK Hussey|      31|            0|     Kings XI Punjab| Chennai Super Kings| Chennai Super Kings|          bat| Chennai Super Kings|   runs|           33|         N|    NA|MR Benson|    SL Shastri|\n",
            "|  335984|2008-04-19|    MF Maharoof|      27|            0|    Delhi Daredevils|    Rajasthan Royals|    Rajasthan Royals|          bat|    Delhi Daredevils|wickets|            9|         N|    NA|Aleem Dar|GA Pratapkumar|\n",
            "|  335985|2008-04-20|     MV Boucher|      14|            0|      Mumbai Indians|Royal Challengers...|      Mumbai Indians|          bat|Royal Challengers...|wickets|            5|         N|    NA| SJ Davis|     DJ Harper|\n",
            "|  335986|2008-04-20|      DJ Hussey|      15|            0|Kolkata Knight Ri...|     Deccan Chargers|     Deccan Chargers|          bat|Kolkata Knight Ri...|wickets|            5|         N|    NA|BF Bowden|   K Hariharan|\n",
            "|  335987|2008-04-21|      SR Watson|      20|            0|    Rajasthan Royals|     Kings XI Punjab|     Kings XI Punjab|          bat|    Rajasthan Royals|wickets|            6|         N|    NA|Aleem Dar|     RB Tiffin|\n",
            "|  335988|2008-04-22|       V Sehwag|      22|            0|     Deccan Chargers|    Delhi Daredevils|     Deccan Chargers|          bat|    Delhi Daredevils|wickets|            9|         N|    NA|IL Howell|     AM Saheba|\n",
            "|  335989|2008-04-23|      ML Hayden|      29|            0| Chennai Super Kings|      Mumbai Indians|      Mumbai Indians|        field| Chennai Super Kings|   runs|            6|         N|    NA|DJ Harper|GA Pratapkumar|\n",
            "|  335990|2008-04-24|      YK Pathan|      22|            0|     Deccan Chargers|    Rajasthan Royals|    Rajasthan Royals|        field|    Rajasthan Royals|wickets|            3|         N|    NA|Asad Rauf|     MR Benson|\n",
            "|  335991|2008-04-25|  KC Sangakkara|      31|            0|     Kings XI Punjab|      Mumbai Indians|      Mumbai Indians|        field|     Kings XI Punjab|   runs|           66|         N|    NA|Aleem Dar|     AM Saheba|\n",
            "+--------+----------+---------------+--------+-------------+--------------------+--------------------+--------------------+-------------+--------------------+-------+-------------+----------+------+---------+--------------+\n",
            "only showing top 10 rows\n",
            "\n"
          ]
        }
      ]
    },
    {
      "cell_type": "code",
      "source": [
        "ipl_venue_.show(10)"
      ],
      "metadata": {
        "id": "1OuKuREcqMXN",
        "colab": {
          "base_uri": "https://localhost:8080/"
        },
        "outputId": "8540bba4-a434-4c92-c6d3-dfaf264dc883"
      },
      "execution_count": null,
      "outputs": [
        {
          "output_type": "stream",
          "name": "stdout",
          "text": [
            "+--------+--------------------+--------------+\n",
            "|venue_id|               venue|          city|\n",
            "+--------+--------------------+--------------+\n",
            "|       1|Dr. Y.S. Rajasekh...| Visakhapatnam|\n",
            "|       2|Sharjah Cricket S...|       Sharjah|\n",
            "|       3|JSCA Internationa...|        Ranchi|\n",
            "|       4|Saurashtra Cricke...|        Rajkot|\n",
            "|       5|Shaheed Veer Nara...|        Raipur|\n",
            "|       6|Maharashtra Crick...|          Pune|\n",
            "|       7|Subrata Roy Sahar...|          Pune|\n",
            "|       8|    St George's Park|Port Elizabeth|\n",
            "|       9|Vidarbha Cricket ...|        Nagpur|\n",
            "|      12|   Brabourne Stadium|        Mumbai|\n",
            "+--------+--------------------+--------------+\n",
            "only showing top 10 rows\n",
            "\n"
          ]
        }
      ]
    },
    {
      "cell_type": "code",
      "source": [
        "# spark.sql('(select (count(toss_winner) * 100) where  toss_decision == \"field\" and toss_winner == winner) / (select count(match_id) as total_matches from table_matches)').show(3)"
      ],
      "metadata": {
        "id": "lw8FN_0lsqO5"
      },
      "execution_count": null,
      "outputs": []
    },
    {
      "cell_type": "code",
      "source": [
        "# field_winner = pd.DataFrame(spark.sql('select (count(toss_winner)*100) as t_win / (select count(match_id) from table_matches) where toss_decision == \"field\" and toss_winner == winner').show())"
      ],
      "metadata": {
        "id": "TxPdQ7jrGF6G"
      },
      "execution_count": null,
      "outputs": []
    },
    {
      "cell_type": "code",
      "source": [
        "type(field_winner)"
      ],
      "metadata": {
        "colab": {
          "base_uri": "https://localhost:8080/"
        },
        "id": "SefmA_oym1hw",
        "outputId": "a12aa2d7-d890-401a-dc7c-356f1616f2f7"
      },
      "execution_count": null,
      "outputs": [
        {
          "output_type": "execute_result",
          "data": {
            "text/plain": [
              "pandas.core.frame.DataFrame"
            ]
          },
          "metadata": {},
          "execution_count": 42
        }
      ]
    },
    {
      "cell_type": "code",
      "source": [
        ""
      ],
      "metadata": {
        "id": "KpLXqRJvm61D"
      },
      "execution_count": null,
      "outputs": []
    },
    {
      "cell_type": "code",
      "source": [
        "spark.sql('select (select (count(toss_winner)/count(match_id))*100 as field_win from table_matches where toss_decision == \"field\" and toss_winner == winner) / (select 100*(count(toss_winner)/(selct count(match_id) from table_matches) from table_matches where toss_decision == \"bat\" and toss_winner == winner) from table_matches').show(3)"
      ],
      "metadata": {
        "colab": {
          "base_uri": "https://localhost:8080/"
        },
        "id": "5gqnuL9im6zF",
        "outputId": "ff991d7a-531b-466b-c55d-a750a70c9815"
      },
      "execution_count": null,
      "outputs": [
        {
          "output_type": "stream",
          "name": "stdout",
          "text": [
            "+-------------------------------------+\n",
            "|(scalarsubquery() / scalarsubquery())|\n",
            "+-------------------------------------+\n",
            "|                                  1.0|\n",
            "|                                  1.0|\n",
            "|                                  1.0|\n",
            "+-------------------------------------+\n",
            "only showing top 3 rows\n",
            "\n"
          ]
        }
      ]
    },
    {
      "cell_type": "code",
      "source": [
        "spark.sql('select (100*count(toss_winner)) /(select count(match_id)  from table_matches) from table_matches where toss_decision == \"field\" and toss_winner == winner').show(3)"
      ],
      "metadata": {
        "colab": {
          "base_uri": "https://localhost:8080/"
        },
        "id": "36Zlt86Am6u-",
        "outputId": "46cced5d-6b62-4377-fd6a-752ef22ab212"
      },
      "execution_count": null,
      "outputs": [
        {
          "output_type": "stream",
          "name": "stdout",
          "text": [
            "+-----------------------------------------------+\n",
            "|((100 * count(toss_winner)) / scalarsubquery())|\n",
            "+-----------------------------------------------+\n",
            "|                             33.455882352941174|\n",
            "+-----------------------------------------------+\n",
            "\n"
          ]
        }
      ]
    },
    {
      "cell_type": "code",
      "source": [
        "spark.sql('select (100* count(toss_winner))/ (select count(match_id) from table_matches) from table_matches where toss_decision == \"bat\" and toss_winner == winner').show(3)"
      ],
      "metadata": {
        "colab": {
          "base_uri": "https://localhost:8080/"
        },
        "id": "xUP90xEum6Ku",
        "outputId": "e29ef397-6180-4023-cc64-cc1395506ba3"
      },
      "execution_count": null,
      "outputs": [
        {
          "output_type": "stream",
          "name": "stdout",
          "text": [
            "+-----------------------------------------------+\n",
            "|((100 * count(toss_winner)) / scalarsubquery())|\n",
            "+-----------------------------------------------+\n",
            "|                             17.769607843137255|\n",
            "+-----------------------------------------------+\n",
            "\n"
          ]
        }
      ]
    },
    {
      "cell_type": "code",
      "source": [
        "spark.sql('select 100*(count(toss_winner))/ (select count(match_id) from table_matches ) from table_matches where toss_decision == \"bat\" and toss_winner == winner').show()"
      ],
      "metadata": {
        "colab": {
          "base_uri": "https://localhost:8080/"
        },
        "id": "ZDSaY3QamIWY",
        "outputId": "30653548-2a68-4409-de7e-7ed529b6c6cc"
      },
      "execution_count": null,
      "outputs": [
        {
          "output_type": "stream",
          "name": "stdout",
          "text": [
            "+-----------------------------------------------+\n",
            "|((100 * count(toss_winner)) / scalarsubquery())|\n",
            "+-----------------------------------------------+\n",
            "|                             17.769607843137255|\n",
            "+-----------------------------------------------+\n",
            "\n"
          ]
        }
      ]
    },
    {
      "cell_type": "code",
      "source": [
        "spark.sql('select count(match_id) from table_matches').show()"
      ],
      "metadata": {
        "colab": {
          "base_uri": "https://localhost:8080/"
        },
        "id": "Ma7D9_owmifq",
        "outputId": "d6cee233-5266-4cf8-83a4-161f479cbc15"
      },
      "execution_count": null,
      "outputs": [
        {
          "output_type": "stream",
          "name": "stdout",
          "text": [
            "+---------------+\n",
            "|count(match_id)|\n",
            "+---------------+\n",
            "|            816|\n",
            "+---------------+\n",
            "\n"
          ]
        }
      ]
    },
    {
      "cell_type": "code",
      "source": [
        "# answer\n",
        "field_win = (spark.sql('select distinct( (select 100*(count(toss_winner)) from table_matches where toss_winner == winner and toss_decision = \"field\") / (select count(match_id) from table_matches)) from table_matches '))"
      ],
      "metadata": {
        "id": "kDt08vYQwrHH"
      },
      "execution_count": null,
      "outputs": []
    },
    {
      "cell_type": "code",
      "source": [
        "f_win = field_win.toPandas()\n",
        "field_win.collect()[0][0]"
      ],
      "metadata": {
        "colab": {
          "base_uri": "https://localhost:8080/"
        },
        "id": "mbHSfOoP2VBC",
        "outputId": "37954538-970f-4221-956c-05f2d8d178ff"
      },
      "execution_count": null,
      "outputs": [
        {
          "output_type": "execute_result",
          "data": {
            "text/plain": [
              "33.455882352941174"
            ]
          },
          "metadata": {},
          "execution_count": 30
        }
      ]
    },
    {
      "cell_type": "code",
      "source": [
        "bat_win = spark.sql('select distinct( (select 100*(count(toss_winner)) from table_matches where toss_winner == winner and toss_decision = \"bat\")  / (select count(match_id) from table_matches)) from table_matches ')"
      ],
      "metadata": {
        "id": "b2zF9QsUxED4"
      },
      "execution_count": null,
      "outputs": []
    },
    {
      "cell_type": "code",
      "source": [
        "b_win = bat_win.toPandas()\n",
        "bat_win.collect()[0][0]"
      ],
      "metadata": {
        "colab": {
          "base_uri": "https://localhost:8080/"
        },
        "id": "l98KSxHc3EwC",
        "outputId": "7f6fa424-501c-43a1-d210-81a54c99638d"
      },
      "execution_count": null,
      "outputs": [
        {
          "output_type": "execute_result",
          "data": {
            "text/plain": [
              "17.769607843137255"
            ]
          },
          "metadata": {},
          "execution_count": 32
        }
      ]
    },
    {
      "cell_type": "code",
      "source": [
        "b_win.head()"
      ],
      "metadata": {
        "colab": {
          "base_uri": "https://localhost:8080/",
          "height": 81
        },
        "id": "lJrVRku63Eri",
        "outputId": "622764cd-d591-4709-dd63-c4ee45832e4f"
      },
      "execution_count": null,
      "outputs": [
        {
          "output_type": "execute_result",
          "data": {
            "text/plain": [
              "   (scalarsubquery() / scalarsubquery())\n",
              "0                              17.769608"
            ],
            "text/html": [
              "\n",
              "  <div id=\"df-d93e9244-c61d-4ece-8593-dd7aca755be8\">\n",
              "    <div class=\"colab-df-container\">\n",
              "      <div>\n",
              "<style scoped>\n",
              "    .dataframe tbody tr th:only-of-type {\n",
              "        vertical-align: middle;\n",
              "    }\n",
              "\n",
              "    .dataframe tbody tr th {\n",
              "        vertical-align: top;\n",
              "    }\n",
              "\n",
              "    .dataframe thead th {\n",
              "        text-align: right;\n",
              "    }\n",
              "</style>\n",
              "<table border=\"1\" class=\"dataframe\">\n",
              "  <thead>\n",
              "    <tr style=\"text-align: right;\">\n",
              "      <th></th>\n",
              "      <th>(scalarsubquery() / scalarsubquery())</th>\n",
              "    </tr>\n",
              "  </thead>\n",
              "  <tbody>\n",
              "    <tr>\n",
              "      <th>0</th>\n",
              "      <td>17.769608</td>\n",
              "    </tr>\n",
              "  </tbody>\n",
              "</table>\n",
              "</div>\n",
              "      <button class=\"colab-df-convert\" onclick=\"convertToInteractive('df-d93e9244-c61d-4ece-8593-dd7aca755be8')\"\n",
              "              title=\"Convert this dataframe to an interactive table.\"\n",
              "              style=\"display:none;\">\n",
              "        \n",
              "  <svg xmlns=\"http://www.w3.org/2000/svg\" height=\"24px\"viewBox=\"0 0 24 24\"\n",
              "       width=\"24px\">\n",
              "    <path d=\"M0 0h24v24H0V0z\" fill=\"none\"/>\n",
              "    <path d=\"M18.56 5.44l.94 2.06.94-2.06 2.06-.94-2.06-.94-.94-2.06-.94 2.06-2.06.94zm-11 1L8.5 8.5l.94-2.06 2.06-.94-2.06-.94L8.5 2.5l-.94 2.06-2.06.94zm10 10l.94 2.06.94-2.06 2.06-.94-2.06-.94-.94-2.06-.94 2.06-2.06.94z\"/><path d=\"M17.41 7.96l-1.37-1.37c-.4-.4-.92-.59-1.43-.59-.52 0-1.04.2-1.43.59L10.3 9.45l-7.72 7.72c-.78.78-.78 2.05 0 2.83L4 21.41c.39.39.9.59 1.41.59.51 0 1.02-.2 1.41-.59l7.78-7.78 2.81-2.81c.8-.78.8-2.07 0-2.86zM5.41 20L4 18.59l7.72-7.72 1.47 1.35L5.41 20z\"/>\n",
              "  </svg>\n",
              "      </button>\n",
              "      \n",
              "  <style>\n",
              "    .colab-df-container {\n",
              "      display:flex;\n",
              "      flex-wrap:wrap;\n",
              "      gap: 12px;\n",
              "    }\n",
              "\n",
              "    .colab-df-convert {\n",
              "      background-color: #E8F0FE;\n",
              "      border: none;\n",
              "      border-radius: 50%;\n",
              "      cursor: pointer;\n",
              "      display: none;\n",
              "      fill: #1967D2;\n",
              "      height: 32px;\n",
              "      padding: 0 0 0 0;\n",
              "      width: 32px;\n",
              "    }\n",
              "\n",
              "    .colab-df-convert:hover {\n",
              "      background-color: #E2EBFA;\n",
              "      box-shadow: 0px 1px 2px rgba(60, 64, 67, 0.3), 0px 1px 3px 1px rgba(60, 64, 67, 0.15);\n",
              "      fill: #174EA6;\n",
              "    }\n",
              "\n",
              "    [theme=dark] .colab-df-convert {\n",
              "      background-color: #3B4455;\n",
              "      fill: #D2E3FC;\n",
              "    }\n",
              "\n",
              "    [theme=dark] .colab-df-convert:hover {\n",
              "      background-color: #434B5C;\n",
              "      box-shadow: 0px 1px 3px 1px rgba(0, 0, 0, 0.15);\n",
              "      filter: drop-shadow(0px 1px 2px rgba(0, 0, 0, 0.3));\n",
              "      fill: #FFFFFF;\n",
              "    }\n",
              "  </style>\n",
              "\n",
              "      <script>\n",
              "        const buttonEl =\n",
              "          document.querySelector('#df-d93e9244-c61d-4ece-8593-dd7aca755be8 button.colab-df-convert');\n",
              "        buttonEl.style.display =\n",
              "          google.colab.kernel.accessAllowed ? 'block' : 'none';\n",
              "\n",
              "        async function convertToInteractive(key) {\n",
              "          const element = document.querySelector('#df-d93e9244-c61d-4ece-8593-dd7aca755be8');\n",
              "          const dataTable =\n",
              "            await google.colab.kernel.invokeFunction('convertToInteractive',\n",
              "                                                     [key], {});\n",
              "          if (!dataTable) return;\n",
              "\n",
              "          const docLinkHtml = 'Like what you see? Visit the ' +\n",
              "            '<a target=\"_blank\" href=https://colab.research.google.com/notebooks/data_table.ipynb>data table notebook</a>'\n",
              "            + ' to learn more about interactive tables.';\n",
              "          element.innerHTML = '';\n",
              "          dataTable['output_type'] = 'display_data';\n",
              "          await google.colab.output.renderOutput(dataTable, element);\n",
              "          const docLink = document.createElement('div');\n",
              "          docLink.innerHTML = docLinkHtml;\n",
              "          element.appendChild(docLink);\n",
              "        }\n",
              "      </script>\n",
              "    </div>\n",
              "  </div>\n",
              "  "
            ]
          },
          "metadata": {},
          "execution_count": 33
        }
      ]
    },
    {
      "cell_type": "code",
      "source": [
        "t_matches = spark.sql('select count(match_id) from table_matches')"
      ],
      "metadata": {
        "id": "7C74WDYl3Yev"
      },
      "execution_count": null,
      "outputs": []
    },
    {
      "cell_type": "code",
      "source": [
        "t_match = t_matches.toPandas()\n",
        "t_matches.collect()[0][0]"
      ],
      "metadata": {
        "colab": {
          "base_uri": "https://localhost:8080/"
        },
        "id": "bE7CHXSJ3Em_",
        "outputId": "762118c5-0210-4b75-c0e3-86cd30288536"
      },
      "execution_count": null,
      "outputs": [
        {
          "output_type": "execute_result",
          "data": {
            "text/plain": [
              "816"
            ]
          },
          "metadata": {},
          "execution_count": 170
        }
      ]
    },
    {
      "cell_type": "code",
      "source": [
        "t_matches = pd.Series(t_matches)\n",
        "t_matches.head()"
      ],
      "metadata": {
        "id": "NlLsAO8-3jnu"
      },
      "execution_count": null,
      "outputs": []
    },
    {
      "cell_type": "code",
      "source": [
        "table_analysis = {'field_win': [field_win.collect()[0][0]] , 'bat_win': [bat_win.collect()[0][0]], 'total_matches': [t_matches.collect()[0][0]]}"
      ],
      "metadata": {
        "id": "FnCyHTSQxIu1"
      },
      "execution_count": null,
      "outputs": []
    },
    {
      "cell_type": "code",
      "source": [
        "bat_win.collect()[0][0]"
      ],
      "metadata": {
        "colab": {
          "base_uri": "https://localhost:8080/"
        },
        "id": "UBsHR0gNFV1u",
        "outputId": "b3bd199c-fbe4-46ad-a5f5-6a1240e472bc"
      },
      "execution_count": null,
      "outputs": [
        {
          "output_type": "execute_result",
          "data": {
            "text/plain": [
              "17.769607843137255"
            ]
          },
          "metadata": {},
          "execution_count": 199
        }
      ]
    },
    {
      "cell_type": "code",
      "source": [
        "print(table_analysis)"
      ],
      "metadata": {
        "colab": {
          "base_uri": "https://localhost:8080/"
        },
        "id": "uT95wAmNzuuK",
        "outputId": "e511d178-df32-4970-b040-8a6e0ecf68ae"
      },
      "execution_count": null,
      "outputs": [
        {
          "output_type": "stream",
          "name": "stdout",
          "text": [
            "{'field_win': [33.455882352941174], 'bat_win': [17.769607843137255], 'total_matches': [816]}\n"
          ]
        }
      ]
    },
    {
      "cell_type": "code",
      "source": [
        "new = pd.DataFrame.from_dict(table_analysis)"
      ],
      "metadata": {
        "id": "BIuqZE5TzzuM"
      },
      "execution_count": null,
      "outputs": []
    },
    {
      "cell_type": "code",
      "source": [
        "print(new)"
      ],
      "metadata": {
        "colab": {
          "base_uri": "https://localhost:8080/"
        },
        "id": "bOs0ANBt0_R5",
        "outputId": "b66a5ddb-4aa1-4d6c-8c75-7700788a082a"
      },
      "execution_count": null,
      "outputs": [
        {
          "output_type": "stream",
          "name": "stdout",
          "text": [
            "   field_win    bat_win  total_matches\n",
            "0  33.455882  17.769608            816\n"
          ]
        }
      ]
    },
    {
      "cell_type": "code",
      "source": [
        "new_df_f = pd.DataFrame({'f_win': 33.455, 'total_matches': 816 } , index = ['f_win', 'total_matches'] )\n",
        "new_df_b = pd.DataFrame({'b_win': 17.7696, 'total_matches': 816}, index = ['b_win', 'total_matches'] )"
      ],
      "metadata": {
        "id": "Cmr6Twi6E-YK"
      },
      "execution_count": null,
      "outputs": []
    },
    {
      "cell_type": "code",
      "source": [
        "new_df.plot.bar()"
      ],
      "metadata": {
        "colab": {
          "base_uri": "https://localhost:8080/",
          "height": 282
        },
        "id": "GAAL5-4HF4fH",
        "outputId": "a5005db9-a3db-4809-a4e2-51ce3a4ffa83"
      },
      "execution_count": null,
      "outputs": [
        {
          "output_type": "execute_result",
          "data": {
            "text/plain": [
              "<matplotlib.axes._subplots.AxesSubplot at 0x7fee39996b90>"
            ]
          },
          "metadata": {},
          "execution_count": 215
        },
        {
          "output_type": "display_data",
          "data": {
            "text/plain": [
              "<Figure size 432x288 with 1 Axes>"
            ],
            "image/png": "[encoded data removed]"
          },
          "metadata": {
            "needs_background": "light"
          }
        }
      ]
    },
    {
      "cell_type": "markdown",
      "source": [
        "**Section 3: Expose data**"
      ],
      "metadata": {
        "id": "Jz8Kcd50lZs0"
      }
    },
    {
      "cell_type": "markdown",
      "source": [
        "**Section 1 : Loading data from csv's to the database**"
      ],
      "metadata": {
        "id": "ZYWBl0JoIbyx"
      }
    },
    {
      "cell_type": "code",
      "source": [
        "from google.colab import drive\n",
        "drive.mount('/content/drive')"
      ],
      "metadata": {
        "id": "GHPDpWRzIaOD",
        "colab": {
          "base_uri": "https://localhost:8080/"
        },
        "outputId": "1df04fed-f357-4705-ad20-517786c006d0"
      },
      "execution_count": null,
      "outputs": [
        {
          "output_type": "stream",
          "name": "stdout",
          "text": [
            "Drive already mounted at /content/drive; to attempt to forcibly remount, call drive.mount(\"/content/drive\", force_remount=True).\n"
          ]
        }
      ]
    },
    {
      "cell_type": "code",
      "source": [
        "# create database \n",
        "!pip install pysqlite3 "
      ],
      "metadata": {
        "colab": {
          "base_uri": "https://localhost:8080/"
        },
        "id": "4JLfOB-nNuYe",
        "outputId": "00ab7b3d-992a-45b0-8464-cb870dda12d6"
      },
      "execution_count": null,
      "outputs": [
        {
          "output_type": "stream",
          "name": "stdout",
          "text": [
            "Requirement already satisfied: pysqlite3 in /usr/local/lib/python3.7/dist-packages (0.4.7)\n"
          ]
        }
      ]
    },
    {
      "cell_type": "code",
      "source": [
        "import sqlite3 as sql\n",
        "import csv"
      ],
      "metadata": {
        "id": "v_EmaLsqP3Le"
      },
      "execution_count": null,
      "outputs": []
    },
    {
      "cell_type": "code",
      "source": [
        "conn = sql.connect('cricket.db')"
      ],
      "metadata": {
        "id": "MY731yCrQBIF"
      },
      "execution_count": null,
      "outputs": []
    },
    {
      "cell_type": "code",
      "source": [
        "# create a cursor\n",
        "conn = conn.cursor()"
      ],
      "metadata": {
        "id": "ylyfeWKnRDoC"
      },
      "execution_count": null,
      "outputs": []
    },
    {
      "cell_type": "markdown",
      "source": [
        "**Creating table ball and loading the dataset csv data into the table**"
      ],
      "metadata": {
        "id": "bT30UxfMjJ_g"
      }
    },
    {
      "cell_type": "code",
      "source": [
        "sql.connect('ipl.db')"
      ],
      "metadata": {
        "colab": {
          "base_uri": "https://localhost:8080/"
        },
        "id": "-5ZmPXUEyUNG",
        "outputId": "9a610d44-2a66-4724-d610-f6f80ddcea9a"
      },
      "execution_count": null,
      "outputs": [
        {
          "output_type": "execute_result",
          "data": {
            "text/plain": [
              "<sqlite3.Connection at 0x7f9d3e40dd50>"
            ]
          },
          "metadata": {},
          "execution_count": 12
        }
      ]
    },
    {
      "cell_type": "code",
      "source": [
        "conn = sql.connect(\":\")"
      ],
      "metadata": {
        "id": "RjrWKFVxyUIw"
      },
      "execution_count": null,
      "outputs": []
    },
    {
      "cell_type": "code",
      "source": [
        "c = conn.cursor()"
      ],
      "metadata": {
        "id": "XPWR-mBZyUG5"
      },
      "execution_count": null,
      "outputs": []
    },
    {
      "cell_type": "markdown",
      "source": [
        "**creating table ipl_ball**"
      ],
      "metadata": {
        "id": "9ojt-2pt0Sr9"
      }
    },
    {
      "cell_type": "code",
      "source": [
        "import sqlite3\n",
        "\n",
        "try:\n",
        "  conn = sql.connect('ipl.db')\n",
        "  c = conn.cursor()\n",
        "\n",
        "  create_table_ball = '''create table table_ball (match_id intger not null , \n",
        "                                                  inning integer , \n",
        "                                                  overs integer, \n",
        "                                                  ball integer , \n",
        "                                                  batsman text not null , \n",
        "                                                  non_striker text , \n",
        "                                                  bowler text , \n",
        "                                                  batsman_runs integer, \n",
        "                                                  extra_runs integer, \n",
        "                                                  total_runs integer , \n",
        "                                                  non_boundary integer, \n",
        "                                                  is_wicket integer , \n",
        "                                                  dismissal_kind text , \n",
        "                                                  player_dismissed text,\n",
        "                                                  fielder text ,\n",
        "                                                  extras_type text , \n",
        "                                                  batting_team text , \n",
        "                                                  bowling_team text, \n",
        "                                                  foreign key (match_id) references ipl_matches(match_id))'''\n",
        "  c.execute(create_table_ball)\n",
        "  print(\"Successfully Connected to ipl.db\")\n",
        "\n",
        "  file = open ('/content/drive/MyDrive/cloud computing/pyspark/ipl_ball_by_ball.csv')\n",
        "  contents_ball = csv.reader(file)\n",
        "  print('table_ball table created')\n",
        "  \n",
        "\n",
        "except sqlite3.Error as error:\n",
        "      print(\"Error while creating a table\", error)\n",
        "\n",
        "finally:\n",
        "    if conn:\n",
        "        conn.commit()\n",
        "       \n"
      ],
      "metadata": {
        "colab": {
          "base_uri": "https://localhost:8080/"
        },
        "id": "QpV53hvsyUC3",
        "outputId": "346bd887-b93c-45bd-dc56-6d3c7c99858b"
      },
      "execution_count": null,
      "outputs": [
        {
          "output_type": "stream",
          "name": "stdout",
          "text": [
            "Successfully Connected to ipl.db\n",
            "table_ball table created\n"
          ]
        }
      ]
    },
    {
      "cell_type": "code",
      "source": [
        "# c.execute('drop table table_ball;')"
      ],
      "metadata": {
        "colab": {
          "base_uri": "https://localhost:8080/"
        },
        "id": "QY-rTvlEtNtO",
        "outputId": "ac0581f7-3616-467f-d1cd-7b744e12231c"
      },
      "execution_count": null,
      "outputs": [
        {
          "output_type": "execute_result",
          "data": {
            "text/plain": [
              "<sqlite3.Cursor at 0x7f9d3a6e3c00>"
            ]
          },
          "metadata": {},
          "execution_count": 20
        }
      ]
    },
    {
      "cell_type": "markdown",
      "source": [
        "**creating table ipl_matches**"
      ],
      "metadata": {
        "id": "2U3-I5Zf0K1i"
      }
    },
    {
      "cell_type": "code",
      "source": [
        "try:\n",
        "  conn = sql.connect('ipl.db')\n",
        "  c = conn.cursor()\n",
        "\n",
        "  create_table_matches = '''create table table_matches (match_id integer primary key , \n",
        "                                                        date date , \n",
        "                                                        player_of_match text , \n",
        "                                                        venue_id integer , \n",
        "                                                        neutral_venue integer , \n",
        "                                                        team1 text , team2 text , \n",
        "                                                        toss_winner text , \n",
        "                                                        toss_decision text , \n",
        "                                                        winner text , \n",
        "                                                        result text , \n",
        "                                                        result_margin text , \n",
        "                                                        eliminator text , \n",
        "                                                        method text , \n",
        "                                                        umpire1 text , \n",
        "                                                        umpire2 text, \n",
        "                                                        foreign key(venue_id) references ipl_venue(venue_id))'''\n",
        "  conn.execute(create_table_matches)\n",
        "  print('Successfully connected to ipl.db')\n",
        "\n",
        "\n",
        "  file = open('/content/drive/MyDrive/cloud computing/pyspark/ipl_matches.csv')\n",
        "  contents_matches = csv.reader(file)\n",
        "  print('table_matches table created')\n",
        "  c.execute('select * from table_matches limit 3')\n",
        "\n",
        "except sqlite3.Error as error:\n",
        "  print(\"Error while creating a table\", error)\n",
        "\n",
        "finally:\n",
        "    if conn:\n",
        "        conn.commit()\n",
        "        \n",
        "        print(\"datbase connection is closed\")\n",
        "\n"
      ],
      "metadata": {
        "colab": {
          "base_uri": "https://localhost:8080/"
        },
        "id": "hu3s3F5OyT-Z",
        "outputId": "79d85be7-66a6-4fd2-a4b5-8f0230c4bdcf"
      },
      "execution_count": null,
      "outputs": [
        {
          "output_type": "stream",
          "name": "stdout",
          "text": [
            "Successfully connected to ipl.db\n",
            "table_matches table created\n",
            "datbase connection is closed\n"
          ]
        }
      ]
    },
    {
      "cell_type": "code",
      "source": [
        "c.execute('drop table table_matches;')"
      ],
      "metadata": {
        "colab": {
          "base_uri": "https://localhost:8080/"
        },
        "id": "jM0D7GWru6n9",
        "outputId": "58a9cd7a-1a26-4333-b0a8-968585858b52"
      },
      "execution_count": null,
      "outputs": [
        {
          "output_type": "execute_result",
          "data": {
            "text/plain": [
              "<sqlite3.Cursor at 0x7f9d3a747880>"
            ]
          },
          "metadata": {},
          "execution_count": 22
        }
      ]
    },
    {
      "cell_type": "markdown",
      "source": [
        "**Creating table venue**"
      ],
      "metadata": {
        "id": "uY7ejwes0yJw"
      }
    },
    {
      "cell_type": "code",
      "source": [
        "try:\n",
        "    conn = sql.connect('ipl.db')\n",
        "    c = conn.cursor()\n",
        "\n",
        "    create_table_venue = ''' create table table_venue(\n",
        "                              venue_id integer primary key, venue text , city text\n",
        "    )  '''\n",
        "    conn.execute(create_table_venue)\n",
        "    print('Successfully connected to ipl.db')\n",
        "\n",
        "    file = open('/content/drive/MyDrive/cloud computing/pyspark/ipl_venue.csv')\n",
        "    contents_venue = csv.reader(file)\n",
        "    print('venue table created')\n",
        "    \n",
        "\n",
        "except sqlite3.Error as error:\n",
        "  print(\"Error while creating a table\", error)\n",
        "\n",
        "finally:\n",
        "    if conn:\n",
        "        conn.commit()\n",
        "        \n",
        "        print(\"datbase connection is closed\")\n",
        "  "
      ],
      "metadata": {
        "colab": {
          "base_uri": "https://localhost:8080/"
        },
        "id": "60AtHhiZyT6r",
        "outputId": "941c84ca-081f-45e4-d0bd-09eaa878429e"
      },
      "execution_count": null,
      "outputs": [
        {
          "output_type": "stream",
          "name": "stdout",
          "text": [
            "Successfully connected to ipl.db\n",
            "venue table created\n",
            "datbase connection is closed\n"
          ]
        }
      ]
    },
    {
      "cell_type": "code",
      "source": [
        "c.execute('drop table table_venue;')"
      ],
      "metadata": {
        "colab": {
          "base_uri": "https://localhost:8080/"
        },
        "id": "xAuL-UyTvBSj",
        "outputId": "c6459f99-2b74-487b-e24f-b54497f042d7"
      },
      "execution_count": null,
      "outputs": [
        {
          "output_type": "execute_result",
          "data": {
            "text/plain": [
              "<sqlite3.Cursor at 0x7f9d3a701730>"
            ]
          },
          "metadata": {},
          "execution_count": 24
        }
      ]
    },
    {
      "cell_type": "markdown",
      "source": [
        "**Insert values into table ipl_ball**"
      ],
      "metadata": {
        "id": "qLh8M3eN1PXj"
      }
    },
    {
      "cell_type": "code",
      "source": [
        "conn = sql.connect('ipl.db')\n",
        "c = conn.cursor()\n",
        "\n",
        "insert_records_ball = \"INSERT INTO table_ball (match_id, inning , overs,ball,batsman,non_striker,bowler, batsman_runs,extra_runs,total_runs, non_boundary , is_wicket, dismissal_kind,player_dismissed,fielder,extras_type, batting_team , bowling_team) VALUES(?, ?,?,?, ?,?,?, ?,?,?, ?,?,?, ?,?,?, ?,?)\"\n",
        "conn.executemany(insert_records_ball, contents_ball)\n",
        "\n",
        "select_all = \"SELECT * FROM table_ball\"\n",
        "rows = conn.execute(select_all).fetchall()\n",
        "\n",
        "\n",
        "\n",
        "conn.commit()\n"
      ],
      "metadata": {
        "id": "Na5c7uwqyT4V"
      },
      "execution_count": null,
      "outputs": []
    },
    {
      "cell_type": "code",
      "source": [
        "conn.execute('''drop table table_ball ''')"
      ],
      "metadata": {
        "colab": {
          "base_uri": "https://localhost:8080/"
        },
        "id": "_g82_dJcYW6W",
        "outputId": "aeda5101-b2ed-426c-c5ce-2574dcad00c5"
      },
      "execution_count": null,
      "outputs": [
        {
          "output_type": "execute_result",
          "data": {
            "text/plain": [
              "<sqlite3.Cursor at 0x7f7f4bba8b90>"
            ]
          },
          "metadata": {},
          "execution_count": 269
        }
      ]
    },
    {
      "cell_type": "markdown",
      "source": [
        "**Insert values into table ipl_matches**"
      ],
      "metadata": {
        "id": "5oT4P0wG1w6G"
      }
    },
    {
      "cell_type": "code",
      "source": [
        "conn = sql.connect('ipl.db')\n",
        "c = conn.cursor()\n",
        "\n",
        "insert_record_matches = '''insert into table_matches(match_id, date, player_of_match , venue_id, neutral_venue , team1, team2 , toss_winner , toss_decision, winner , result , result_margin , eliminator , method, umpire1, umpire2)values (?,?,?,?,?,?,?,?,?,?,?,?,?,?,?,?) '''\n",
        "conn.executemany(insert_record_matches, contents_matches)\n",
        "\n",
        "select_all = \"SELECT * FROM table_matches\"\n",
        "rows = conn.execute(select_all).fetchall()\n",
        "\n",
        "\n",
        "conn.commit()"
      ],
      "metadata": {
        "id": "qSjv2sBmvdxy"
      },
      "execution_count": null,
      "outputs": []
    },
    {
      "cell_type": "markdown",
      "source": [
        "**Insert values into table venue**"
      ],
      "metadata": {
        "id": "Lv2C1Jls20Fg"
      }
    },
    {
      "cell_type": "code",
      "source": [
        "conn = sql.connect('ipl.db')\n",
        "c= conn.cursor()\n",
        "\n",
        "insert_record_venue = ''' insert into table_venue(venue_id,venue, city) values (?,?,?) '''\n",
        "conn.executemany(insert_record_venue, contents_venue)\n",
        "\n",
        "select_all = \"SELECT * FROM table_venue\"\n",
        "rows = conn.execute(select_all).fetchall()\n",
        "\n",
        "\n",
        "conn.commit()"
      ],
      "metadata": {
        "id": "3LN1J6IpmPo0"
      },
      "execution_count": null,
      "outputs": []
    },
    {
      "cell_type": "markdown",
      "source": [
        "**Query1**"
      ],
      "metadata": {
        "id": "12CoyuTYdOwX"
      }
    },
    {
      "cell_type": "code",
      "source": [
        "import json\n",
        "\n",
        "q1 = c.execute('select venue_id , venue from table_venue where venue_id in (select venue_id from table_matches where eliminator == \"Y\" ) order by venue_id desc limit 3;')\n",
        "for row in q1:\n",
        "  dict1 = {\"venue_id\": row[0], \"venue\": row[1]}\n",
        "  j = json.dumps(dict1)\n",
        "  print(j)\n",
        "type(q1)\n"
      ],
      "metadata": {
        "colab": {
          "base_uri": "https://localhost:8080/"
        },
        "id": "y_xQ6_WxdSA7",
        "outputId": "f63f47a3-6f3a-42f5-ffd1-b4c63869c619"
      },
      "execution_count": null,
      "outputs": [
        {
          "output_type": "stream",
          "name": "stdout",
          "text": [
            "{\"venue_id\": 38, \"venue\": \"Sheikh Zayed Stadium\"}\n",
            "{\"venue_id\": 37, \"venue\": \"Sardar Patel Stadium, Motera\"}\n",
            "{\"venue_id\": 35, \"venue\": \"M.Chinnaswamy Stadium\"}\n"
          ]
        },
        {
          "output_type": "execute_result",
          "data": {
            "text/plain": [
              "sqlite3.Cursor"
            ]
          },
          "metadata": {},
          "execution_count": 50
        }
      ]
    },
    {
      "cell_type": "code",
      "source": [
        ""
      ],
      "metadata": {
        "id": "hp8FPhmDEPa4"
      },
      "execution_count": null,
      "outputs": []
    },
    {
      "cell_type": "code",
      "source": [
        ""
      ],
      "metadata": {
        "id": "DZguXQLzEPVx"
      },
      "execution_count": null,
      "outputs": []
    },
    {
      "cell_type": "code",
      "source": [
        ""
      ],
      "metadata": {
        "id": "I5VSfggUEPSp"
      },
      "execution_count": null,
      "outputs": []
    },
    {
      "cell_type": "markdown",
      "source": [
        "**Query2**"
      ],
      "metadata": {
        "id": "sThKnQK8drcR"
      }
    },
    {
      "cell_type": "code",
      "source": [
        "\n",
        "q2 = c.execute('select bowler , sum(is_wicket) as sum from table_ball group by bowler limit 4')\n",
        "for row in q2:\n",
        "  dict1 = {\"bowler\": row[0], \"sum\": row[1]}\n",
        "  j = json.dumps(dict1)\n",
        "  print(j)\n",
        "    "
      ],
      "metadata": {
        "id": "j-TlyfQXdR9B",
        "colab": {
          "base_uri": "https://localhost:8080/"
        },
        "outputId": "a4da517c-ae4d-46e8-a691-144b76d67167"
      },
      "execution_count": null,
      "outputs": [
        {
          "output_type": "stream",
          "name": "stdout",
          "text": [
            "{\"bowler\": \"A Ashish Reddy\", \"sum\": 19}\n",
            "{\"bowler\": \"A Chandila\", \"sum\": 11}\n",
            "{\"bowler\": \"A Choudhary\", \"sum\": 5}\n",
            "{\"bowler\": \"A Dananjaya\", \"sum\": 0}\n"
          ]
        }
      ]
    },
    {
      "cell_type": "code",
      "source": [
        "q3 = c.execute('select match_id , bowler, sum(is_wicket) as Sum from table_ball where match_id in (select match_id from table_matches where method == \"D/L\") group by match_id , bowler limit 4')\n",
        "for row in q3 :\n",
        "  dict1 = (row[0], row[1], row[2])\n",
        "  j = json.dumps(dict1)\n",
        "  print(j)"
      ],
      "metadata": {
        "id": "LbHua8LMdR48",
        "colab": {
          "base_uri": "https://localhost:8080/"
        },
        "outputId": "d19c3315-1398-438c-f196-d304adff2bca"
      },
      "execution_count": null,
      "outputs": [
        {
          "output_type": "stream",
          "name": "stdout",
          "text": [
            "[336022, \"A Mishra\", 1]\n",
            "[336022, \"GD McGrath\", 1]\n",
            "[336022, \"IK Pathan\", 0]\n",
            "[336022, \"JR Hopes\", 2]\n"
          ]
        }
      ]
    },
    {
      "cell_type": "code",
      "source": [
        ""
      ],
      "metadata": {
        "id": "uCDrKrmedR0o"
      },
      "execution_count": null,
      "outputs": []
    },
    {
      "cell_type": "markdown",
      "source": [
        "**Creating a python class**"
      ],
      "metadata": {
        "id": "775dZmH56qz9"
      }
    },
    {
      "cell_type": "code",
      "source": [
        "import json\n",
        "class Database():\n",
        "  def initialize_connect():\n",
        "    try:\n",
        "        conn = sql.connect('ipl.db')\n",
        "        c = conn.cursor()\n",
        "\n",
        "    except sqlite3.Error as error:\n",
        "        print(\"Error while connecting to database\", error)\n",
        "\n",
        "    def result_set():\n",
        "                \n",
        "\n",
        "                result2 = c.execute('select bowler , sum(is_wicket) as Sum from table_ball group By bowler ')"
      ],
      "metadata": {
        "id": "hGBRYAp6b5T4"
      },
      "execution_count": null,
      "outputs": []
    },
    {
      "cell_type": "markdown",
      "source": [
        "**function1**"
      ],
      "metadata": {
        "id": "xS9EDyM2R8-A"
      }
    },
    {
      "cell_type": "code",
      "source": [
        "import json\n",
        "def get_query1_result():\n",
        "  q1 = c.execute('select venue_id , venue from table_venue where venue_id in (select venue_id from table_matches where eliminator == \"Y\" ) order by venue_id desc limit 3;')\n",
        "  for row in q1:\n",
        "    dict1 = {\"venue_id\": row[0], \"venue\": row[1]}\n",
        "    j = json.dumps(dict1)\n",
        "    print(j)\n",
        "get_query1_result()"
      ],
      "metadata": {
        "id": "C9LFY2IHb5PG",
        "colab": {
          "base_uri": "https://localhost:8080/"
        },
        "outputId": "eedf12b0-4e29-467c-9514-9707c84ff311"
      },
      "execution_count": null,
      "outputs": [
        {
          "output_type": "stream",
          "name": "stdout",
          "text": [
            "{\"venue_id\": 38, \"venue\": \"Sheikh Zayed Stadium\"}\n",
            "{\"venue_id\": 37, \"venue\": \"Sardar Patel Stadium, Motera\"}\n",
            "{\"venue_id\": 35, \"venue\": \"M.Chinnaswamy Stadium\"}\n"
          ]
        }
      ]
    },
    {
      "cell_type": "markdown",
      "source": [
        "**function2**"
      ],
      "metadata": {
        "id": "pum8M9EKSBmt"
      }
    },
    {
      "cell_type": "markdown",
      "source": [
        "**2. Return most number of catches taken by a player in IPL history?**"
      ],
      "metadata": {
        "id": "dc8IucxCSKR0"
      }
    },
    {
      "cell_type": "code",
      "source": [
        "def get_query2_result():\n",
        "  q2 = c.execute('select bowler , sum(is_wicket) as sum from table_ball order by sum desc limit 4')\n",
        "  for row in q2:\n",
        "    dict1 = {\"bowler\": row[0], \"sum\": row[1]}\n",
        "    j = json.dumps(dict1)\n",
        "    print(j)\n",
        "get_query2_result()\n"
      ],
      "metadata": {
        "id": "emD3ldrl6pW_",
        "colab": {
          "base_uri": "https://localhost:8080/"
        },
        "outputId": "e5c8acd2-3ef5-4bdd-9e76-8990d0d2e296"
      },
      "execution_count": null,
      "outputs": [
        {
          "output_type": "stream",
          "name": "stdout",
          "text": [
            "{\"bowler\": \"TK Curran\", \"sum\": 9495.0}\n"
          ]
        }
      ]
    },
    {
      "cell_type": "markdown",
      "source": [
        "**3. Write a query to return a report for highest wicket taker in matches which were affected by\n",
        "Duckworth-Lewis’s method (D/L method).**"
      ],
      "metadata": {
        "id": "CJLBUYMnSycP"
      }
    },
    {
      "cell_type": "code",
      "source": [
        "def get_query3_result():\n",
        "  q3 = c.execute('select match_id,bowler, sum(is_wicket) as sum from table_ball where match_id in (select match_id from table_matches where method == \"D/L\")order by sum')\n",
        "  for row in q3:\n",
        "    dict1 = {\"match_id\": row[0], \"bowler\": row[1],\"sum\": row[2]}\n",
        "    j = json.dumps(dict1)\n",
        "    print(j)\n",
        "get_query3_result()\n",
        "\n"
      ],
      "metadata": {
        "id": "85UUBxQz6pRW",
        "colab": {
          "base_uri": "https://localhost:8080/"
        },
        "outputId": "11f6fca5-4d09-46fd-c116-6c793bad7fb8"
      },
      "execution_count": null,
      "outputs": [
        {
          "output_type": "stream",
          "name": "stdout",
          "text": [
            "{\"match_id\": 733993, \"bowler\": \"A Mishra\", \"sum\": 155}\n"
          ]
        }
      ]
    },
    {
      "cell_type": "markdown",
      "source": [
        "**4. Write a query to return a report for highest strike rate by a batsman in non powerplay\n",
        "overs(7-20 overs)**"
      ],
      "metadata": {
        "id": "MfQqjYvDUS7S"
      }
    },
    {
      "cell_type": "code",
      "source": [
        ""
      ],
      "metadata": {
        "id": "mXxj7O6Z6pNZ"
      },
      "execution_count": null,
      "outputs": []
    },
    {
      "cell_type": "markdown",
      "source": [
        "**5. Write a query to return a report for highest extra runs in a venue (stadium, city).**"
      ],
      "metadata": {
        "id": "pc_ZjZbMUWSV"
      }
    },
    {
      "cell_type": "code",
      "source": [
        "def get_query5_result():\n",
        "  q5 = c.execute('select t_v.venue as stadium , t_v.city , max(t_b.extra_runs) as exRuns from ((table_venue as t_v join table_matches as t_m)join table_ball as t_b) group by stadium , city ')\n",
        "  for row in q5:\n",
        "    dict1 = {\"match_id\": row[0], \"bowler\": row[1],\"sum\": row[2]}\n",
        "    j = json.dumps(dict1)\n",
        "    print(j)\n",
        "get_query5_result()"
      ],
      "metadata": {
        "id": "WrQzTM0MlIaA"
      },
      "execution_count": null,
      "outputs": []
    },
    {
      "cell_type": "code",
      "source": [
        "conn.execute('select t_v.venue as stadium , t_v.city , max(t_b.extra_runs) as exRuns from ((table_venue as t_v join table_matches as t_m)join table_ball as t_b) group by stadium , city ')"
      ],
      "metadata": {
        "colab": {
          "base_uri": "https://localhost:8080/",
          "height": 182
        },
        "id": "HrD3rLlhnzQx",
        "outputId": "624ec9cb-800a-427a-b907-c686eb420299"
      },
      "execution_count": null,
      "outputs": [
        {
          "output_type": "error",
          "ename": "NameError",
          "evalue": "ignored",
          "traceback": [
            "\u001b[0;31m---------------------------------------------------------------------------\u001b[0m",
            "\u001b[0;31mNameError\u001b[0m                                 Traceback (most recent call last)",
            "\u001b[0;32m<ipython-input-4-890060df193e>\u001b[0m in \u001b[0;36m<module>\u001b[0;34m()\u001b[0m\n\u001b[0;32m----> 1\u001b[0;31m \u001b[0mconn\u001b[0m\u001b[0;34m.\u001b[0m\u001b[0mexecute\u001b[0m\u001b[0;34m(\u001b[0m\u001b[0;34m'select t_v.venue as stadium , t_v.city , max(t_b.extra_runs) as exRuns from ((table_venue as t_v join table_matches as t_m)join table_ball as t_b) group by stadium , city '\u001b[0m\u001b[0;34m)\u001b[0m\u001b[0;34m\u001b[0m\u001b[0;34m\u001b[0m\u001b[0m\n\u001b[0m",
            "\u001b[0;31mNameError\u001b[0m: name 'conn' is not defined"
          ]
        }
      ]
    },
    {
      "cell_type": "markdown",
      "source": [
        "**6. Write a query to return a report for the cricketers with the most number of players of the\n",
        "match award in neutral venues.**"
      ],
      "metadata": {
        "id": "1QycPvsJXwAC"
      }
    },
    {
      "cell_type": "code",
      "source": [
        "def get_query6_result():\n",
        "  q6 = c.execute('select max(player_of_match) neutral_venue from table_matches where neutral_venue == 1')\n",
        "  for row in q6:\n",
        "    dict1 = {\"player_of_match\": row[0], \"neutral_venue\": row[1]}\n",
        "    j = json.dumps(dict1)\n",
        "    print(j)\n",
        "get_query6_result()"
      ],
      "metadata": {
        "id": "s04moJgnWxI3"
      },
      "execution_count": null,
      "outputs": []
    },
    {
      "cell_type": "code",
      "source": [
        ""
      ],
      "metadata": {
        "id": "nEiUp9k0X4Ye"
      },
      "execution_count": null,
      "outputs": []
    },
    {
      "cell_type": "markdown",
      "source": [
        "**7. Write a query to get a list of top 10 players with the highest batting average Note: Batting\n",
        "average is the total number of runs scored divided by the number of times they have been\n",
        "out (Make sure to include run outs (on non-striker end) as valid out while calculating average).**"
      ],
      "metadata": {
        "id": "xNa2CFPDX4-e"
      }
    },
    {
      "cell_type": "code",
      "source": [
        "def get_query7_result():\n",
        "  q7 = c.execute('')\n",
        "  for row in q7:\n",
        "    dict1 = {\"match_id\": row[0], \"bowler\": row[1],\"sum\": row[2]}\n",
        "    j = json.dumps(dict1)\n",
        "    print(j)\n",
        "get_query7_result()"
      ],
      "metadata": {
        "id": "vDkiXNmFX4Vc"
      },
      "execution_count": null,
      "outputs": []
    },
    {
      "cell_type": "markdown",
      "source": [
        "**8. Write a query to find out who has officiated (as an umpire) the most number of matches in\n",
        "IPL.**"
      ],
      "metadata": {
        "id": "Sy4vAgjIYCDx"
      }
    },
    {
      "cell_type": "code",
      "source": [
        "def get_query8_result():\n",
        "  q8 = c.execute('select max(umpire1), max(umpire2)from table_matches')\n",
        "  for row in q8:\n",
        "    dict1 = {\"umpire1\": row[0], \"umpire2\": row[1]}\n",
        "    j = json.dumps(dict1)\n",
        "    print(j)\n",
        "get_query8_result()"
      ],
      "metadata": {
        "colab": {
          "base_uri": "https://localhost:8080/"
        },
        "id": "ERAsqQc1YFgB",
        "outputId": "0fcaf67d-3fb7-411c-f3a3-3082750b4f0d"
      },
      "execution_count": null,
      "outputs": [
        {
          "output_type": "stream",
          "name": "stdout",
          "text": [
            "{\"umpire1\": \"YC Barde\", \"umpire2\": \"YC Barde\"}\n"
          ]
        }
      ]
    },
    {
      "cell_type": "markdown",
      "source": [
        "**9. Find venue details of the match where V Kohli scored his highest individual runs in IPL**"
      ],
      "metadata": {
        "id": "H_Gp26d_YG7X"
      }
    },
    {
      "cell_type": "code",
      "source": [
        "def get_query9_result():\n",
        "  q9 = c.execute('select venue as stadium , city , batsman as name , sum(batsman_runs) as score from table_venue join table_matches on table_venue.venue_id = table_matches.venue_id join table_ball on table_matches.match_id = table_ball.match_id where table_ball.batsman == \"V Kohli\" order by score ')\n",
        "  for row in q9:\n",
        "    dict1 = {\"match_id\": row[0], \"bowler\": row[1],\"sum\": row[2]}\n",
        "    j = json.dumps(dict1)\n",
        "    print(j)\n",
        "get_query9_result()"
      ],
      "metadata": {
        "id": "Y0QISzxcYFai"
      },
      "execution_count": null,
      "outputs": []
    },
    {
      "cell_type": "code",
      "source": [
        ""
      ],
      "metadata": {
        "id": "OH2LZjXYYMSP"
      },
      "execution_count": null,
      "outputs": []
    },
    {
      "cell_type": "markdown",
      "source": [
        "**10. Creative Case study:\n",
        "Please analyze how winning/losing tosses can impact a match and it's result?**"
      ],
      "metadata": {
        "id": "tDT0qycXYNCL"
      }
    },
    {
      "cell_type": "code",
      "source": [
        "def get_query3_result():\n",
        "  q3 = c.execute('select match_id,bowler, sum(is_wicket) as sum from table_ball where match_id in (select match_id from table_matches where method == \"D/L\")order by sum')\n",
        "  for row in q3:\n",
        "    dict1 = {\"match_id\": row[0], \"bowler\": row[1],\"sum\": row[2]}\n",
        "    j = json.dumps(dict1)\n",
        "    print(j)\n",
        "get_query3_result()"
      ],
      "metadata": {
        "id": "hKYPAomyYMAc"
      },
      "execution_count": null,
      "outputs": []
    },
    {
      "cell_type": "code",
      "source": [
        ""
      ],
      "metadata": {
        "id": "ca3QSnnwX4Sc"
      },
      "execution_count": null,
      "outputs": []
    }
  ]
}