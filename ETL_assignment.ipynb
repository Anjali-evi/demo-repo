{
  "nbformat": 4,
  "nbformat_minor": 0,
  "metadata": {
    "colab": {
      "name": "ETL_assignment.ipynb",
      "provenance": [],
      "collapsed_sections": [],
      "authorship_tag": "ABX9TyNIB2qrZmDdJJTuZ5S3dFyS",
      "include_colab_link": true
    },
    "kernelspec": {
      "name": "python3",
      "display_name": "Python 3"
    },
    "language_info": {
      "name": "python"
    }
  },
  "cells": [
    {
      "cell_type": "markdown",
      "metadata": {
        "id": "view-in-github",
        "colab_type": "text"
      },
      "source": [
        "<a href=\"https://colab.research.google.com/github/Anjali-evi/demo-repo/blob/main/ETL_assignment.ipynb\" target=\"_parent\"><img src=\"https://colab.research.google.com/assets/colab-badge.svg\" alt=\"Open In Colab\"/></a>"
      ]
    },
    {
      "cell_type": "markdown",
      "source": [
        "# ETL"
      ],
      "metadata": {
        "id": "M0ASbtynhFsb"
      }
    },
    {
      "cell_type": "markdown",
      "source": [
        "### ETL means EXTRACT , TRANSFORM and LOAD. It is a data integration process that combines data from multiple data sources into a single, consistent data store that is loaded into a data warehouse or other target system."
      ],
      "metadata": {
        "id": "RvBzW2JFfAO2"
      }
    },
    {
      "cell_type": "markdown",
      "source": [
        "### Object outline: \n",
        "- We will initially scrape data from the website\n",
        "- Next, we will transform the data: meaning clean the data \n",
        "- We will store that data in the database"
      ],
      "metadata": {
        "id": "vrkcGIvmhR9V"
      }
    },
    {
      "cell_type": "markdown",
      "source": [
        "### Tools used for this:\n",
        "- For Extract step:\n",
        "    - We use Programming language Python and BeautifulSoup the python library for pulling data out of HTML file. \n",
        "    - We will use pandas python library for cleaning the data and creating the input file for loading it to database\n",
        "    - At last , we will use SQLite3 database to load the data created by above two steps"
      ],
      "metadata": {
        "id": "Ia-T0_UCh9iO"
      }
    },
    {
      "cell_type": "markdown",
      "source": [
        "### Step 1. Extract the data from the website"
      ],
      "metadata": {
        "id": "5j7RizF1jeWe"
      }
    },
    {
      "cell_type": "markdown",
      "source": [
        "#### Import request library for pull data from the website"
      ],
      "metadata": {
        "id": "_fRIhik-jnkV"
      }
    },
    {
      "cell_type": "code",
      "execution_count": null,
      "metadata": {
        "id": "iuqTRm7ceZZr"
      },
      "outputs": [],
      "source": [
        "import requests\n",
        "from bs4 import BeautifulSoup"
      ]
    },
    {
      "cell_type": "code",
      "source": [
        "topic_url = 'https://www.estesparkweather.net/archive_reports.php?date=202005'\n",
        "response = requests.get(topic_url)\n",
        "response.status_code"
      ],
      "metadata": {
        "colab": {
          "base_uri": "https://localhost:8080/"
        },
        "id": "JfsyhFIZj7C6",
        "outputId": "cbfaaa61-c94f-4c7e-8ec1-27b68f91c723"
      },
      "execution_count": null,
      "outputs": [
        {
          "output_type": "execute_result",
          "data": {
            "text/plain": [
              "200"
            ]
          },
          "metadata": {},
          "execution_count": 2
        }
      ]
    },
    {
      "cell_type": "code",
      "source": [
        "len(response.text)"
      ],
      "metadata": {
        "colab": {
          "base_uri": "https://localhost:8080/"
        },
        "id": "2_nUFtz6kFhY",
        "outputId": "b07ffdf9-1dcd-4589-db0e-bdf6cd762a18"
      },
      "execution_count": null,
      "outputs": [
        {
          "output_type": "execute_result",
          "data": {
            "text/plain": [
              "117345"
            ]
          },
          "metadata": {},
          "execution_count": 3
        }
      ]
    },
    {
      "cell_type": "code",
      "source": [
        "page_contents = response.text"
      ],
      "metadata": {
        "id": "niGwy6F6kIaD"
      },
      "execution_count": null,
      "outputs": []
    },
    {
      "cell_type": "code",
      "source": [
        "page_contents[:300]"
      ],
      "metadata": {
        "colab": {
          "base_uri": "https://localhost:8080/",
          "height": 70
        },
        "id": "h_HFSOjnkLKb",
        "outputId": "503053fc-2bb4-4696-8454-e4df71871ccd"
      },
      "execution_count": null,
      "outputs": [
        {
          "output_type": "execute_result",
          "data": {
            "text/plain": [
              "'<!DOCTYPE html PUBLIC \"-//W3C//DTD XHTML 1.0 Strict//EN\" \"http://www.w3.org/TR/xhtml1/DTD/xhtml1-strict.dtd\">\\n<html xmlns=\"http://www.w3.org/1999/xhtml\">\\n<!-- DW6 -->\\n<head>\\n<!-- Copyright 2005 Macromedia, Inc. All rights reserved. -->\\n<meta http-equiv=\"Refresh\" content=\"300\" />\\n<meta http-equiv=\"Pr'"
            ],
            "application/vnd.google.colaboratory.intrinsic+json": {
              "type": "string"
            }
          },
          "metadata": {},
          "execution_count": 5
        }
      ]
    },
    {
      "cell_type": "markdown",
      "source": [
        "#### Creating an HTML file for the website we requested"
      ],
      "metadata": {
        "id": "q8Yqw4jtnME7"
      }
    },
    {
      "cell_type": "code",
      "source": [
        "with open('weather_page.html', 'w', encoding=\"utf-8\") as f:\n",
        "    f.write(page_contents)"
      ],
      "metadata": {
        "id": "IrUI7AwykNdD"
      },
      "execution_count": null,
      "outputs": []
    },
    {
      "cell_type": "code",
      "source": [
        "doc = BeautifulSoup(page_contents,'html.parser')"
      ],
      "metadata": {
        "id": "puE-K8m_kPv2"
      },
      "execution_count": null,
      "outputs": []
    },
    {
      "cell_type": "code",
      "source": [
        "len(doc)"
      ],
      "metadata": {
        "colab": {
          "base_uri": "https://localhost:8080/"
        },
        "id": "DwdV0wX_kSTr",
        "outputId": "c17b03de-3b0c-49ae-d650-a2465965ed0b"
      },
      "execution_count": null,
      "outputs": [
        {
          "output_type": "execute_result",
          "data": {
            "text/plain": [
              "16"
            ]
          },
          "metadata": {},
          "execution_count": 8
        }
      ]
    },
    {
      "cell_type": "markdown",
      "source": [
        "## Assignment objective\n",
        "As our final objective it to create a database holdimg a table\n"
      ],
      "metadata": {
        "id": "SVluwO15nbbM"
      }
    },
    {
      "cell_type": "markdown",
      "source": [
        "#### Search for the table in the html file : "
      ],
      "metadata": {
        "id": "TT2m27iyn7Xc"
      }
    },
    {
      "cell_type": "code",
      "source": [
        "table_data = doc.find_all('table')"
      ],
      "metadata": {
        "id": "X7X5veRBkUTn"
      },
      "execution_count": null,
      "outputs": []
    },
    {
      "cell_type": "code",
      "source": [
        "# number of tables we have in our page\n",
        "len(table_data) "
      ],
      "metadata": {
        "colab": {
          "base_uri": "https://localhost:8080/"
        },
        "id": "Z57jPW5LkYI9",
        "outputId": "2e0bddde-bad7-42a4-f552-30480a1a996d"
      },
      "execution_count": null,
      "outputs": [
        {
          "output_type": "execute_result",
          "data": {
            "text/plain": [
              "40"
            ]
          },
          "metadata": {},
          "execution_count": 54
        }
      ]
    },
    {
      "cell_type": "code",
      "source": [
        "# first table in html : viewed\n",
        "table_data[0]"
      ],
      "metadata": {
        "colab": {
          "base_uri": "https://localhost:8080/"
        },
        "id": "h6xU3bUTkaHN",
        "outputId": "578a48f6-fb8a-4bb6-9953-8b7e5179a23d"
      },
      "execution_count": null,
      "outputs": [
        {
          "output_type": "execute_result",
          "data": {
            "text/plain": [
              "<table border=\"0\" cellpadding=\"3\" cellspacing=\"0\">\n",
              "<tr class=\"table-top\">\n",
              "<td colspan=\"2\">May 1 Average and Extremes</td>\n",
              "</tr>\n",
              "<tr class=\"column-light\">\n",
              "<td>Average temperature</td><td> 57.8�F</td>\n",
              "</tr>\n",
              "<tr class=\"column-dark\">\n",
              "<td>Average humidity</td><td> 45%</td>\n",
              "</tr>\n",
              "<tr class=\"column-light\">\n",
              "<td>Average dewpoint</td><td> 33.9�F</td>\n",
              "</tr>\n",
              "<tr class=\"column-dark\">\n",
              "<td>Average barometer</td><td> 29.6 in.</td>\n",
              "</tr>\n",
              "<tr class=\"column-light\">\n",
              "<td>Average windspeed</td><td> 5.2 mph</td>\n",
              "</tr>\n",
              "<tr class=\"column-dark\">\n",
              "<td>Average gustspeed</td><td> 8.0 mph</td>\n",
              "</tr>\n",
              "<tr class=\"column-light\">\n",
              "<td>Average direction</td><td> 238� (WSW)</td>\n",
              "</tr>\n",
              "<tr class=\"column-dark\">\n",
              "<td>Rainfall for month</td><td> 0.00 in.</td>\n",
              "</tr>\n",
              "<tr class=\"column-light\">\n",
              "<td>Rainfall for year</td><td> 2.40 in.</td>\n",
              "</tr>\n",
              "<tr class=\"column-dark\">\n",
              "<td>Maximum rain per minute</td><td> 0.00 in. on day 01 at time 00:00</td>\n",
              "</tr>\n",
              "<tr class=\"column-light\">\n",
              "<td>Maximum temperature</td><td> 71.8�F on day 01 at time 14:41</td>\n",
              "</tr>\n",
              "<tr class=\"column-dark\">\n",
              "<td>Minimum temperature</td><td> 41.5�F on day 01 at time 06:24</td>\n",
              "</tr>\n",
              "<tr class=\"column-light\">\n",
              "<td>Maximum humidity</td><td> 83% on day 01 at time 00:00</td>\n",
              "</tr>\n",
              "<tr class=\"column-dark\">\n",
              "<td>Minimum humidity</td><td> 19% on day 01 at time 14:07</td>\n",
              "</tr>\n",
              "<tr class=\"column-light\">\n",
              "<td>Maximum pressure</td><td> 29.724 in. on day 01 at time 22:22</td>\n",
              "</tr>\n",
              "<tr class=\"column-dark\">\n",
              "<td>Minimum pressure</td><td> 29.515 in. on day 01 at time 16:13</td>\n",
              "</tr>\n",
              "<tr class=\"column-light\">\n",
              "<td>Maximum windspeed</td><td> 18.4 mph on day 01 at time 21:02</td>\n",
              "</tr>\n",
              "<tr class=\"column-dark\">\n",
              "<td>Maximum gust speed</td><td> 29.9 mph  from 063 �(ENE) on day 01 at time 20:57</td>\n",
              "</tr>\n",
              "<tr class=\"column-light\">\n",
              "<td>Maximum heat index</td><td> 76.6�F on day 01 at time 15:57</td>\n",
              "</tr>\n",
              "</table>"
            ]
          },
          "metadata": {},
          "execution_count": 11
        }
      ]
    },
    {
      "cell_type": "code",
      "source": [
        "table_data[1]"
      ],
      "metadata": {
        "colab": {
          "base_uri": "https://localhost:8080/"
        },
        "id": "0LiPx7tOkcyp",
        "outputId": "3b40b51a-41bd-4271-c416-d771015180c9"
      },
      "execution_count": null,
      "outputs": [
        {
          "output_type": "execute_result",
          "data": {
            "text/plain": [
              "<table border=\"0\" cellpadding=\"3\" cellspacing=\"0\">\n",
              "<tr class=\"table-top\">\n",
              "<td colspan=\"2\">May 2 Average and Extremes</td>\n",
              "</tr>\n",
              "<tr class=\"column-dark\">\n",
              "<td>Average temperature</td><td> 47.1�F</td>\n",
              "</tr>\n",
              "<tr class=\"column-light\">\n",
              "<td>Average humidity</td><td> 83%</td>\n",
              "</tr>\n",
              "<tr class=\"column-dark\">\n",
              "<td>Average dewpoint</td><td> 42.0�F</td>\n",
              "</tr>\n",
              "<tr class=\"column-light\">\n",
              "<td>Average barometer</td><td> 29.7 in.</td>\n",
              "</tr>\n",
              "<tr class=\"column-dark\">\n",
              "<td>Average windspeed</td><td> 3.1 mph</td>\n",
              "</tr>\n",
              "<tr class=\"column-light\">\n",
              "<td>Average gustspeed</td><td> 5.0 mph</td>\n",
              "</tr>\n",
              "<tr class=\"column-dark\">\n",
              "<td>Average direction</td><td> 16� (NNE)</td>\n",
              "</tr>\n",
              "<tr class=\"column-light\">\n",
              "<td>Rainfall for month</td><td> 0.30 in.</td>\n",
              "</tr>\n",
              "<tr class=\"column-dark\">\n",
              "<td>Rainfall for year</td><td> 2.70 in.</td>\n",
              "</tr>\n",
              "<tr class=\"column-light\">\n",
              "<td>Maximum rain per minute</td><td> 0.02 in. on day 02 at time 16:44</td>\n",
              "</tr>\n",
              "<tr class=\"column-dark\">\n",
              "<td>Maximum temperature</td><td> 57.3�F on day 02 at time 11:47</td>\n",
              "</tr>\n",
              "<tr class=\"column-light\">\n",
              "<td>Minimum temperature</td><td> 39.9�F on day 02 at time 23:59</td>\n",
              "</tr>\n",
              "<tr class=\"column-dark\">\n",
              "<td>Maximum humidity</td><td> 95% on day 02 at time 17:10</td>\n",
              "</tr>\n",
              "<tr class=\"column-light\">\n",
              "<td>Minimum humidity</td><td> 60% on day 02 at time 11:48</td>\n",
              "</tr>\n",
              "<tr class=\"column-dark\">\n",
              "<td>Maximum pressure</td><td> 29.881 in. on day 02 at time 20:21</td>\n",
              "</tr>\n",
              "<tr class=\"column-light\">\n",
              "<td>Minimum pressure</td><td> 29.666 in. on day 02 at time 12:23</td>\n",
              "</tr>\n",
              "<tr class=\"column-dark\">\n",
              "<td>Maximum windspeed</td><td> 15.0 mph on day 02 at time 20:16</td>\n",
              "</tr>\n",
              "<tr class=\"column-light\">\n",
              "<td>Maximum gust speed</td><td> 19.6 mph  from 266 �( W ) on day 02 at time 20:18</td>\n",
              "</tr>\n",
              "<tr class=\"column-dark\">\n",
              "<td>Maximum heat index</td><td> 57.3�F on day 02 at time 11:47</td>\n",
              "</tr>\n",
              "</table>"
            ]
          },
          "metadata": {},
          "execution_count": 12
        }
      ]
    },
    {
      "cell_type": "code",
      "source": [
        "table_data[0].text"
      ],
      "metadata": {
        "colab": {
          "base_uri": "https://localhost:8080/",
          "height": 140
        },
        "id": "R_NARY1ekf5K",
        "outputId": "6baeb8c7-2419-48c0-d83e-8b76b6e73d6b"
      },
      "execution_count": null,
      "outputs": [
        {
          "output_type": "execute_result",
          "data": {
            "text/plain": [
              "'\\n\\nMay 1 Average and Extremes\\n\\n\\nAverage temperature 57.8�F\\n\\n\\nAverage humidity 45%\\n\\n\\nAverage dewpoint 33.9�F\\n\\n\\nAverage barometer 29.6 in.\\n\\n\\nAverage windspeed 5.2 mph\\n\\n\\nAverage gustspeed 8.0 mph\\n\\n\\nAverage direction 238� (WSW)\\n\\n\\nRainfall for month 0.00 in.\\n\\n\\nRainfall for year 2.40 in.\\n\\n\\nMaximum rain per minute 0.00 in. on day 01 at time 00:00\\n\\n\\nMaximum temperature 71.8�F on day 01 at time 14:41\\n\\n\\nMinimum temperature 41.5�F on day 01 at time 06:24\\n\\n\\nMaximum humidity 83% on day 01 at time 00:00\\n\\n\\nMinimum humidity 19% on day 01 at time 14:07\\n\\n\\nMaximum pressure 29.724 in. on day 01 at time 22:22\\n\\n\\nMinimum pressure 29.515 in. on day 01 at time 16:13\\n\\n\\nMaximum windspeed 18.4 mph on day 01 at time 21:02\\n\\n\\nMaximum gust speed 29.9 mph  from 063 �(ENE) on day 01 at time 20:57\\n\\n\\nMaximum heat index 76.6�F on day 01 at time 15:57\\n\\n'"
            ],
            "application/vnd.google.colaboratory.intrinsic+json": {
              "type": "string"
            }
          },
          "metadata": {},
          "execution_count": 13
        }
      ]
    },
    {
      "cell_type": "code",
      "source": [
        "table_data[1].text"
      ],
      "metadata": {
        "colab": {
          "base_uri": "https://localhost:8080/",
          "height": 140
        },
        "id": "sAtcKsFhkoSZ",
        "outputId": "dfce9885-74b7-4484-c69e-e4f7271da7b4"
      },
      "execution_count": null,
      "outputs": [
        {
          "output_type": "execute_result",
          "data": {
            "text/plain": [
              "'\\n\\nMay 2 Average and Extremes\\n\\n\\nAverage temperature 47.1�F\\n\\n\\nAverage humidity 83%\\n\\n\\nAverage dewpoint 42.0�F\\n\\n\\nAverage barometer 29.7 in.\\n\\n\\nAverage windspeed 3.1 mph\\n\\n\\nAverage gustspeed 5.0 mph\\n\\n\\nAverage direction 16� (NNE)\\n\\n\\nRainfall for month 0.30 in.\\n\\n\\nRainfall for year 2.70 in.\\n\\n\\nMaximum rain per minute 0.02 in. on day 02 at time 16:44\\n\\n\\nMaximum temperature 57.3�F on day 02 at time 11:47\\n\\n\\nMinimum temperature 39.9�F on day 02 at time 23:59\\n\\n\\nMaximum humidity 95% on day 02 at time 17:10\\n\\n\\nMinimum humidity 60% on day 02 at time 11:48\\n\\n\\nMaximum pressure 29.881 in. on day 02 at time 20:21\\n\\n\\nMinimum pressure 29.666 in. on day 02 at time 12:23\\n\\n\\nMaximum windspeed 15.0 mph on day 02 at time 20:16\\n\\n\\nMaximum gust speed 19.6 mph  from 266 �( W ) on day 02 at time 20:18\\n\\n\\nMaximum heat index 57.3�F on day 02 at time 11:47\\n\\n'"
            ],
            "application/vnd.google.colaboratory.intrinsic+json": {
              "type": "string"
            }
          },
          "metadata": {},
          "execution_count": 14
        }
      ]
    },
    {
      "cell_type": "markdown",
      "source": [
        "#### Since the text of the table is what we want, which is right now not somethong we can understand, so lets clean the text a bit: "
      ],
      "metadata": {
        "id": "ruyhzknGoXH-"
      }
    },
    {
      "cell_type": "code",
      "source": [
        "table_data[0].text.splitlines()"
      ],
      "metadata": {
        "colab": {
          "base_uri": "https://localhost:8080/"
        },
        "id": "Az3SmKTlkqjA",
        "outputId": "1deb889a-11fb-435d-9291-8b92c52d55ad"
      },
      "execution_count": null,
      "outputs": [
        {
          "output_type": "execute_result",
          "data": {
            "text/plain": [
              "['',\n",
              " '',\n",
              " 'May 1 Average and Extremes',\n",
              " '',\n",
              " '',\n",
              " 'Average temperature 57.8�F',\n",
              " '',\n",
              " '',\n",
              " 'Average humidity 45%',\n",
              " '',\n",
              " '',\n",
              " 'Average dewpoint 33.9�F',\n",
              " '',\n",
              " '',\n",
              " 'Average barometer 29.6 in.',\n",
              " '',\n",
              " '',\n",
              " 'Average windspeed 5.2 mph',\n",
              " '',\n",
              " '',\n",
              " 'Average gustspeed 8.0 mph',\n",
              " '',\n",
              " '',\n",
              " 'Average direction 238� (WSW)',\n",
              " '',\n",
              " '',\n",
              " 'Rainfall for month 0.00 in.',\n",
              " '',\n",
              " '',\n",
              " 'Rainfall for year 2.40 in.',\n",
              " '',\n",
              " '',\n",
              " 'Maximum rain per minute 0.00 in. on day 01 at time 00:00',\n",
              " '',\n",
              " '',\n",
              " 'Maximum temperature 71.8�F on day 01 at time 14:41',\n",
              " '',\n",
              " '',\n",
              " 'Minimum temperature 41.5�F on day 01 at time 06:24',\n",
              " '',\n",
              " '',\n",
              " 'Maximum humidity 83% on day 01 at time 00:00',\n",
              " '',\n",
              " '',\n",
              " 'Minimum humidity 19% on day 01 at time 14:07',\n",
              " '',\n",
              " '',\n",
              " 'Maximum pressure 29.724 in. on day 01 at time 22:22',\n",
              " '',\n",
              " '',\n",
              " 'Minimum pressure 29.515 in. on day 01 at time 16:13',\n",
              " '',\n",
              " '',\n",
              " 'Maximum windspeed 18.4 mph on day 01 at time 21:02',\n",
              " '',\n",
              " '',\n",
              " 'Maximum gust speed 29.9 mph  from 063 �(ENE) on day 01 at time 20:57',\n",
              " '',\n",
              " '',\n",
              " 'Maximum heat index 76.6�F on day 01 at time 15:57',\n",
              " '']"
            ]
          },
          "metadata": {},
          "execution_count": 15
        }
      ]
    },
    {
      "cell_type": "code",
      "source": [
        "list(filter(None , table_data[0].text.splitlines()))"
      ],
      "metadata": {
        "colab": {
          "base_uri": "https://localhost:8080/"
        },
        "id": "8YW_iB3bkt86",
        "outputId": "c5fac285-214d-49f0-e522-02cc0c1aad22"
      },
      "execution_count": null,
      "outputs": [
        {
          "output_type": "execute_result",
          "data": {
            "text/plain": [
              "['May 1 Average and Extremes',\n",
              " 'Average temperature 57.8�F',\n",
              " 'Average humidity 45%',\n",
              " 'Average dewpoint 33.9�F',\n",
              " 'Average barometer 29.6 in.',\n",
              " 'Average windspeed 5.2 mph',\n",
              " 'Average gustspeed 8.0 mph',\n",
              " 'Average direction 238� (WSW)',\n",
              " 'Rainfall for month 0.00 in.',\n",
              " 'Rainfall for year 2.40 in.',\n",
              " 'Maximum rain per minute 0.00 in. on day 01 at time 00:00',\n",
              " 'Maximum temperature 71.8�F on day 01 at time 14:41',\n",
              " 'Minimum temperature 41.5�F on day 01 at time 06:24',\n",
              " 'Maximum humidity 83% on day 01 at time 00:00',\n",
              " 'Minimum humidity 19% on day 01 at time 14:07',\n",
              " 'Maximum pressure 29.724 in. on day 01 at time 22:22',\n",
              " 'Minimum pressure 29.515 in. on day 01 at time 16:13',\n",
              " 'Maximum windspeed 18.4 mph on day 01 at time 21:02',\n",
              " 'Maximum gust speed 29.9 mph  from 063 �(ENE) on day 01 at time 20:57',\n",
              " 'Maximum heat index 76.6�F on day 01 at time 15:57']"
            ]
          },
          "metadata": {},
          "execution_count": 16
        }
      ]
    },
    {
      "cell_type": "code",
      "source": [
        "# defining a list to grab the text from all the tables in table_data\n",
        "data_list = []\n",
        "\n",
        "for data in table_data[:31]:\n",
        "    value = list(filter(None, data.text.splitlines()))\n",
        "    \n",
        "    data_list.append(value)"
      ],
      "metadata": {
        "id": "HUgPuaU8kz4X"
      },
      "execution_count": null,
      "outputs": []
    },
    {
      "cell_type": "code",
      "source": [
        "data_list[0]"
      ],
      "metadata": {
        "colab": {
          "base_uri": "https://localhost:8080/"
        },
        "id": "Wtw6QdVKk1_m",
        "outputId": "d609f7d5-cd57-4ae2-ed01-bdf2437eb143"
      },
      "execution_count": null,
      "outputs": [
        {
          "output_type": "execute_result",
          "data": {
            "text/plain": [
              "['May 1 Average and Extremes',\n",
              " 'Average temperature 57.8�F',\n",
              " 'Average humidity 45%',\n",
              " 'Average dewpoint 33.9�F',\n",
              " 'Average barometer 29.6 in.',\n",
              " 'Average windspeed 5.2 mph',\n",
              " 'Average gustspeed 8.0 mph',\n",
              " 'Average direction 238� (WSW)',\n",
              " 'Rainfall for month 0.00 in.',\n",
              " 'Rainfall for year 2.40 in.',\n",
              " 'Maximum rain per minute 0.00 in. on day 01 at time 00:00',\n",
              " 'Maximum temperature 71.8�F on day 01 at time 14:41',\n",
              " 'Minimum temperature 41.5�F on day 01 at time 06:24',\n",
              " 'Maximum humidity 83% on day 01 at time 00:00',\n",
              " 'Minimum humidity 19% on day 01 at time 14:07',\n",
              " 'Maximum pressure 29.724 in. on day 01 at time 22:22',\n",
              " 'Minimum pressure 29.515 in. on day 01 at time 16:13',\n",
              " 'Maximum windspeed 18.4 mph on day 01 at time 21:02',\n",
              " 'Maximum gust speed 29.9 mph  from 063 �(ENE) on day 01 at time 20:57',\n",
              " 'Maximum heat index 76.6�F on day 01 at time 15:57']"
            ]
          },
          "metadata": {},
          "execution_count": 19
        }
      ]
    },
    {
      "cell_type": "code",
      "source": [
        "data_list[1]"
      ],
      "metadata": {
        "colab": {
          "base_uri": "https://localhost:8080/"
        },
        "id": "unNtZoD7k4qZ",
        "outputId": "fd3f1a79-a3cf-4b58-c5a5-d24791d4792b"
      },
      "execution_count": null,
      "outputs": [
        {
          "output_type": "execute_result",
          "data": {
            "text/plain": [
              "['May 2 Average and Extremes',\n",
              " 'Average temperature 47.1�F',\n",
              " 'Average humidity 83%',\n",
              " 'Average dewpoint 42.0�F',\n",
              " 'Average barometer 29.7 in.',\n",
              " 'Average windspeed 3.1 mph',\n",
              " 'Average gustspeed 5.0 mph',\n",
              " 'Average direction 16� (NNE)',\n",
              " 'Rainfall for month 0.30 in.',\n",
              " 'Rainfall for year 2.70 in.',\n",
              " 'Maximum rain per minute 0.02 in. on day 02 at time 16:44',\n",
              " 'Maximum temperature 57.3�F on day 02 at time 11:47',\n",
              " 'Minimum temperature 39.9�F on day 02 at time 23:59',\n",
              " 'Maximum humidity 95% on day 02 at time 17:10',\n",
              " 'Minimum humidity 60% on day 02 at time 11:48',\n",
              " 'Maximum pressure 29.881 in. on day 02 at time 20:21',\n",
              " 'Minimum pressure 29.666 in. on day 02 at time 12:23',\n",
              " 'Maximum windspeed 15.0 mph on day 02 at time 20:16',\n",
              " 'Maximum gust speed 19.6 mph  from 266 �( W ) on day 02 at time 20:18',\n",
              " 'Maximum heat index 57.3�F on day 02 at time 11:47']"
            ]
          },
          "metadata": {},
          "execution_count": 20
        }
      ]
    },
    {
      "cell_type": "code",
      "source": [
        "type(data_list)"
      ],
      "metadata": {
        "colab": {
          "base_uri": "https://localhost:8080/"
        },
        "id": "DaYGZmlfk7H0",
        "outputId": "38ec8ce3-4b74-4d95-ea54-3199682e8c65"
      },
      "execution_count": null,
      "outputs": [
        {
          "output_type": "execute_result",
          "data": {
            "text/plain": [
              "list"
            ]
          },
          "metadata": {},
          "execution_count": 21
        }
      ]
    },
    {
      "cell_type": "code",
      "source": [
        "data_list[23]"
      ],
      "metadata": {
        "colab": {
          "base_uri": "https://localhost:8080/"
        },
        "id": "_c8joSAWk9Fj",
        "outputId": "26f7e18a-9ecd-4596-a565-f99df30de07f"
      },
      "execution_count": null,
      "outputs": [
        {
          "output_type": "execute_result",
          "data": {
            "text/plain": [
              "['May 24 Average and Extremes',\n",
              " 'Average temperature 40.7�F',\n",
              " 'Average humidity 79%',\n",
              " 'Average dewpoint 34.3�F',\n",
              " 'Average barometer 29.7 in.',\n",
              " 'Average windspeed 2.3 mph',\n",
              " 'Average gustspeed 3.8 mph',\n",
              " 'Average direction 268� ( W )',\n",
              " 'Rainfall for month 0.90 in.',\n",
              " 'Rainfall for year 3.30 in.',\n",
              " 'Maximum rain per minute 0.01 in. on day 24 at time 15:46',\n",
              " 'Maximum temperature 50.4�F on day 24 at time 00:02',\n",
              " 'Minimum temperature 35.7�F on day 24 at time 22:49',\n",
              " 'Maximum humidity 94% on day 24 at time 23:59',\n",
              " 'Minimum humidity 44% on day 24 at time 00:14',\n",
              " 'Maximum pressure 29.927 in. on day 24 at time 23:48',\n",
              " 'Minimum pressure 29.549 in. on day 24 at time 00:05',\n",
              " 'Maximum windspeed 15.0 mph on day 24 at time 09:16',\n",
              " 'Maximum gust speed 20.7 mph  from 237 �(WSW) on day 24 at time 19:15',\n",
              " 'Maximum heat index 50.4�F on day 24 at time 00:02']"
            ]
          },
          "metadata": {},
          "execution_count": 22
        }
      ]
    },
    {
      "cell_type": "markdown",
      "source": [
        "#### Getting the necessary items from the list: \n",
        "\n"
      ],
      "metadata": {
        "id": "1uZ9ZKeRpOoZ"
      }
    },
    {
      "cell_type": "code",
      "source": [
        "data_list[0][10].split()[:6]"
      ],
      "metadata": {
        "colab": {
          "base_uri": "https://localhost:8080/"
        },
        "id": "VmOyDh5Lk_MH",
        "outputId": "7bad216f-43c4-4644-82b7-83cbb3157fd3"
      },
      "execution_count": null,
      "outputs": [
        {
          "output_type": "execute_result",
          "data": {
            "text/plain": [
              "['Maximum', 'rain', 'per', 'minute', '0.00', 'in.']"
            ]
          },
          "metadata": {},
          "execution_count": 23
        }
      ]
    },
    {
      "cell_type": "code",
      "source": [
        "data_list[0][10].split()[:5]"
      ],
      "metadata": {
        "colab": {
          "base_uri": "https://localhost:8080/"
        },
        "id": "aVhX_pT1lBg7",
        "outputId": "f36311ff-d783-407c-cdf0-89e9ef880e05"
      },
      "execution_count": null,
      "outputs": [
        {
          "output_type": "execute_result",
          "data": {
            "text/plain": [
              "['Maximum', 'rain', 'per', 'minute', '0.00']"
            ]
          },
          "metadata": {},
          "execution_count": 25
        }
      ]
    },
    {
      "cell_type": "markdown",
      "source": [
        "#### Using re (regular expression) operation to grab the integer from the list:"
      ],
      "metadata": {
        "id": "8Pex-U5fpZDh"
      }
    },
    {
      "cell_type": "code",
      "source": [
        "import re\n",
        "re.findall(\"\\d+\" , str(data_list[0][10].split()[:5]))"
      ],
      "metadata": {
        "colab": {
          "base_uri": "https://localhost:8080/"
        },
        "id": "qViWckKrlD1l",
        "outputId": "3a47ecbf-a51f-45e7-8597-583c42c43d36"
      },
      "execution_count": null,
      "outputs": [
        {
          "output_type": "execute_result",
          "data": {
            "text/plain": [
              "['0', '00']"
            ]
          },
          "metadata": {},
          "execution_count": 26
        }
      ]
    },
    {
      "cell_type": "markdown",
      "source": [
        "#### .join method to join the integer(\"\\d+\")"
      ],
      "metadata": {
        "id": "UZzbPrkypoW_"
      }
    },
    {
      "cell_type": "code",
      "source": [
        "'.'.join(re.findall(\"\\d+\" , str(data_list[0][10].split()[:5])))"
      ],
      "metadata": {
        "colab": {
          "base_uri": "https://localhost:8080/",
          "height": 35
        },
        "id": "vVDi1IsnlLiQ",
        "outputId": "7c9509fd-e7ba-4f3c-c560-d019c8421032"
      },
      "execution_count": null,
      "outputs": [
        {
          "output_type": "execute_result",
          "data": {
            "text/plain": [
              "'0.00'"
            ],
            "application/vnd.google.colaboratory.intrinsic+json": {
              "type": "string"
            }
          },
          "metadata": {},
          "execution_count": 27
        }
      ]
    },
    {
      "cell_type": "code",
      "source": [
        "'.'.join(re.findall(\"\\d+\" , str(data_list[0][11].split()[:5])))"
      ],
      "metadata": {
        "colab": {
          "base_uri": "https://localhost:8080/",
          "height": 35
        },
        "id": "g2R6atVHlQ27",
        "outputId": "9880f359-8ae5-4a6c-f12f-dc86e0554cba"
      },
      "execution_count": null,
      "outputs": [
        {
          "output_type": "execute_result",
          "data": {
            "text/plain": [
              "'71.8'"
            ],
            "application/vnd.google.colaboratory.intrinsic+json": {
              "type": "string"
            }
          },
          "metadata": {},
          "execution_count": 28
        }
      ]
    },
    {
      "cell_type": "code",
      "source": [
        "'.'.join(re.findall(\"\\d+\" , str(data_list[0][3].split()[:5])))"
      ],
      "metadata": {
        "colab": {
          "base_uri": "https://localhost:8080/",
          "height": 35
        },
        "id": "nphtSdv0lTLt",
        "outputId": "8a4a61aa-419c-4150-a079-216e3c4f4dae"
      },
      "execution_count": null,
      "outputs": [
        {
          "output_type": "execute_result",
          "data": {
            "text/plain": [
              "'33.9'"
            ],
            "application/vnd.google.colaboratory.intrinsic+json": {
              "type": "string"
            }
          },
          "metadata": {},
          "execution_count": 29
        }
      ]
    },
    {
      "cell_type": "markdown",
      "source": [
        "#### Getting list of all the numeric temperature values : "
      ],
      "metadata": {
        "id": "oxG9H5Ayp6O8"
      }
    },
    {
      "cell_type": "code",
      "source": [
        "temp_value_list = []\n",
        "\n",
        "for tempVal in data_list:\n",
        "    \n",
        "    numeric_values = []\n",
        "    \n",
        "    for values in tempVal[1:]:\n",
        "        d = '.'.join(re.findall(\"\\d+\" , str(values.split()[:5])))\n",
        "        \n",
        "        numeric_values.append(d)\n",
        "    \n",
        "    temp_value_list.append(numeric_values)"
      ],
      "metadata": {
        "id": "36MFp7FxlV2C"
      },
      "execution_count": null,
      "outputs": []
    },
    {
      "cell_type": "code",
      "source": [
        "temp_value_list[0]"
      ],
      "metadata": {
        "colab": {
          "base_uri": "https://localhost:8080/"
        },
        "id": "d1fbkAQVlX-i",
        "outputId": "edcf5b0f-1ab3-41da-bf3b-44ee52d1eac0"
      },
      "execution_count": null,
      "outputs": [
        {
          "output_type": "execute_result",
          "data": {
            "text/plain": [
              "['57.8',\n",
              " '45',\n",
              " '33.9',\n",
              " '29.6',\n",
              " '5.2',\n",
              " '8.0',\n",
              " '238',\n",
              " '0.00',\n",
              " '2.40',\n",
              " '0.00',\n",
              " '71.8',\n",
              " '41.5',\n",
              " '83',\n",
              " '19',\n",
              " '29.724',\n",
              " '29.515',\n",
              " '18.4',\n",
              " '29.9',\n",
              " '76.6']"
            ]
          },
          "metadata": {},
          "execution_count": 31
        }
      ]
    },
    {
      "cell_type": "markdown",
      "source": [
        "#### Submitting all list in one dataframe: "
      ],
      "metadata": {
        "id": "Gasw6HEmqFm0"
      }
    },
    {
      "cell_type": "code",
      "source": [
        "import pandas as pd\n",
        "columns = ['Average temperature',\n",
        "           'Average humidity',\n",
        "           'Average dewpoint',\n",
        "           'Average barometer',\n",
        "           'Average windspeed',\n",
        "          'Average gustspeed',\n",
        "          'Average direction',\n",
        "          'Rainfall for month',\n",
        "          'Rainfall for year',\n",
        "          'Maximum rain per minute',\n",
        "          'Maximum temperature',\n",
        "          'Minimum temperature',\n",
        "          'Maximum humidity',\n",
        "          'Minimum humidity',\n",
        "          'Maximum pressure',\n",
        "           'Minimum pressure',\n",
        "          'Maximum windspeed',\n",
        "          'Maximum gust speed',\n",
        "          'Maximum heat index']"
      ],
      "metadata": {
        "id": "Gwu_62yWlZ2e"
      },
      "execution_count": null,
      "outputs": []
    },
    {
      "cell_type": "code",
      "source": [
        "weather_data = pd.DataFrame(temp_value_list, columns = columns)"
      ],
      "metadata": {
        "id": "BxSGHxUWleWe"
      },
      "execution_count": null,
      "outputs": []
    },
    {
      "cell_type": "code",
      "source": [
        "weather_data.head()"
      ],
      "metadata": {
        "colab": {
          "base_uri": "https://localhost:8080/",
          "height": 322
        },
        "id": "cBx9qmASlgm0",
        "outputId": "76ab6e0f-c8ff-441d-ebe3-f22546288e5a"
      },
      "execution_count": null,
      "outputs": [
        {
          "output_type": "execute_result",
          "data": {
            "text/plain": [
              "  Average temperature Average humidity Average dewpoint Average barometer  \\\n",
              "0                57.8               45             33.9              29.6   \n",
              "1                47.1               83             42.0              29.7   \n",
              "2                51.6               59             36.4              29.7   \n",
              "3                45.1               58             28.9              29.8   \n",
              "4                48.7               24             12.2              30.0   \n",
              "\n",
              "  Average windspeed Average gustspeed Average direction Rainfall for month  \\\n",
              "0               5.2               8.0               238               0.00   \n",
              "1               3.1               5.0                16               0.30   \n",
              "2               4.9               7.5               244               0.33   \n",
              "3               7.6              11.8               248               0.37   \n",
              "4               6.3               9.7               241               0.37   \n",
              "\n",
              "  Rainfall for year Maximum rain per minute Maximum temperature  \\\n",
              "0              2.40                    0.00                71.8   \n",
              "1              2.70                    0.02                57.3   \n",
              "2              2.73                    0.01                65.4   \n",
              "3              2.77                    0.01                52.2   \n",
              "4              2.77                    0.00                62.3   \n",
              "\n",
              "  Minimum temperature Maximum humidity Minimum humidity Maximum pressure  \\\n",
              "0                41.5               83               19           29.724   \n",
              "1                39.9               95               60           29.881   \n",
              "2                36.1               93               29           29.876   \n",
              "3                38.5               94               28           30.024   \n",
              "4                37.9               50               12           30.128   \n",
              "\n",
              "  Minimum pressure Maximum windspeed Maximum gust speed Maximum heat index  \n",
              "0           29.515              18.4               29.9               76.6  \n",
              "1           29.666              15.0               19.6               57.3  \n",
              "2           29.620              19.6               26.5               65.4  \n",
              "3           29.604              25.3               36.8               52.2  \n",
              "4           29.942              18.4               26.5               62.3  "
            ],
            "text/html": [
              "\n",
              "  <div id=\"df-300ac882-eccf-473f-a4a2-8ab5d27f9a7b\">\n",
              "    <div class=\"colab-df-container\">\n",
              "      <div>\n",
              "<style scoped>\n",
              "    .dataframe tbody tr th:only-of-type {\n",
              "        vertical-align: middle;\n",
              "    }\n",
              "\n",
              "    .dataframe tbody tr th {\n",
              "        vertical-align: top;\n",
              "    }\n",
              "\n",
              "    .dataframe thead th {\n",
              "        text-align: right;\n",
              "    }\n",
              "</style>\n",
              "<table border=\"1\" class=\"dataframe\">\n",
              "  <thead>\n",
              "    <tr style=\"text-align: right;\">\n",
              "      <th></th>\n",
              "      <th>Average temperature</th>\n",
              "      <th>Average humidity</th>\n",
              "      <th>Average dewpoint</th>\n",
              "      <th>Average barometer</th>\n",
              "      <th>Average windspeed</th>\n",
              "      <th>Average gustspeed</th>\n",
              "      <th>Average direction</th>\n",
              "      <th>Rainfall for month</th>\n",
              "      <th>Rainfall for year</th>\n",
              "      <th>Maximum rain per minute</th>\n",
              "      <th>Maximum temperature</th>\n",
              "      <th>Minimum temperature</th>\n",
              "      <th>Maximum humidity</th>\n",
              "      <th>Minimum humidity</th>\n",
              "      <th>Maximum pressure</th>\n",
              "      <th>Minimum pressure</th>\n",
              "      <th>Maximum windspeed</th>\n",
              "      <th>Maximum gust speed</th>\n",
              "      <th>Maximum heat index</th>\n",
              "    </tr>\n",
              "  </thead>\n",
              "  <tbody>\n",
              "    <tr>\n",
              "      <th>0</th>\n",
              "      <td>57.8</td>\n",
              "      <td>45</td>\n",
              "      <td>33.9</td>\n",
              "      <td>29.6</td>\n",
              "      <td>5.2</td>\n",
              "      <td>8.0</td>\n",
              "      <td>238</td>\n",
              "      <td>0.00</td>\n",
              "      <td>2.40</td>\n",
              "      <td>0.00</td>\n",
              "      <td>71.8</td>\n",
              "      <td>41.5</td>\n",
              "      <td>83</td>\n",
              "      <td>19</td>\n",
              "      <td>29.724</td>\n",
              "      <td>29.515</td>\n",
              "      <td>18.4</td>\n",
              "      <td>29.9</td>\n",
              "      <td>76.6</td>\n",
              "    </tr>\n",
              "    <tr>\n",
              "      <th>1</th>\n",
              "      <td>47.1</td>\n",
              "      <td>83</td>\n",
              "      <td>42.0</td>\n",
              "      <td>29.7</td>\n",
              "      <td>3.1</td>\n",
              "      <td>5.0</td>\n",
              "      <td>16</td>\n",
              "      <td>0.30</td>\n",
              "      <td>2.70</td>\n",
              "      <td>0.02</td>\n",
              "      <td>57.3</td>\n",
              "      <td>39.9</td>\n",
              "      <td>95</td>\n",
              "      <td>60</td>\n",
              "      <td>29.881</td>\n",
              "      <td>29.666</td>\n",
              "      <td>15.0</td>\n",
              "      <td>19.6</td>\n",
              "      <td>57.3</td>\n",
              "    </tr>\n",
              "    <tr>\n",
              "      <th>2</th>\n",
              "      <td>51.6</td>\n",
              "      <td>59</td>\n",
              "      <td>36.4</td>\n",
              "      <td>29.7</td>\n",
              "      <td>4.9</td>\n",
              "      <td>7.5</td>\n",
              "      <td>244</td>\n",
              "      <td>0.33</td>\n",
              "      <td>2.73</td>\n",
              "      <td>0.01</td>\n",
              "      <td>65.4</td>\n",
              "      <td>36.1</td>\n",
              "      <td>93</td>\n",
              "      <td>29</td>\n",
              "      <td>29.876</td>\n",
              "      <td>29.620</td>\n",
              "      <td>19.6</td>\n",
              "      <td>26.5</td>\n",
              "      <td>65.4</td>\n",
              "    </tr>\n",
              "    <tr>\n",
              "      <th>3</th>\n",
              "      <td>45.1</td>\n",
              "      <td>58</td>\n",
              "      <td>28.9</td>\n",
              "      <td>29.8</td>\n",
              "      <td>7.6</td>\n",
              "      <td>11.8</td>\n",
              "      <td>248</td>\n",
              "      <td>0.37</td>\n",
              "      <td>2.77</td>\n",
              "      <td>0.01</td>\n",
              "      <td>52.2</td>\n",
              "      <td>38.5</td>\n",
              "      <td>94</td>\n",
              "      <td>28</td>\n",
              "      <td>30.024</td>\n",
              "      <td>29.604</td>\n",
              "      <td>25.3</td>\n",
              "      <td>36.8</td>\n",
              "      <td>52.2</td>\n",
              "    </tr>\n",
              "    <tr>\n",
              "      <th>4</th>\n",
              "      <td>48.7</td>\n",
              "      <td>24</td>\n",
              "      <td>12.2</td>\n",
              "      <td>30.0</td>\n",
              "      <td>6.3</td>\n",
              "      <td>9.7</td>\n",
              "      <td>241</td>\n",
              "      <td>0.37</td>\n",
              "      <td>2.77</td>\n",
              "      <td>0.00</td>\n",
              "      <td>62.3</td>\n",
              "      <td>37.9</td>\n",
              "      <td>50</td>\n",
              "      <td>12</td>\n",
              "      <td>30.128</td>\n",
              "      <td>29.942</td>\n",
              "      <td>18.4</td>\n",
              "      <td>26.5</td>\n",
              "      <td>62.3</td>\n",
              "    </tr>\n",
              "  </tbody>\n",
              "</table>\n",
              "</div>\n",
              "      <button class=\"colab-df-convert\" onclick=\"convertToInteractive('df-300ac882-eccf-473f-a4a2-8ab5d27f9a7b')\"\n",
              "              title=\"Convert this dataframe to an interactive table.\"\n",
              "              style=\"display:none;\">\n",
              "        \n",
              "  <svg xmlns=\"http://www.w3.org/2000/svg\" height=\"24px\"viewBox=\"0 0 24 24\"\n",
              "       width=\"24px\">\n",
              "    <path d=\"M0 0h24v24H0V0z\" fill=\"none\"/>\n",
              "    <path d=\"M18.56 5.44l.94 2.06.94-2.06 2.06-.94-2.06-.94-.94-2.06-.94 2.06-2.06.94zm-11 1L8.5 8.5l.94-2.06 2.06-.94-2.06-.94L8.5 2.5l-.94 2.06-2.06.94zm10 10l.94 2.06.94-2.06 2.06-.94-2.06-.94-.94-2.06-.94 2.06-2.06.94z\"/><path d=\"M17.41 7.96l-1.37-1.37c-.4-.4-.92-.59-1.43-.59-.52 0-1.04.2-1.43.59L10.3 9.45l-7.72 7.72c-.78.78-.78 2.05 0 2.83L4 21.41c.39.39.9.59 1.41.59.51 0 1.02-.2 1.41-.59l7.78-7.78 2.81-2.81c.8-.78.8-2.07 0-2.86zM5.41 20L4 18.59l7.72-7.72 1.47 1.35L5.41 20z\"/>\n",
              "  </svg>\n",
              "      </button>\n",
              "      \n",
              "  <style>\n",
              "    .colab-df-container {\n",
              "      display:flex;\n",
              "      flex-wrap:wrap;\n",
              "      gap: 12px;\n",
              "    }\n",
              "\n",
              "    .colab-df-convert {\n",
              "      background-color: #E8F0FE;\n",
              "      border: none;\n",
              "      border-radius: 50%;\n",
              "      cursor: pointer;\n",
              "      display: none;\n",
              "      fill: #1967D2;\n",
              "      height: 32px;\n",
              "      padding: 0 0 0 0;\n",
              "      width: 32px;\n",
              "    }\n",
              "\n",
              "    .colab-df-convert:hover {\n",
              "      background-color: #E2EBFA;\n",
              "      box-shadow: 0px 1px 2px rgba(60, 64, 67, 0.3), 0px 1px 3px 1px rgba(60, 64, 67, 0.15);\n",
              "      fill: #174EA6;\n",
              "    }\n",
              "\n",
              "    [theme=dark] .colab-df-convert {\n",
              "      background-color: #3B4455;\n",
              "      fill: #D2E3FC;\n",
              "    }\n",
              "\n",
              "    [theme=dark] .colab-df-convert:hover {\n",
              "      background-color: #434B5C;\n",
              "      box-shadow: 0px 1px 3px 1px rgba(0, 0, 0, 0.15);\n",
              "      filter: drop-shadow(0px 1px 2px rgba(0, 0, 0, 0.3));\n",
              "      fill: #FFFFFF;\n",
              "    }\n",
              "  </style>\n",
              "\n",
              "      <script>\n",
              "        const buttonEl =\n",
              "          document.querySelector('#df-300ac882-eccf-473f-a4a2-8ab5d27f9a7b button.colab-df-convert');\n",
              "        buttonEl.style.display =\n",
              "          google.colab.kernel.accessAllowed ? 'block' : 'none';\n",
              "\n",
              "        async function convertToInteractive(key) {\n",
              "          const element = document.querySelector('#df-300ac882-eccf-473f-a4a2-8ab5d27f9a7b');\n",
              "          const dataTable =\n",
              "            await google.colab.kernel.invokeFunction('convertToInteractive',\n",
              "                                                     [key], {});\n",
              "          if (!dataTable) return;\n",
              "\n",
              "          const docLinkHtml = 'Like what you see? Visit the ' +\n",
              "            '<a target=\"_blank\" href=https://colab.research.google.com/notebooks/data_table.ipynb>data table notebook</a>'\n",
              "            + ' to learn more about interactive tables.';\n",
              "          element.innerHTML = '';\n",
              "          dataTable['output_type'] = 'display_data';\n",
              "          await google.colab.output.renderOutput(dataTable, element);\n",
              "          const docLink = document.createElement('div');\n",
              "          docLink.innerHTML = docLinkHtml;\n",
              "          element.appendChild(docLink);\n",
              "        }\n",
              "      </script>\n",
              "    </div>\n",
              "  </div>\n",
              "  "
            ]
          },
          "metadata": {},
          "execution_count": 34
        }
      ]
    },
    {
      "cell_type": "markdown",
      "source": [
        "#### Creating a column in adtaframe \"Date\":"
      ],
      "metadata": {
        "id": "mMO3XEzhqRdm"
      }
    },
    {
      "cell_type": "code",
      "source": [
        "weather_data['Date'] = pd.date_range('2020-05-01' , '2020-05-31')"
      ],
      "metadata": {
        "id": "Y1FDosKHli5r"
      },
      "execution_count": null,
      "outputs": []
    },
    {
      "cell_type": "code",
      "source": [
        "weather_data.head()"
      ],
      "metadata": {
        "colab": {
          "base_uri": "https://localhost:8080/",
          "height": 409
        },
        "id": "aVxP5aDWllLG",
        "outputId": "4940280d-0f79-418d-83e8-6a521b0b7546"
      },
      "execution_count": null,
      "outputs": [
        {
          "output_type": "execute_result",
          "data": {
            "text/plain": [
              "  Average temperature Average humidity Average dewpoint Average barometer  \\\n",
              "0                57.8               45             33.9              29.6   \n",
              "1                47.1               83             42.0              29.7   \n",
              "2                51.6               59             36.4              29.7   \n",
              "3                45.1               58             28.9              29.8   \n",
              "4                48.7               24             12.2              30.0   \n",
              "\n",
              "  Average windspeed Average gustspeed Average direction Rainfall for month  \\\n",
              "0               5.2               8.0               238               0.00   \n",
              "1               3.1               5.0                16               0.30   \n",
              "2               4.9               7.5               244               0.33   \n",
              "3               7.6              11.8               248               0.37   \n",
              "4               6.3               9.7               241               0.37   \n",
              "\n",
              "  Rainfall for year Maximum rain per minute Maximum temperature  \\\n",
              "0              2.40                    0.00                71.8   \n",
              "1              2.70                    0.02                57.3   \n",
              "2              2.73                    0.01                65.4   \n",
              "3              2.77                    0.01                52.2   \n",
              "4              2.77                    0.00                62.3   \n",
              "\n",
              "  Minimum temperature Maximum humidity Minimum humidity Maximum pressure  \\\n",
              "0                41.5               83               19           29.724   \n",
              "1                39.9               95               60           29.881   \n",
              "2                36.1               93               29           29.876   \n",
              "3                38.5               94               28           30.024   \n",
              "4                37.9               50               12           30.128   \n",
              "\n",
              "  Minimum pressure Maximum windspeed Maximum gust speed Maximum heat index  \\\n",
              "0           29.515              18.4               29.9               76.6   \n",
              "1           29.666              15.0               19.6               57.3   \n",
              "2           29.620              19.6               26.5               65.4   \n",
              "3           29.604              25.3               36.8               52.2   \n",
              "4           29.942              18.4               26.5               62.3   \n",
              "\n",
              "        Date  \n",
              "0 2020-05-01  \n",
              "1 2020-05-02  \n",
              "2 2020-05-03  \n",
              "3 2020-05-04  \n",
              "4 2020-05-05  "
            ],
            "text/html": [
              "\n",
              "  <div id=\"df-a8bc598a-5325-45b2-a14b-decee9947c44\">\n",
              "    <div class=\"colab-df-container\">\n",
              "      <div>\n",
              "<style scoped>\n",
              "    .dataframe tbody tr th:only-of-type {\n",
              "        vertical-align: middle;\n",
              "    }\n",
              "\n",
              "    .dataframe tbody tr th {\n",
              "        vertical-align: top;\n",
              "    }\n",
              "\n",
              "    .dataframe thead th {\n",
              "        text-align: right;\n",
              "    }\n",
              "</style>\n",
              "<table border=\"1\" class=\"dataframe\">\n",
              "  <thead>\n",
              "    <tr style=\"text-align: right;\">\n",
              "      <th></th>\n",
              "      <th>Average temperature</th>\n",
              "      <th>Average humidity</th>\n",
              "      <th>Average dewpoint</th>\n",
              "      <th>Average barometer</th>\n",
              "      <th>Average windspeed</th>\n",
              "      <th>Average gustspeed</th>\n",
              "      <th>Average direction</th>\n",
              "      <th>Rainfall for month</th>\n",
              "      <th>Rainfall for year</th>\n",
              "      <th>Maximum rain per minute</th>\n",
              "      <th>Maximum temperature</th>\n",
              "      <th>Minimum temperature</th>\n",
              "      <th>Maximum humidity</th>\n",
              "      <th>Minimum humidity</th>\n",
              "      <th>Maximum pressure</th>\n",
              "      <th>Minimum pressure</th>\n",
              "      <th>Maximum windspeed</th>\n",
              "      <th>Maximum gust speed</th>\n",
              "      <th>Maximum heat index</th>\n",
              "      <th>Date</th>\n",
              "    </tr>\n",
              "  </thead>\n",
              "  <tbody>\n",
              "    <tr>\n",
              "      <th>0</th>\n",
              "      <td>57.8</td>\n",
              "      <td>45</td>\n",
              "      <td>33.9</td>\n",
              "      <td>29.6</td>\n",
              "      <td>5.2</td>\n",
              "      <td>8.0</td>\n",
              "      <td>238</td>\n",
              "      <td>0.00</td>\n",
              "      <td>2.40</td>\n",
              "      <td>0.00</td>\n",
              "      <td>71.8</td>\n",
              "      <td>41.5</td>\n",
              "      <td>83</td>\n",
              "      <td>19</td>\n",
              "      <td>29.724</td>\n",
              "      <td>29.515</td>\n",
              "      <td>18.4</td>\n",
              "      <td>29.9</td>\n",
              "      <td>76.6</td>\n",
              "      <td>2020-05-01</td>\n",
              "    </tr>\n",
              "    <tr>\n",
              "      <th>1</th>\n",
              "      <td>47.1</td>\n",
              "      <td>83</td>\n",
              "      <td>42.0</td>\n",
              "      <td>29.7</td>\n",
              "      <td>3.1</td>\n",
              "      <td>5.0</td>\n",
              "      <td>16</td>\n",
              "      <td>0.30</td>\n",
              "      <td>2.70</td>\n",
              "      <td>0.02</td>\n",
              "      <td>57.3</td>\n",
              "      <td>39.9</td>\n",
              "      <td>95</td>\n",
              "      <td>60</td>\n",
              "      <td>29.881</td>\n",
              "      <td>29.666</td>\n",
              "      <td>15.0</td>\n",
              "      <td>19.6</td>\n",
              "      <td>57.3</td>\n",
              "      <td>2020-05-02</td>\n",
              "    </tr>\n",
              "    <tr>\n",
              "      <th>2</th>\n",
              "      <td>51.6</td>\n",
              "      <td>59</td>\n",
              "      <td>36.4</td>\n",
              "      <td>29.7</td>\n",
              "      <td>4.9</td>\n",
              "      <td>7.5</td>\n",
              "      <td>244</td>\n",
              "      <td>0.33</td>\n",
              "      <td>2.73</td>\n",
              "      <td>0.01</td>\n",
              "      <td>65.4</td>\n",
              "      <td>36.1</td>\n",
              "      <td>93</td>\n",
              "      <td>29</td>\n",
              "      <td>29.876</td>\n",
              "      <td>29.620</td>\n",
              "      <td>19.6</td>\n",
              "      <td>26.5</td>\n",
              "      <td>65.4</td>\n",
              "      <td>2020-05-03</td>\n",
              "    </tr>\n",
              "    <tr>\n",
              "      <th>3</th>\n",
              "      <td>45.1</td>\n",
              "      <td>58</td>\n",
              "      <td>28.9</td>\n",
              "      <td>29.8</td>\n",
              "      <td>7.6</td>\n",
              "      <td>11.8</td>\n",
              "      <td>248</td>\n",
              "      <td>0.37</td>\n",
              "      <td>2.77</td>\n",
              "      <td>0.01</td>\n",
              "      <td>52.2</td>\n",
              "      <td>38.5</td>\n",
              "      <td>94</td>\n",
              "      <td>28</td>\n",
              "      <td>30.024</td>\n",
              "      <td>29.604</td>\n",
              "      <td>25.3</td>\n",
              "      <td>36.8</td>\n",
              "      <td>52.2</td>\n",
              "      <td>2020-05-04</td>\n",
              "    </tr>\n",
              "    <tr>\n",
              "      <th>4</th>\n",
              "      <td>48.7</td>\n",
              "      <td>24</td>\n",
              "      <td>12.2</td>\n",
              "      <td>30.0</td>\n",
              "      <td>6.3</td>\n",
              "      <td>9.7</td>\n",
              "      <td>241</td>\n",
              "      <td>0.37</td>\n",
              "      <td>2.77</td>\n",
              "      <td>0.00</td>\n",
              "      <td>62.3</td>\n",
              "      <td>37.9</td>\n",
              "      <td>50</td>\n",
              "      <td>12</td>\n",
              "      <td>30.128</td>\n",
              "      <td>29.942</td>\n",
              "      <td>18.4</td>\n",
              "      <td>26.5</td>\n",
              "      <td>62.3</td>\n",
              "      <td>2020-05-05</td>\n",
              "    </tr>\n",
              "  </tbody>\n",
              "</table>\n",
              "</div>\n",
              "      <button class=\"colab-df-convert\" onclick=\"convertToInteractive('df-a8bc598a-5325-45b2-a14b-decee9947c44')\"\n",
              "              title=\"Convert this dataframe to an interactive table.\"\n",
              "              style=\"display:none;\">\n",
              "        \n",
              "  <svg xmlns=\"http://www.w3.org/2000/svg\" height=\"24px\"viewBox=\"0 0 24 24\"\n",
              "       width=\"24px\">\n",
              "    <path d=\"M0 0h24v24H0V0z\" fill=\"none\"/>\n",
              "    <path d=\"M18.56 5.44l.94 2.06.94-2.06 2.06-.94-2.06-.94-.94-2.06-.94 2.06-2.06.94zm-11 1L8.5 8.5l.94-2.06 2.06-.94-2.06-.94L8.5 2.5l-.94 2.06-2.06.94zm10 10l.94 2.06.94-2.06 2.06-.94-2.06-.94-.94-2.06-.94 2.06-2.06.94z\"/><path d=\"M17.41 7.96l-1.37-1.37c-.4-.4-.92-.59-1.43-.59-.52 0-1.04.2-1.43.59L10.3 9.45l-7.72 7.72c-.78.78-.78 2.05 0 2.83L4 21.41c.39.39.9.59 1.41.59.51 0 1.02-.2 1.41-.59l7.78-7.78 2.81-2.81c.8-.78.8-2.07 0-2.86zM5.41 20L4 18.59l7.72-7.72 1.47 1.35L5.41 20z\"/>\n",
              "  </svg>\n",
              "      </button>\n",
              "      \n",
              "  <style>\n",
              "    .colab-df-container {\n",
              "      display:flex;\n",
              "      flex-wrap:wrap;\n",
              "      gap: 12px;\n",
              "    }\n",
              "\n",
              "    .colab-df-convert {\n",
              "      background-color: #E8F0FE;\n",
              "      border: none;\n",
              "      border-radius: 50%;\n",
              "      cursor: pointer;\n",
              "      display: none;\n",
              "      fill: #1967D2;\n",
              "      height: 32px;\n",
              "      padding: 0 0 0 0;\n",
              "      width: 32px;\n",
              "    }\n",
              "\n",
              "    .colab-df-convert:hover {\n",
              "      background-color: #E2EBFA;\n",
              "      box-shadow: 0px 1px 2px rgba(60, 64, 67, 0.3), 0px 1px 3px 1px rgba(60, 64, 67, 0.15);\n",
              "      fill: #174EA6;\n",
              "    }\n",
              "\n",
              "    [theme=dark] .colab-df-convert {\n",
              "      background-color: #3B4455;\n",
              "      fill: #D2E3FC;\n",
              "    }\n",
              "\n",
              "    [theme=dark] .colab-df-convert:hover {\n",
              "      background-color: #434B5C;\n",
              "      box-shadow: 0px 1px 3px 1px rgba(0, 0, 0, 0.15);\n",
              "      filter: drop-shadow(0px 1px 2px rgba(0, 0, 0, 0.3));\n",
              "      fill: #FFFFFF;\n",
              "    }\n",
              "  </style>\n",
              "\n",
              "      <script>\n",
              "        const buttonEl =\n",
              "          document.querySelector('#df-a8bc598a-5325-45b2-a14b-decee9947c44 button.colab-df-convert');\n",
              "        buttonEl.style.display =\n",
              "          google.colab.kernel.accessAllowed ? 'block' : 'none';\n",
              "\n",
              "        async function convertToInteractive(key) {\n",
              "          const element = document.querySelector('#df-a8bc598a-5325-45b2-a14b-decee9947c44');\n",
              "          const dataTable =\n",
              "            await google.colab.kernel.invokeFunction('convertToInteractive',\n",
              "                                                     [key], {});\n",
              "          if (!dataTable) return;\n",
              "\n",
              "          const docLinkHtml = 'Like what you see? Visit the ' +\n",
              "            '<a target=\"_blank\" href=https://colab.research.google.com/notebooks/data_table.ipynb>data table notebook</a>'\n",
              "            + ' to learn more about interactive tables.';\n",
              "          element.innerHTML = '';\n",
              "          dataTable['output_type'] = 'display_data';\n",
              "          await google.colab.output.renderOutput(dataTable, element);\n",
              "          const docLink = document.createElement('div');\n",
              "          docLink.innerHTML = docLinkHtml;\n",
              "          element.appendChild(docLink);\n",
              "        }\n",
              "      </script>\n",
              "    </div>\n",
              "  </div>\n",
              "  "
            ]
          },
          "metadata": {},
          "execution_count": 36
        }
      ]
    },
    {
      "cell_type": "code",
      "source": [
        "weather_data[columns] = weather_data[columns].apply(pd.to_numeric)"
      ],
      "metadata": {
        "id": "ujK8XgXhl-zg"
      },
      "execution_count": null,
      "outputs": []
    },
    {
      "cell_type": "markdown",
      "source": [
        "#### Replacing the name of the columns from Higher level to lower level , as we have to store it to the database"
      ],
      "metadata": {
        "id": "nvb6KcRJq3bA"
      }
    },
    {
      "cell_type": "code",
      "source": [
        "weather_data.rename(columns = lambda x : x.replace(' ', \"_\").lower(), inplace = True)\n",
        "weather_data.keys()"
      ],
      "metadata": {
        "colab": {
          "base_uri": "https://localhost:8080/"
        },
        "id": "5I6ICXdcmTmd",
        "outputId": "733a60f7-42cc-49ee-e87c-e11c2365f5d5"
      },
      "execution_count": null,
      "outputs": [
        {
          "output_type": "execute_result",
          "data": {
            "text/plain": [
              "Index(['average_temperature', 'average_humidity', 'average_dewpoint',\n",
              "       'average_barometer', 'average_windspeed', 'average_gustspeed',\n",
              "       'average_direction', 'rainfall_for_month', 'rainfall_for_year',\n",
              "       'maximum_rain_per_minute', 'maximum_temperature', 'minimum_temperature',\n",
              "       'maximum_humidity', 'minimum_humidity', 'maximum_pressure',\n",
              "       'minimum_pressure', 'maximum_windspeed', 'maximum_gust_speed',\n",
              "       'maximum_heat_index', 'date'],\n",
              "      dtype='object')"
            ]
          },
          "metadata": {},
          "execution_count": 42
        }
      ]
    },
    {
      "cell_type": "code",
      "source": [
        "# hummudity is in percentage\n",
        "humidity_cols = ['average_humidity', 'maximum_humidity','minimum_humidity']\n",
        "weather_data[humidity_cols] = weather_data[humidity_cols].apply(lambda x: x/100)"
      ],
      "metadata": {
        "id": "ekDuXBP9mVuz"
      },
      "execution_count": null,
      "outputs": []
    },
    {
      "cell_type": "code",
      "source": [
        "weather_data.head()"
      ],
      "metadata": {
        "colab": {
          "base_uri": "https://localhost:8080/",
          "height": 357
        },
        "id": "BSBDNs5YmYdm",
        "outputId": "b9b2450b-7052-4248-9aa8-98ff0fa468df"
      },
      "execution_count": null,
      "outputs": [
        {
          "output_type": "execute_result",
          "data": {
            "text/plain": [
              "   average_temperature  average_humidity  average_dewpoint  average_barometer  \\\n",
              "0                 57.8              0.45              33.9               29.6   \n",
              "1                 47.1              0.83              42.0               29.7   \n",
              "2                 51.6              0.59              36.4               29.7   \n",
              "3                 45.1              0.58              28.9               29.8   \n",
              "4                 48.7              0.24              12.2               30.0   \n",
              "\n",
              "   average_windspeed  average_gustspeed  average_direction  \\\n",
              "0                5.2                8.0                238   \n",
              "1                3.1                5.0                 16   \n",
              "2                4.9                7.5                244   \n",
              "3                7.6               11.8                248   \n",
              "4                6.3                9.7                241   \n",
              "\n",
              "   rainfall_for_month  rainfall_for_year  maximum_rain_per_minute  \\\n",
              "0                0.00               2.40                     0.00   \n",
              "1                0.30               2.70                     0.02   \n",
              "2                0.33               2.73                     0.01   \n",
              "3                0.37               2.77                     0.01   \n",
              "4                0.37               2.77                     0.00   \n",
              "\n",
              "   maximum_temperature  minimum_temperature  maximum_humidity  \\\n",
              "0                 71.8                 41.5              0.83   \n",
              "1                 57.3                 39.9              0.95   \n",
              "2                 65.4                 36.1              0.93   \n",
              "3                 52.2                 38.5              0.94   \n",
              "4                 62.3                 37.9              0.50   \n",
              "\n",
              "   minimum_humidity  maximum_pressure  minimum_pressure  maximum_windspeed  \\\n",
              "0              0.19            29.724            29.515               18.4   \n",
              "1              0.60            29.881            29.666               15.0   \n",
              "2              0.29            29.876            29.620               19.6   \n",
              "3              0.28            30.024            29.604               25.3   \n",
              "4              0.12            30.128            29.942               18.4   \n",
              "\n",
              "   maximum_gust_speed  maximum_heat_index       date  \n",
              "0                29.9                76.6 2020-05-01  \n",
              "1                19.6                57.3 2020-05-02  \n",
              "2                26.5                65.4 2020-05-03  \n",
              "3                36.8                52.2 2020-05-04  \n",
              "4                26.5                62.3 2020-05-05  "
            ],
            "text/html": [
              "\n",
              "  <div id=\"df-fcb09dcf-02df-43a6-a06b-0d775cc46cd9\">\n",
              "    <div class=\"colab-df-container\">\n",
              "      <div>\n",
              "<style scoped>\n",
              "    .dataframe tbody tr th:only-of-type {\n",
              "        vertical-align: middle;\n",
              "    }\n",
              "\n",
              "    .dataframe tbody tr th {\n",
              "        vertical-align: top;\n",
              "    }\n",
              "\n",
              "    .dataframe thead th {\n",
              "        text-align: right;\n",
              "    }\n",
              "</style>\n",
              "<table border=\"1\" class=\"dataframe\">\n",
              "  <thead>\n",
              "    <tr style=\"text-align: right;\">\n",
              "      <th></th>\n",
              "      <th>average_temperature</th>\n",
              "      <th>average_humidity</th>\n",
              "      <th>average_dewpoint</th>\n",
              "      <th>average_barometer</th>\n",
              "      <th>average_windspeed</th>\n",
              "      <th>average_gustspeed</th>\n",
              "      <th>average_direction</th>\n",
              "      <th>rainfall_for_month</th>\n",
              "      <th>rainfall_for_year</th>\n",
              "      <th>maximum_rain_per_minute</th>\n",
              "      <th>maximum_temperature</th>\n",
              "      <th>minimum_temperature</th>\n",
              "      <th>maximum_humidity</th>\n",
              "      <th>minimum_humidity</th>\n",
              "      <th>maximum_pressure</th>\n",
              "      <th>minimum_pressure</th>\n",
              "      <th>maximum_windspeed</th>\n",
              "      <th>maximum_gust_speed</th>\n",
              "      <th>maximum_heat_index</th>\n",
              "      <th>date</th>\n",
              "    </tr>\n",
              "  </thead>\n",
              "  <tbody>\n",
              "    <tr>\n",
              "      <th>0</th>\n",
              "      <td>57.8</td>\n",
              "      <td>0.45</td>\n",
              "      <td>33.9</td>\n",
              "      <td>29.6</td>\n",
              "      <td>5.2</td>\n",
              "      <td>8.0</td>\n",
              "      <td>238</td>\n",
              "      <td>0.00</td>\n",
              "      <td>2.40</td>\n",
              "      <td>0.00</td>\n",
              "      <td>71.8</td>\n",
              "      <td>41.5</td>\n",
              "      <td>0.83</td>\n",
              "      <td>0.19</td>\n",
              "      <td>29.724</td>\n",
              "      <td>29.515</td>\n",
              "      <td>18.4</td>\n",
              "      <td>29.9</td>\n",
              "      <td>76.6</td>\n",
              "      <td>2020-05-01</td>\n",
              "    </tr>\n",
              "    <tr>\n",
              "      <th>1</th>\n",
              "      <td>47.1</td>\n",
              "      <td>0.83</td>\n",
              "      <td>42.0</td>\n",
              "      <td>29.7</td>\n",
              "      <td>3.1</td>\n",
              "      <td>5.0</td>\n",
              "      <td>16</td>\n",
              "      <td>0.30</td>\n",
              "      <td>2.70</td>\n",
              "      <td>0.02</td>\n",
              "      <td>57.3</td>\n",
              "      <td>39.9</td>\n",
              "      <td>0.95</td>\n",
              "      <td>0.60</td>\n",
              "      <td>29.881</td>\n",
              "      <td>29.666</td>\n",
              "      <td>15.0</td>\n",
              "      <td>19.6</td>\n",
              "      <td>57.3</td>\n",
              "      <td>2020-05-02</td>\n",
              "    </tr>\n",
              "    <tr>\n",
              "      <th>2</th>\n",
              "      <td>51.6</td>\n",
              "      <td>0.59</td>\n",
              "      <td>36.4</td>\n",
              "      <td>29.7</td>\n",
              "      <td>4.9</td>\n",
              "      <td>7.5</td>\n",
              "      <td>244</td>\n",
              "      <td>0.33</td>\n",
              "      <td>2.73</td>\n",
              "      <td>0.01</td>\n",
              "      <td>65.4</td>\n",
              "      <td>36.1</td>\n",
              "      <td>0.93</td>\n",
              "      <td>0.29</td>\n",
              "      <td>29.876</td>\n",
              "      <td>29.620</td>\n",
              "      <td>19.6</td>\n",
              "      <td>26.5</td>\n",
              "      <td>65.4</td>\n",
              "      <td>2020-05-03</td>\n",
              "    </tr>\n",
              "    <tr>\n",
              "      <th>3</th>\n",
              "      <td>45.1</td>\n",
              "      <td>0.58</td>\n",
              "      <td>28.9</td>\n",
              "      <td>29.8</td>\n",
              "      <td>7.6</td>\n",
              "      <td>11.8</td>\n",
              "      <td>248</td>\n",
              "      <td>0.37</td>\n",
              "      <td>2.77</td>\n",
              "      <td>0.01</td>\n",
              "      <td>52.2</td>\n",
              "      <td>38.5</td>\n",
              "      <td>0.94</td>\n",
              "      <td>0.28</td>\n",
              "      <td>30.024</td>\n",
              "      <td>29.604</td>\n",
              "      <td>25.3</td>\n",
              "      <td>36.8</td>\n",
              "      <td>52.2</td>\n",
              "      <td>2020-05-04</td>\n",
              "    </tr>\n",
              "    <tr>\n",
              "      <th>4</th>\n",
              "      <td>48.7</td>\n",
              "      <td>0.24</td>\n",
              "      <td>12.2</td>\n",
              "      <td>30.0</td>\n",
              "      <td>6.3</td>\n",
              "      <td>9.7</td>\n",
              "      <td>241</td>\n",
              "      <td>0.37</td>\n",
              "      <td>2.77</td>\n",
              "      <td>0.00</td>\n",
              "      <td>62.3</td>\n",
              "      <td>37.9</td>\n",
              "      <td>0.50</td>\n",
              "      <td>0.12</td>\n",
              "      <td>30.128</td>\n",
              "      <td>29.942</td>\n",
              "      <td>18.4</td>\n",
              "      <td>26.5</td>\n",
              "      <td>62.3</td>\n",
              "      <td>2020-05-05</td>\n",
              "    </tr>\n",
              "  </tbody>\n",
              "</table>\n",
              "</div>\n",
              "      <button class=\"colab-df-convert\" onclick=\"convertToInteractive('df-fcb09dcf-02df-43a6-a06b-0d775cc46cd9')\"\n",
              "              title=\"Convert this dataframe to an interactive table.\"\n",
              "              style=\"display:none;\">\n",
              "        \n",
              "  <svg xmlns=\"http://www.w3.org/2000/svg\" height=\"24px\"viewBox=\"0 0 24 24\"\n",
              "       width=\"24px\">\n",
              "    <path d=\"M0 0h24v24H0V0z\" fill=\"none\"/>\n",
              "    <path d=\"M18.56 5.44l.94 2.06.94-2.06 2.06-.94-2.06-.94-.94-2.06-.94 2.06-2.06.94zm-11 1L8.5 8.5l.94-2.06 2.06-.94-2.06-.94L8.5 2.5l-.94 2.06-2.06.94zm10 10l.94 2.06.94-2.06 2.06-.94-2.06-.94-.94-2.06-.94 2.06-2.06.94z\"/><path d=\"M17.41 7.96l-1.37-1.37c-.4-.4-.92-.59-1.43-.59-.52 0-1.04.2-1.43.59L10.3 9.45l-7.72 7.72c-.78.78-.78 2.05 0 2.83L4 21.41c.39.39.9.59 1.41.59.51 0 1.02-.2 1.41-.59l7.78-7.78 2.81-2.81c.8-.78.8-2.07 0-2.86zM5.41 20L4 18.59l7.72-7.72 1.47 1.35L5.41 20z\"/>\n",
              "  </svg>\n",
              "      </button>\n",
              "      \n",
              "  <style>\n",
              "    .colab-df-container {\n",
              "      display:flex;\n",
              "      flex-wrap:wrap;\n",
              "      gap: 12px;\n",
              "    }\n",
              "\n",
              "    .colab-df-convert {\n",
              "      background-color: #E8F0FE;\n",
              "      border: none;\n",
              "      border-radius: 50%;\n",
              "      cursor: pointer;\n",
              "      display: none;\n",
              "      fill: #1967D2;\n",
              "      height: 32px;\n",
              "      padding: 0 0 0 0;\n",
              "      width: 32px;\n",
              "    }\n",
              "\n",
              "    .colab-df-convert:hover {\n",
              "      background-color: #E2EBFA;\n",
              "      box-shadow: 0px 1px 2px rgba(60, 64, 67, 0.3), 0px 1px 3px 1px rgba(60, 64, 67, 0.15);\n",
              "      fill: #174EA6;\n",
              "    }\n",
              "\n",
              "    [theme=dark] .colab-df-convert {\n",
              "      background-color: #3B4455;\n",
              "      fill: #D2E3FC;\n",
              "    }\n",
              "\n",
              "    [theme=dark] .colab-df-convert:hover {\n",
              "      background-color: #434B5C;\n",
              "      box-shadow: 0px 1px 3px 1px rgba(0, 0, 0, 0.15);\n",
              "      filter: drop-shadow(0px 1px 2px rgba(0, 0, 0, 0.3));\n",
              "      fill: #FFFFFF;\n",
              "    }\n",
              "  </style>\n",
              "\n",
              "      <script>\n",
              "        const buttonEl =\n",
              "          document.querySelector('#df-fcb09dcf-02df-43a6-a06b-0d775cc46cd9 button.colab-df-convert');\n",
              "        buttonEl.style.display =\n",
              "          google.colab.kernel.accessAllowed ? 'block' : 'none';\n",
              "\n",
              "        async function convertToInteractive(key) {\n",
              "          const element = document.querySelector('#df-fcb09dcf-02df-43a6-a06b-0d775cc46cd9');\n",
              "          const dataTable =\n",
              "            await google.colab.kernel.invokeFunction('convertToInteractive',\n",
              "                                                     [key], {});\n",
              "          if (!dataTable) return;\n",
              "\n",
              "          const docLinkHtml = 'Like what you see? Visit the ' +\n",
              "            '<a target=\"_blank\" href=https://colab.research.google.com/notebooks/data_table.ipynb>data table notebook</a>'\n",
              "            + ' to learn more about interactive tables.';\n",
              "          element.innerHTML = '';\n",
              "          dataTable['output_type'] = 'display_data';\n",
              "          await google.colab.output.renderOutput(dataTable, element);\n",
              "          const docLink = document.createElement('div');\n",
              "          docLink.innerHTML = docLinkHtml;\n",
              "          element.appendChild(docLink);\n",
              "        }\n",
              "      </script>\n",
              "    </div>\n",
              "  </div>\n",
              "  "
            ]
          },
          "metadata": {},
          "execution_count": 44
        }
      ]
    },
    {
      "cell_type": "markdown",
      "source": [
        "#### Converting dataframe to csv file:"
      ],
      "metadata": {
        "id": "I44NLTQJral2"
      }
    },
    {
      "cell_type": "code",
      "source": [
        "weather_data.to_csv('weather_data.csv' , index = False)"
      ],
      "metadata": {
        "id": "sF43q8jwmadf"
      },
      "execution_count": null,
      "outputs": []
    },
    {
      "cell_type": "markdown",
      "source": [
        "#### Importing SQLite3 database and Creating the connection"
      ],
      "metadata": {
        "id": "vbfg1ywJrIrC"
      }
    },
    {
      "cell_type": "code",
      "source": [
        "import sqlite3\n",
        "conn = sqlite3.connect('weather_data.db')\n",
        "print('Database connection opened')"
      ],
      "metadata": {
        "colab": {
          "base_uri": "https://localhost:8080/"
        },
        "id": "QtPKw-rumedL",
        "outputId": "fcb42426-c735-4015-b38f-971a9d642a7f"
      },
      "execution_count": null,
      "outputs": [
        {
          "output_type": "stream",
          "name": "stdout",
          "text": [
            "Database connection opened\n"
          ]
        }
      ]
    },
    {
      "cell_type": "code",
      "source": [
        "conn"
      ],
      "metadata": {
        "colab": {
          "base_uri": "https://localhost:8080/"
        },
        "id": "RhxQVfLqmiWY",
        "outputId": "90f6b483-b772-4df2-d2d7-495e0f7d990d"
      },
      "execution_count": null,
      "outputs": [
        {
          "output_type": "execute_result",
          "data": {
            "text/plain": [
              "<sqlite3.Connection at 0x7f6acc1a61f0>"
            ]
          },
          "metadata": {},
          "execution_count": 61
        }
      ]
    },
    {
      "cell_type": "code",
      "source": [
        "# conn.execute('drop table Weather')"
      ],
      "metadata": {
        "colab": {
          "base_uri": "https://localhost:8080/"
        },
        "id": "KOXYEYTCsnfS",
        "outputId": "9ffa7ead-a6dc-4ec0-de86-4231b8b93273"
      },
      "execution_count": null,
      "outputs": [
        {
          "output_type": "execute_result",
          "data": {
            "text/plain": [
              "<sqlite3.Cursor at 0x7f6acc17cea0>"
            ]
          },
          "metadata": {},
          "execution_count": 62
        }
      ]
    },
    {
      "cell_type": "markdown",
      "source": [
        "#### Creating the table Weather :"
      ],
      "metadata": {
        "id": "OuSlYMGSrQ-4"
      }
    },
    {
      "cell_type": "code",
      "source": [
        "try:\n",
        "    conn.execute('''\n",
        "        CREATE TABLE Weather\n",
        "        (\n",
        "        average_temperature Float DEFAULT 0,\n",
        "        average_humidity Float DEFAULT 0,\n",
        "        average_dewpoint Float DEFAULT 0,\n",
        "        average_barometer Float DEFAULT 0,\n",
        "        average_windspeed Float DEFAULT 0,\n",
        "        average_gustspeed Float DEFAULT 0,\n",
        "        average_direction Float DEFAULT 0,\n",
        "        rainfall_for_month Float DEFAULT 0,\n",
        "        rainfall_for_year Float DEFAULT 0,\n",
        "        maximum_rain_per_minute FLOAT DEFAULT 0, \n",
        "        maximum_temperature Float DEFAULT 0,\n",
        "        minimum_temperature Float DEFAULT 0,\n",
        "        maximum_humidity Float DEFAULT 0,\n",
        "        minimum_humidity Float DEFAULT 0,\n",
        "        maximum_pressure Float DEFAULT 0,\n",
        "        minimum_pressure Float DEFAULT 0,\n",
        "        maximum_windspeed Float DEFAULT 0,\n",
        "        maximum_gust_speed Float DEFAULT 0,\n",
        "        maximum_heat_index Float DEFAULT 0,\n",
        "        date timespamp); \n",
        "        ''')\n",
        "    print('Weather table has been created')\n",
        "    \n",
        "    conn.commit()\n",
        "    \n",
        "except Exception as e:\n",
        "    print(str(e))\n",
        "    print('Table Creation Failed')\n",
        "    \n",
        "finally: \n",
        "    conn.close()"
      ],
      "metadata": {
        "colab": {
          "base_uri": "https://localhost:8080/"
        },
        "id": "t50cAas3mnDb",
        "outputId": "8cbf36cb-a59e-4361-86e4-6aa806870956"
      },
      "execution_count": null,
      "outputs": [
        {
          "output_type": "stream",
          "name": "stdout",
          "text": [
            "Weather table has been created\n"
          ]
        }
      ]
    },
    {
      "cell_type": "code",
      "source": [
        "# get values of pandasDataFrame to list of list\n",
        "weather_data_list = weather_data.astype('str').values.tolist()"
      ],
      "metadata": {
        "id": "TUnKXZTQmxDS"
      },
      "execution_count": null,
      "outputs": []
    },
    {
      "cell_type": "code",
      "source": [
        "conn = sqlite3.connect('weather_data.db')\n",
        "cur = conn.cursor()"
      ],
      "metadata": {
        "id": "8uWQMQysmziX"
      },
      "execution_count": null,
      "outputs": []
    },
    {
      "cell_type": "markdown",
      "source": [
        "#### Inserting values to the table:"
      ],
      "metadata": {
        "id": "M3xwiOXary1R"
      }
    },
    {
      "cell_type": "code",
      "source": [
        "# insert values to database\n",
        "try: \n",
        "    cur.executemany(''' INSERT INTO Weather \n",
        "                        (average_temperature, \n",
        "                        average_humidity, \n",
        "                        average_dewpoint,\\\n",
        "                        average_barometer,\n",
        "                        average_windspeed, \n",
        "                        average_gustspeed, \n",
        "                        average_direction,\\\n",
        "                        rainfall_for_month, \n",
        "                        rainfall_for_year, \n",
        "                        maximum_rain_per_minute, \n",
        "                        maximum_temperature,\\\n",
        "                        minimum_temperature,\n",
        "                        maximum_humidity, \n",
        "                        minimum_humidity, \n",
        "                        maximum_pressure, \n",
        "                        minimum_pressure, \\\n",
        "                        maximum_windspeed, \n",
        "                        maximum_gust_speed,  \n",
        "                        maximum_heat_index,\n",
        "                        date) \n",
        "                    VALUES (?,?,?,?,?,?,?,?,?,?,?,?,?,?,?,?,?,?,?,?)''',weather_data_list)\n",
        "    conn.commit()\n",
        "\n",
        "    print('Weather data inserted successfully')\n",
        "    \n",
        "except Exception as e:\n",
        "    \n",
        "    print(str(e))\n",
        "    print(\"Weather data insertion failed\")\n"
      ],
      "metadata": {
        "colab": {
          "base_uri": "https://localhost:8080/"
        },
        "id": "HGku3Mokm1qX",
        "outputId": "51b92e3a-930d-439a-cc29-0da7400be48a"
      },
      "execution_count": null,
      "outputs": [
        {
          "output_type": "stream",
          "name": "stdout",
          "text": [
            "Weather data inserted successfully\n"
          ]
        }
      ]
    },
    {
      "cell_type": "markdown",
      "source": [
        "#### Writing queries to grab info from the database : "
      ],
      "metadata": {
        "id": "DojZO-E7tkgc"
      }
    },
    {
      "cell_type": "markdown",
      "source": [
        "#### Max Windspeed bwteen the dates 3rd May to 6th may : "
      ],
      "metadata": {
        "id": "UXLMD-2wuSB3"
      }
    },
    {
      "cell_type": "code",
      "source": [
        "for row in cur.execute('select maximum_windspeed from Weather where Date between \"2020-05-03\" and \"2020-05-06\" '):\n",
        "  print(row)\n"
      ],
      "metadata": {
        "colab": {
          "base_uri": "https://localhost:8080/"
        },
        "id": "PxyvuTpdm7DP",
        "outputId": "18208bcf-2be0-404e-fb3b-3dfdc62268ee"
      },
      "execution_count": null,
      "outputs": [
        {
          "output_type": "stream",
          "name": "stdout",
          "text": [
            "(19.6,)\n",
            "(25.3,)\n",
            "(18.4,)\n",
            "(11.5,)\n"
          ]
        }
      ]
    },
    {
      "cell_type": "markdown",
      "source": [
        "#### The max average_temperature with date : "
      ],
      "metadata": {
        "id": "YZgUuxx1uIak"
      }
    },
    {
      "cell_type": "code",
      "source": [
        "for row in cur.execute('select Date, max(average_temperature) from Weather'):\n",
        "  print(row)"
      ],
      "metadata": {
        "colab": {
          "base_uri": "https://localhost:8080/"
        },
        "id": "UAxisoDQs6cF",
        "outputId": "b2c52f08-b209-491b-e524-2b3c4c2daf03"
      },
      "execution_count": null,
      "outputs": [
        {
          "output_type": "stream",
          "name": "stdout",
          "text": [
            "('2020-05-29', 63.1)\n"
          ]
        }
      ]
    },
    {
      "cell_type": "markdown",
      "source": [
        "#### Here is the displayed image of the SQLite3 database using DB Browser for Sqlite3"
      ],
      "metadata": {
        "id": "pfjmrBpsvnWs"
      }
    },
    {
      "cell_type": "code",
      "source": [
        "![picture](https://drive.google.com/file/d/1rEUr2mAxORVy6jSUNRaSZ_L9mvByKkIe/view?usp=sharing)"
      ],
      "metadata": {
        "colab": {
          "base_uri": "https://localhost:8080/"
        },
        "id": "hCVx5lc1vWoH",
        "outputId": "81485985-50d3-4694-8fd8-97dc7dde7c93"
      },
      "execution_count": null,
      "outputs": [
        {
          "output_type": "stream",
          "name": "stdout",
          "text": [
            "/bin/bash: -c: line 0: syntax error near unexpected token `https://drive.google.com/file/d/1rEUr2mAxORVy6jSUNRaSZ_L9mvByKkIe/view?usp=sharing'\n",
            "/bin/bash: -c: line 0: `[picture](https://drive.google.com/file/d/1rEUr2mAxORVy6jSUNRaSZ_L9mvByKkIe/view?usp=sharing)'\n"
          ]
        }
      ]
    },
    {
      "cell_type": "code",
      "source": [
        ""
      ],
      "metadata": {
        "id": "wNwqN0cIvkAX"
      },
      "execution_count": null,
      "outputs": []
    }
  ]
}